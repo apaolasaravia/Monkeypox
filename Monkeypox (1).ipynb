{
  "nbformat": 4,
  "nbformat_minor": 0,
  "metadata": {
    "colab": {
      "name": "Monkeypox.ipynb",
      "provenance": [],
      "collapsed_sections": []
    },
    "kernelspec": {
      "name": "python3",
      "display_name": "Python 3"
    },
    "language_info": {
      "name": "python"
    }
  },
  "cells": [
    {
      "cell_type": "markdown",
      "source": [
        "# **Análise de dados da Monkeypox no Brasil e no Mundo**"
      ],
      "metadata": {
        "id": "VFUSLwIrFC_O"
      }
    },
    {
      "cell_type": "markdown",
      "source": [
        "**1) Analisando a monkeypox no cenário mundial:**\n",
        "\n"
      ],
      "metadata": {
        "id": "1R9uebsLCYI4"
      }
    },
    {
      "cell_type": "code",
      "execution_count": 1,
      "metadata": {
        "id": "Gfu25fUh82GD"
      },
      "outputs": [],
      "source": [
        "#Importando o pandas:\n",
        "\n",
        "import pandas as pd\n",
        "\n",
        "#Importando o conjunto de dados:\n",
        "\n",
        "mp_mundo = pd.read_csv(\n",
        "    filepath_or_buffer='https://raw.githubusercontent.com/jonates/opendata/master/monkeypox/owid_monkeypox_data_20220815.csv',\n",
        "    sep = ',',\n",
        "    decimal = '.'\n",
        ")"
      ]
    },
    {
      "cell_type": "markdown",
      "source": [
        "**2) Estrutura do conjunto de dados**\n",
        "\n",
        "\n"
      ],
      "metadata": {
        "id": "lJicQl9rEYA0"
      }
    },
    {
      "cell_type": "code",
      "source": [
        "mp_mundo.head(10)"
      ],
      "metadata": {
        "colab": {
          "base_uri": "https://localhost:8080/",
          "height": 601
        },
        "id": "qe6crZvLEcLe",
        "outputId": "246c333e-d929-4581-c582-9f042aeb4f3c"
      },
      "execution_count": 2,
      "outputs": [
        {
          "output_type": "execute_result",
          "data": {
            "text/plain": [
              "  location        date  new_cases  new_cases_smoothed  total_cases  \\\n",
              "0  Andorra  2022-07-25        1.0                 NaN          1.0   \n",
              "1  Andorra  2022-07-26        2.0                 NaN          3.0   \n",
              "2  Andorra  2022-07-27        0.0                 NaN          3.0   \n",
              "3  Andorra  2022-07-28        0.0                 NaN          3.0   \n",
              "4  Andorra  2022-07-29        0.0                 NaN          3.0   \n",
              "5  Andorra  2022-07-30        0.0                 NaN          3.0   \n",
              "6  Andorra  2022-07-31        0.0                0.43          3.0   \n",
              "7  Andorra  2022-08-01        0.0                0.29          3.0   \n",
              "8  Andorra  2022-08-02        0.0                0.00          3.0   \n",
              "9  Andorra  2022-08-03        0.0                0.00          3.0   \n",
              "\n",
              "   new_cases_per_million  total_cases_per_million  \\\n",
              "0                 12.653                   12.653   \n",
              "1                 25.306                   37.958   \n",
              "2                  0.000                   37.958   \n",
              "3                  0.000                   37.958   \n",
              "4                  0.000                   37.958   \n",
              "5                  0.000                   37.958   \n",
              "6                  0.000                   37.958   \n",
              "7                  0.000                   37.958   \n",
              "8                  0.000                   37.958   \n",
              "9                  0.000                   37.958   \n",
              "\n",
              "   new_cases_smoothed_per_million  new_deaths  new_deaths_smoothed  \\\n",
              "0                             NaN         NaN                  NaN   \n",
              "1                             NaN         NaN                  NaN   \n",
              "2                             NaN         NaN                  NaN   \n",
              "3                             NaN         NaN                  NaN   \n",
              "4                             NaN         NaN                  NaN   \n",
              "5                             NaN         NaN                  NaN   \n",
              "6                           5.441         NaN                  NaN   \n",
              "7                           3.669         NaN                  NaN   \n",
              "8                           0.000         NaN                  NaN   \n",
              "9                           0.000         NaN                  NaN   \n",
              "\n",
              "   total_deaths  new_deaths_per_million  total_deaths_per_million  \\\n",
              "0           NaN                     NaN                       NaN   \n",
              "1           NaN                     NaN                       NaN   \n",
              "2           NaN                     NaN                       NaN   \n",
              "3           NaN                     NaN                       NaN   \n",
              "4           NaN                     NaN                       NaN   \n",
              "5           NaN                     NaN                       NaN   \n",
              "6           NaN                     NaN                       NaN   \n",
              "7           NaN                     NaN                       NaN   \n",
              "8           NaN                     NaN                       NaN   \n",
              "9           NaN                     NaN                       NaN   \n",
              "\n",
              "   new_deaths_smoothed_per_million  \n",
              "0                              NaN  \n",
              "1                              NaN  \n",
              "2                              NaN  \n",
              "3                              NaN  \n",
              "4                              NaN  \n",
              "5                              NaN  \n",
              "6                              NaN  \n",
              "7                              NaN  \n",
              "8                              NaN  \n",
              "9                              NaN  "
            ],
            "text/html": [
              "\n",
              "  <div id=\"df-331edf1a-6a22-403e-a764-517f70dd6fc1\">\n",
              "    <div class=\"colab-df-container\">\n",
              "      <div>\n",
              "<style scoped>\n",
              "    .dataframe tbody tr th:only-of-type {\n",
              "        vertical-align: middle;\n",
              "    }\n",
              "\n",
              "    .dataframe tbody tr th {\n",
              "        vertical-align: top;\n",
              "    }\n",
              "\n",
              "    .dataframe thead th {\n",
              "        text-align: right;\n",
              "    }\n",
              "</style>\n",
              "<table border=\"1\" class=\"dataframe\">\n",
              "  <thead>\n",
              "    <tr style=\"text-align: right;\">\n",
              "      <th></th>\n",
              "      <th>location</th>\n",
              "      <th>date</th>\n",
              "      <th>new_cases</th>\n",
              "      <th>new_cases_smoothed</th>\n",
              "      <th>total_cases</th>\n",
              "      <th>new_cases_per_million</th>\n",
              "      <th>total_cases_per_million</th>\n",
              "      <th>new_cases_smoothed_per_million</th>\n",
              "      <th>new_deaths</th>\n",
              "      <th>new_deaths_smoothed</th>\n",
              "      <th>total_deaths</th>\n",
              "      <th>new_deaths_per_million</th>\n",
              "      <th>total_deaths_per_million</th>\n",
              "      <th>new_deaths_smoothed_per_million</th>\n",
              "    </tr>\n",
              "  </thead>\n",
              "  <tbody>\n",
              "    <tr>\n",
              "      <th>0</th>\n",
              "      <td>Andorra</td>\n",
              "      <td>2022-07-25</td>\n",
              "      <td>1.0</td>\n",
              "      <td>NaN</td>\n",
              "      <td>1.0</td>\n",
              "      <td>12.653</td>\n",
              "      <td>12.653</td>\n",
              "      <td>NaN</td>\n",
              "      <td>NaN</td>\n",
              "      <td>NaN</td>\n",
              "      <td>NaN</td>\n",
              "      <td>NaN</td>\n",
              "      <td>NaN</td>\n",
              "      <td>NaN</td>\n",
              "    </tr>\n",
              "    <tr>\n",
              "      <th>1</th>\n",
              "      <td>Andorra</td>\n",
              "      <td>2022-07-26</td>\n",
              "      <td>2.0</td>\n",
              "      <td>NaN</td>\n",
              "      <td>3.0</td>\n",
              "      <td>25.306</td>\n",
              "      <td>37.958</td>\n",
              "      <td>NaN</td>\n",
              "      <td>NaN</td>\n",
              "      <td>NaN</td>\n",
              "      <td>NaN</td>\n",
              "      <td>NaN</td>\n",
              "      <td>NaN</td>\n",
              "      <td>NaN</td>\n",
              "    </tr>\n",
              "    <tr>\n",
              "      <th>2</th>\n",
              "      <td>Andorra</td>\n",
              "      <td>2022-07-27</td>\n",
              "      <td>0.0</td>\n",
              "      <td>NaN</td>\n",
              "      <td>3.0</td>\n",
              "      <td>0.000</td>\n",
              "      <td>37.958</td>\n",
              "      <td>NaN</td>\n",
              "      <td>NaN</td>\n",
              "      <td>NaN</td>\n",
              "      <td>NaN</td>\n",
              "      <td>NaN</td>\n",
              "      <td>NaN</td>\n",
              "      <td>NaN</td>\n",
              "    </tr>\n",
              "    <tr>\n",
              "      <th>3</th>\n",
              "      <td>Andorra</td>\n",
              "      <td>2022-07-28</td>\n",
              "      <td>0.0</td>\n",
              "      <td>NaN</td>\n",
              "      <td>3.0</td>\n",
              "      <td>0.000</td>\n",
              "      <td>37.958</td>\n",
              "      <td>NaN</td>\n",
              "      <td>NaN</td>\n",
              "      <td>NaN</td>\n",
              "      <td>NaN</td>\n",
              "      <td>NaN</td>\n",
              "      <td>NaN</td>\n",
              "      <td>NaN</td>\n",
              "    </tr>\n",
              "    <tr>\n",
              "      <th>4</th>\n",
              "      <td>Andorra</td>\n",
              "      <td>2022-07-29</td>\n",
              "      <td>0.0</td>\n",
              "      <td>NaN</td>\n",
              "      <td>3.0</td>\n",
              "      <td>0.000</td>\n",
              "      <td>37.958</td>\n",
              "      <td>NaN</td>\n",
              "      <td>NaN</td>\n",
              "      <td>NaN</td>\n",
              "      <td>NaN</td>\n",
              "      <td>NaN</td>\n",
              "      <td>NaN</td>\n",
              "      <td>NaN</td>\n",
              "    </tr>\n",
              "    <tr>\n",
              "      <th>5</th>\n",
              "      <td>Andorra</td>\n",
              "      <td>2022-07-30</td>\n",
              "      <td>0.0</td>\n",
              "      <td>NaN</td>\n",
              "      <td>3.0</td>\n",
              "      <td>0.000</td>\n",
              "      <td>37.958</td>\n",
              "      <td>NaN</td>\n",
              "      <td>NaN</td>\n",
              "      <td>NaN</td>\n",
              "      <td>NaN</td>\n",
              "      <td>NaN</td>\n",
              "      <td>NaN</td>\n",
              "      <td>NaN</td>\n",
              "    </tr>\n",
              "    <tr>\n",
              "      <th>6</th>\n",
              "      <td>Andorra</td>\n",
              "      <td>2022-07-31</td>\n",
              "      <td>0.0</td>\n",
              "      <td>0.43</td>\n",
              "      <td>3.0</td>\n",
              "      <td>0.000</td>\n",
              "      <td>37.958</td>\n",
              "      <td>5.441</td>\n",
              "      <td>NaN</td>\n",
              "      <td>NaN</td>\n",
              "      <td>NaN</td>\n",
              "      <td>NaN</td>\n",
              "      <td>NaN</td>\n",
              "      <td>NaN</td>\n",
              "    </tr>\n",
              "    <tr>\n",
              "      <th>7</th>\n",
              "      <td>Andorra</td>\n",
              "      <td>2022-08-01</td>\n",
              "      <td>0.0</td>\n",
              "      <td>0.29</td>\n",
              "      <td>3.0</td>\n",
              "      <td>0.000</td>\n",
              "      <td>37.958</td>\n",
              "      <td>3.669</td>\n",
              "      <td>NaN</td>\n",
              "      <td>NaN</td>\n",
              "      <td>NaN</td>\n",
              "      <td>NaN</td>\n",
              "      <td>NaN</td>\n",
              "      <td>NaN</td>\n",
              "    </tr>\n",
              "    <tr>\n",
              "      <th>8</th>\n",
              "      <td>Andorra</td>\n",
              "      <td>2022-08-02</td>\n",
              "      <td>0.0</td>\n",
              "      <td>0.00</td>\n",
              "      <td>3.0</td>\n",
              "      <td>0.000</td>\n",
              "      <td>37.958</td>\n",
              "      <td>0.000</td>\n",
              "      <td>NaN</td>\n",
              "      <td>NaN</td>\n",
              "      <td>NaN</td>\n",
              "      <td>NaN</td>\n",
              "      <td>NaN</td>\n",
              "      <td>NaN</td>\n",
              "    </tr>\n",
              "    <tr>\n",
              "      <th>9</th>\n",
              "      <td>Andorra</td>\n",
              "      <td>2022-08-03</td>\n",
              "      <td>0.0</td>\n",
              "      <td>0.00</td>\n",
              "      <td>3.0</td>\n",
              "      <td>0.000</td>\n",
              "      <td>37.958</td>\n",
              "      <td>0.000</td>\n",
              "      <td>NaN</td>\n",
              "      <td>NaN</td>\n",
              "      <td>NaN</td>\n",
              "      <td>NaN</td>\n",
              "      <td>NaN</td>\n",
              "      <td>NaN</td>\n",
              "    </tr>\n",
              "  </tbody>\n",
              "</table>\n",
              "</div>\n",
              "      <button class=\"colab-df-convert\" onclick=\"convertToInteractive('df-331edf1a-6a22-403e-a764-517f70dd6fc1')\"\n",
              "              title=\"Convert this dataframe to an interactive table.\"\n",
              "              style=\"display:none;\">\n",
              "        \n",
              "  <svg xmlns=\"http://www.w3.org/2000/svg\" height=\"24px\"viewBox=\"0 0 24 24\"\n",
              "       width=\"24px\">\n",
              "    <path d=\"M0 0h24v24H0V0z\" fill=\"none\"/>\n",
              "    <path d=\"M18.56 5.44l.94 2.06.94-2.06 2.06-.94-2.06-.94-.94-2.06-.94 2.06-2.06.94zm-11 1L8.5 8.5l.94-2.06 2.06-.94-2.06-.94L8.5 2.5l-.94 2.06-2.06.94zm10 10l.94 2.06.94-2.06 2.06-.94-2.06-.94-.94-2.06-.94 2.06-2.06.94z\"/><path d=\"M17.41 7.96l-1.37-1.37c-.4-.4-.92-.59-1.43-.59-.52 0-1.04.2-1.43.59L10.3 9.45l-7.72 7.72c-.78.78-.78 2.05 0 2.83L4 21.41c.39.39.9.59 1.41.59.51 0 1.02-.2 1.41-.59l7.78-7.78 2.81-2.81c.8-.78.8-2.07 0-2.86zM5.41 20L4 18.59l7.72-7.72 1.47 1.35L5.41 20z\"/>\n",
              "  </svg>\n",
              "      </button>\n",
              "      \n",
              "  <style>\n",
              "    .colab-df-container {\n",
              "      display:flex;\n",
              "      flex-wrap:wrap;\n",
              "      gap: 12px;\n",
              "    }\n",
              "\n",
              "    .colab-df-convert {\n",
              "      background-color: #E8F0FE;\n",
              "      border: none;\n",
              "      border-radius: 50%;\n",
              "      cursor: pointer;\n",
              "      display: none;\n",
              "      fill: #1967D2;\n",
              "      height: 32px;\n",
              "      padding: 0 0 0 0;\n",
              "      width: 32px;\n",
              "    }\n",
              "\n",
              "    .colab-df-convert:hover {\n",
              "      background-color: #E2EBFA;\n",
              "      box-shadow: 0px 1px 2px rgba(60, 64, 67, 0.3), 0px 1px 3px 1px rgba(60, 64, 67, 0.15);\n",
              "      fill: #174EA6;\n",
              "    }\n",
              "\n",
              "    [theme=dark] .colab-df-convert {\n",
              "      background-color: #3B4455;\n",
              "      fill: #D2E3FC;\n",
              "    }\n",
              "\n",
              "    [theme=dark] .colab-df-convert:hover {\n",
              "      background-color: #434B5C;\n",
              "      box-shadow: 0px 1px 3px 1px rgba(0, 0, 0, 0.15);\n",
              "      filter: drop-shadow(0px 1px 2px rgba(0, 0, 0, 0.3));\n",
              "      fill: #FFFFFF;\n",
              "    }\n",
              "  </style>\n",
              "\n",
              "      <script>\n",
              "        const buttonEl =\n",
              "          document.querySelector('#df-331edf1a-6a22-403e-a764-517f70dd6fc1 button.colab-df-convert');\n",
              "        buttonEl.style.display =\n",
              "          google.colab.kernel.accessAllowed ? 'block' : 'none';\n",
              "\n",
              "        async function convertToInteractive(key) {\n",
              "          const element = document.querySelector('#df-331edf1a-6a22-403e-a764-517f70dd6fc1');\n",
              "          const dataTable =\n",
              "            await google.colab.kernel.invokeFunction('convertToInteractive',\n",
              "                                                     [key], {});\n",
              "          if (!dataTable) return;\n",
              "\n",
              "          const docLinkHtml = 'Like what you see? Visit the ' +\n",
              "            '<a target=\"_blank\" href=https://colab.research.google.com/notebooks/data_table.ipynb>data table notebook</a>'\n",
              "            + ' to learn more about interactive tables.';\n",
              "          element.innerHTML = '';\n",
              "          dataTable['output_type'] = 'display_data';\n",
              "          await google.colab.output.renderOutput(dataTable, element);\n",
              "          const docLink = document.createElement('div');\n",
              "          docLink.innerHTML = docLinkHtml;\n",
              "          element.appendChild(docLink);\n",
              "        }\n",
              "      </script>\n",
              "    </div>\n",
              "  </div>\n",
              "  "
            ]
          },
          "metadata": {},
          "execution_count": 2
        }
      ]
    },
    {
      "cell_type": "code",
      "source": [
        "#Analisando o tipo das estruturas dos dados:\n",
        "\n",
        "mp_mundo.info()"
      ],
      "metadata": {
        "colab": {
          "base_uri": "https://localhost:8080/"
        },
        "id": "2glbPlI5G9Z4",
        "outputId": "13b33763-bc9c-4e34-ac19-c8fa65cc71f4"
      },
      "execution_count": 3,
      "outputs": [
        {
          "output_type": "stream",
          "name": "stdout",
          "text": [
            "<class 'pandas.core.frame.DataFrame'>\n",
            "RangeIndex: 3909 entries, 0 to 3908\n",
            "Data columns (total 14 columns):\n",
            " #   Column                           Non-Null Count  Dtype  \n",
            "---  ------                           --------------  -----  \n",
            " 0   location                         3909 non-null   object \n",
            " 1   date                             3909 non-null   object \n",
            " 2   new_cases                        3909 non-null   float64\n",
            " 3   new_cases_smoothed               3464 non-null   float64\n",
            " 4   total_cases                      3909 non-null   float64\n",
            " 5   new_cases_per_million            3909 non-null   float64\n",
            " 6   total_cases_per_million          3909 non-null   float64\n",
            " 7   new_cases_smoothed_per_million   3464 non-null   float64\n",
            " 8   new_deaths                       143 non-null    float64\n",
            " 9   new_deaths_smoothed              124 non-null    float64\n",
            " 10  total_deaths                     143 non-null    float64\n",
            " 11  new_deaths_per_million           143 non-null    float64\n",
            " 12  total_deaths_per_million         143 non-null    float64\n",
            " 13  new_deaths_smoothed_per_million  124 non-null    float64\n",
            "dtypes: float64(12), object(2)\n",
            "memory usage: 427.7+ KB\n"
          ]
        }
      ]
    },
    {
      "cell_type": "code",
      "source": [
        "#Transformando a variável date:\n",
        "\n",
        "mp_mundo['date']=pd.to_datetime(mp_mundo['date'], infer_datetime_format=True)\n"
      ],
      "metadata": {
        "id": "cqV7eMPOHZmA"
      },
      "execution_count": 4,
      "outputs": []
    },
    {
      "cell_type": "code",
      "source": [
        "mp_mundo.info()"
      ],
      "metadata": {
        "colab": {
          "base_uri": "https://localhost:8080/"
        },
        "id": "5-AKWTElIEN7",
        "outputId": "f805fc2b-b495-4178-b512-d28c229b50a1"
      },
      "execution_count": 5,
      "outputs": [
        {
          "output_type": "stream",
          "name": "stdout",
          "text": [
            "<class 'pandas.core.frame.DataFrame'>\n",
            "RangeIndex: 3909 entries, 0 to 3908\n",
            "Data columns (total 14 columns):\n",
            " #   Column                           Non-Null Count  Dtype         \n",
            "---  ------                           --------------  -----         \n",
            " 0   location                         3909 non-null   object        \n",
            " 1   date                             3909 non-null   datetime64[ns]\n",
            " 2   new_cases                        3909 non-null   float64       \n",
            " 3   new_cases_smoothed               3464 non-null   float64       \n",
            " 4   total_cases                      3909 non-null   float64       \n",
            " 5   new_cases_per_million            3909 non-null   float64       \n",
            " 6   total_cases_per_million          3909 non-null   float64       \n",
            " 7   new_cases_smoothed_per_million   3464 non-null   float64       \n",
            " 8   new_deaths                       143 non-null    float64       \n",
            " 9   new_deaths_smoothed              124 non-null    float64       \n",
            " 10  total_deaths                     143 non-null    float64       \n",
            " 11  new_deaths_per_million           143 non-null    float64       \n",
            " 12  total_deaths_per_million         143 non-null    float64       \n",
            " 13  new_deaths_smoothed_per_million  124 non-null    float64       \n",
            "dtypes: datetime64[ns](1), float64(12), object(1)\n",
            "memory usage: 427.7+ KB\n"
          ]
        }
      ]
    },
    {
      "cell_type": "markdown",
      "source": [
        "**3) Visualização da Monkeypox no mundo:**\n",
        "\n"
      ],
      "metadata": {
        "id": "CviigdMYID1w"
      }
    },
    {
      "cell_type": "code",
      "source": [
        "# Analisando o primeiro registro da doença no mundo:\n",
        "\n",
        "mp_mundo.date.min()"
      ],
      "metadata": {
        "colab": {
          "base_uri": "https://localhost:8080/"
        },
        "id": "iYDJ5W6SIc_v",
        "outputId": "7d91e3f1-ec2f-45ea-cc57-dbaccb3d940c"
      },
      "execution_count": 6,
      "outputs": [
        {
          "output_type": "execute_result",
          "data": {
            "text/plain": [
              "Timestamp('2022-05-06 00:00:00')"
            ]
          },
          "metadata": {},
          "execution_count": 6
        }
      ]
    },
    {
      "cell_type": "code",
      "source": [
        "# Evolução da monkeypox no mundo:\n",
        "\n",
        "mp_mundo.query('location==\"World\"').plot.line('date', 'total_cases')"
      ],
      "metadata": {
        "colab": {
          "base_uri": "https://localhost:8080/",
          "height": 308
        },
        "id": "ugomyABOI4Oh",
        "outputId": "c31d61f8-b469-4907-f61b-f9abb46abc33"
      },
      "execution_count": 7,
      "outputs": [
        {
          "output_type": "execute_result",
          "data": {
            "text/plain": [
              "<matplotlib.axes._subplots.AxesSubplot at 0x7f3234dcb950>"
            ]
          },
          "metadata": {},
          "execution_count": 7
        },
        {
          "output_type": "display_data",
          "data": {
            "text/plain": [
              "<Figure size 432x288 with 1 Axes>"
            ],
            "image/png": "[encoded data removed]"
          },
          "metadata": {
            "needs_background": "light"
          }
        }
      ]
    },
    {
      "cell_type": "code",
      "source": [
        "#Customização do gráfico:\n",
        "\n",
        "mp_mundo\\\n",
        "  .query('location == \"World\"')\\\n",
        "  .plot.line(\n",
        "      x='date',\n",
        "      y='total_cases',\n",
        "      color='blue',\n",
        "      marker='o',\n",
        "      linestyle = '--',\n",
        "      figsize=(20,6),\n",
        "      title='Evolução da Monkeypox no mundo: 06/05/2022 a 14/08/2022',\n",
        "      ylabel='Total de casos de Monkeypox resgistrados',\n",
        "      xlabel='Data'\n",
        "  );"
      ],
      "metadata": {
        "colab": {
          "base_uri": "https://localhost:8080/",
          "height": 416
        },
        "id": "w3G1ipDqLTFy",
        "outputId": "b5b3950a-5765-4414-e3ab-d28c25608cb7"
      },
      "execution_count": 9,
      "outputs": [
        {
          "output_type": "display_data",
          "data": {
            "text/plain": [
              "<Figure size 1440x432 with 1 Axes>"
            ],
            "image/png": "[encoded data removed]"
          },
          "metadata": {
            "needs_background": "light"
          }
        }
      ]
    },
    {
      "cell_type": "markdown",
      "source": [
        "Nota-se que os dados estão em crescimento exponencial desde que iniciaram seus registros em maio de 2022. Até a presente data, já são aproximadamente 35 mil casos registrados."
      ],
      "metadata": {
        "id": "4-j9cNBDFpl4"
      }
    },
    {
      "cell_type": "markdown",
      "source": [
        "**4) Casos de Monkeypox no mundo:**"
      ],
      "metadata": {
        "id": "2TRyvQbi3Suc"
      }
    },
    {
      "cell_type": "code",
      "source": [
        "#verificando os países que já tiveram casos de monkeypox:\n",
        "\n",
        "paises_com_monkeypox=pd.unique(mp_mundo['location'])\n",
        "print(paises_com_monkeypox)"
      ],
      "metadata": {
        "colab": {
          "base_uri": "https://localhost:8080/"
        },
        "id": "dTZZJPqM3cXO",
        "outputId": "175b9e42-039b-4a3e-c03f-5c063ef12f5f"
      },
      "execution_count": null,
      "outputs": [
        {
          "output_type": "stream",
          "name": "stdout",
          "text": [
            "['Andorra' 'Argentina' 'Australia' 'Austria' 'Barbados' 'Belgium' 'Benin'\n",
            " 'Bermuda' 'Bolivia' 'Bosnia and Herzegovina' 'Brazil' 'Bulgaria'\n",
            " 'Cameroon' 'Canada' 'Central African Republic' 'Chile' 'Colombia' 'Congo'\n",
            " 'Costa Rica' 'Croatia' 'Cyprus' 'Czechia' 'Democratic Republic of Congo'\n",
            " 'Denmark' 'Dominican Republic' 'Ecuador' 'Estonia' 'Finland' 'France'\n",
            " 'Georgia' 'Germany' 'Ghana' 'Greece' 'Greenland' 'Guatemala' 'Honduras'\n",
            " 'Hungary' 'Iceland' 'India' 'Ireland' 'Israel' 'Italy' 'Jamaica' 'Japan'\n",
            " 'Latvia' 'Lebanon' 'Liberia' 'Lithuania' 'Luxembourg' 'Malta' 'Mexico'\n",
            " 'Moldova' 'Monaco' 'Montenegro' 'Morocco' 'Netherlands' 'New Caledonia'\n",
            " 'New Zealand' 'Nigeria' 'Norway' 'Panama' 'Peru' 'Philippines' 'Poland'\n",
            " 'Portugal' 'Puerto Rico' 'Qatar' 'Romania' 'Russia' 'Saudi Arabia'\n",
            " 'Serbia' 'Singapore' 'Slovakia' 'Slovenia' 'South Africa' 'South Korea'\n",
            " 'Spain' 'Sudan' 'Sweden' 'Switzerland' 'Taiwan' 'Thailand' 'Turkey'\n",
            " 'United Arab Emirates' 'United Kingdom' 'United States' 'Uruguay'\n",
            " 'Venezuela' 'World']\n"
          ]
        }
      ]
    },
    {
      "cell_type": "code",
      "source": [
        "#quantidade de países (retirando os dados acumulados - world)\n",
        "\n",
        "len(paises_com_monkeypox) - 1"
      ],
      "metadata": {
        "colab": {
          "base_uri": "https://localhost:8080/"
        },
        "id": "ozQ3ZUJ-4LHt",
        "outputId": "46fdce02-40c0-42fc-d448-456c7f4a30ca"
      },
      "execution_count": null,
      "outputs": [
        {
          "output_type": "execute_result",
          "data": {
            "text/plain": [
              "88"
            ]
          },
          "metadata": {},
          "execution_count": 11
        }
      ]
    },
    {
      "cell_type": "markdown",
      "source": [
        "Já há casos de Monkeypox em 88 países do globo, sendo que isso representa 45 % dos países do mundo."
      ],
      "metadata": {
        "id": "52PTNLbhGf6m"
      }
    },
    {
      "cell_type": "code",
      "source": [
        "#Núemo de casos por países:\n",
        "\n",
        "tab_casos_por_pais = mp_mundo\\\n",
        "  .query('location !=\"World\"')\\\n",
        "  .filter(items = ['location','new_cases'])\\\n",
        "  .groupby('location', as_index = True)\\\n",
        "  .agg({\"new_cases\":\"sum\"})\\\n",
        "  .reset_index()\\\n",
        "  .rename(columns={'new_cases':'total_cases'})\\\n",
        "  .sort_values('total_cases',ascending=False)\n",
        "\n",
        "#Verificando os 10 países com mais casos:\n",
        "\n",
        "tab_casos_por_pais.head(10)"
      ],
      "metadata": {
        "colab": {
          "base_uri": "https://localhost:8080/",
          "height": 363
        },
        "id": "MLf8lq4H5eEn",
        "outputId": "cea90add-efac-4e4e-ce54-15a0cd6bbcf5"
      },
      "execution_count": 10,
      "outputs": [
        {
          "output_type": "execute_result",
          "data": {
            "text/plain": [
              "          location  total_cases\n",
              "85   United States      11843.0\n",
              "76           Spain       5719.0\n",
              "30         Germany       3142.0\n",
              "84  United Kingdom       3023.0\n",
              "10          Brazil       2893.0\n",
              "28          France       2663.0\n",
              "13          Canada       1058.0\n",
              "55     Netherlands       1025.0\n",
              "61            Peru        775.0\n",
              "64        Portugal        770.0"
            ],
            "text/html": [
              "\n",
              "  <div id=\"df-bcb76be9-727c-4e57-bf8b-c73882b2836e\">\n",
              "    <div class=\"colab-df-container\">\n",
              "      <div>\n",
              "<style scoped>\n",
              "    .dataframe tbody tr th:only-of-type {\n",
              "        vertical-align: middle;\n",
              "    }\n",
              "\n",
              "    .dataframe tbody tr th {\n",
              "        vertical-align: top;\n",
              "    }\n",
              "\n",
              "    .dataframe thead th {\n",
              "        text-align: right;\n",
              "    }\n",
              "</style>\n",
              "<table border=\"1\" class=\"dataframe\">\n",
              "  <thead>\n",
              "    <tr style=\"text-align: right;\">\n",
              "      <th></th>\n",
              "      <th>location</th>\n",
              "      <th>total_cases</th>\n",
              "    </tr>\n",
              "  </thead>\n",
              "  <tbody>\n",
              "    <tr>\n",
              "      <th>85</th>\n",
              "      <td>United States</td>\n",
              "      <td>11843.0</td>\n",
              "    </tr>\n",
              "    <tr>\n",
              "      <th>76</th>\n",
              "      <td>Spain</td>\n",
              "      <td>5719.0</td>\n",
              "    </tr>\n",
              "    <tr>\n",
              "      <th>30</th>\n",
              "      <td>Germany</td>\n",
              "      <td>3142.0</td>\n",
              "    </tr>\n",
              "    <tr>\n",
              "      <th>84</th>\n",
              "      <td>United Kingdom</td>\n",
              "      <td>3023.0</td>\n",
              "    </tr>\n",
              "    <tr>\n",
              "      <th>10</th>\n",
              "      <td>Brazil</td>\n",
              "      <td>2893.0</td>\n",
              "    </tr>\n",
              "    <tr>\n",
              "      <th>28</th>\n",
              "      <td>France</td>\n",
              "      <td>2663.0</td>\n",
              "    </tr>\n",
              "    <tr>\n",
              "      <th>13</th>\n",
              "      <td>Canada</td>\n",
              "      <td>1058.0</td>\n",
              "    </tr>\n",
              "    <tr>\n",
              "      <th>55</th>\n",
              "      <td>Netherlands</td>\n",
              "      <td>1025.0</td>\n",
              "    </tr>\n",
              "    <tr>\n",
              "      <th>61</th>\n",
              "      <td>Peru</td>\n",
              "      <td>775.0</td>\n",
              "    </tr>\n",
              "    <tr>\n",
              "      <th>64</th>\n",
              "      <td>Portugal</td>\n",
              "      <td>770.0</td>\n",
              "    </tr>\n",
              "  </tbody>\n",
              "</table>\n",
              "</div>\n",
              "      <button class=\"colab-df-convert\" onclick=\"convertToInteractive('df-bcb76be9-727c-4e57-bf8b-c73882b2836e')\"\n",
              "              title=\"Convert this dataframe to an interactive table.\"\n",
              "              style=\"display:none;\">\n",
              "        \n",
              "  <svg xmlns=\"http://www.w3.org/2000/svg\" height=\"24px\"viewBox=\"0 0 24 24\"\n",
              "       width=\"24px\">\n",
              "    <path d=\"M0 0h24v24H0V0z\" fill=\"none\"/>\n",
              "    <path d=\"M18.56 5.44l.94 2.06.94-2.06 2.06-.94-2.06-.94-.94-2.06-.94 2.06-2.06.94zm-11 1L8.5 8.5l.94-2.06 2.06-.94-2.06-.94L8.5 2.5l-.94 2.06-2.06.94zm10 10l.94 2.06.94-2.06 2.06-.94-2.06-.94-.94-2.06-.94 2.06-2.06.94z\"/><path d=\"M17.41 7.96l-1.37-1.37c-.4-.4-.92-.59-1.43-.59-.52 0-1.04.2-1.43.59L10.3 9.45l-7.72 7.72c-.78.78-.78 2.05 0 2.83L4 21.41c.39.39.9.59 1.41.59.51 0 1.02-.2 1.41-.59l7.78-7.78 2.81-2.81c.8-.78.8-2.07 0-2.86zM5.41 20L4 18.59l7.72-7.72 1.47 1.35L5.41 20z\"/>\n",
              "  </svg>\n",
              "      </button>\n",
              "      \n",
              "  <style>\n",
              "    .colab-df-container {\n",
              "      display:flex;\n",
              "      flex-wrap:wrap;\n",
              "      gap: 12px;\n",
              "    }\n",
              "\n",
              "    .colab-df-convert {\n",
              "      background-color: #E8F0FE;\n",
              "      border: none;\n",
              "      border-radius: 50%;\n",
              "      cursor: pointer;\n",
              "      display: none;\n",
              "      fill: #1967D2;\n",
              "      height: 32px;\n",
              "      padding: 0 0 0 0;\n",
              "      width: 32px;\n",
              "    }\n",
              "\n",
              "    .colab-df-convert:hover {\n",
              "      background-color: #E2EBFA;\n",
              "      box-shadow: 0px 1px 2px rgba(60, 64, 67, 0.3), 0px 1px 3px 1px rgba(60, 64, 67, 0.15);\n",
              "      fill: #174EA6;\n",
              "    }\n",
              "\n",
              "    [theme=dark] .colab-df-convert {\n",
              "      background-color: #3B4455;\n",
              "      fill: #D2E3FC;\n",
              "    }\n",
              "\n",
              "    [theme=dark] .colab-df-convert:hover {\n",
              "      background-color: #434B5C;\n",
              "      box-shadow: 0px 1px 3px 1px rgba(0, 0, 0, 0.15);\n",
              "      filter: drop-shadow(0px 1px 2px rgba(0, 0, 0, 0.3));\n",
              "      fill: #FFFFFF;\n",
              "    }\n",
              "  </style>\n",
              "\n",
              "      <script>\n",
              "        const buttonEl =\n",
              "          document.querySelector('#df-bcb76be9-727c-4e57-bf8b-c73882b2836e button.colab-df-convert');\n",
              "        buttonEl.style.display =\n",
              "          google.colab.kernel.accessAllowed ? 'block' : 'none';\n",
              "\n",
              "        async function convertToInteractive(key) {\n",
              "          const element = document.querySelector('#df-bcb76be9-727c-4e57-bf8b-c73882b2836e');\n",
              "          const dataTable =\n",
              "            await google.colab.kernel.invokeFunction('convertToInteractive',\n",
              "                                                     [key], {});\n",
              "          if (!dataTable) return;\n",
              "\n",
              "          const docLinkHtml = 'Like what you see? Visit the ' +\n",
              "            '<a target=\"_blank\" href=https://colab.research.google.com/notebooks/data_table.ipynb>data table notebook</a>'\n",
              "            + ' to learn more about interactive tables.';\n",
              "          element.innerHTML = '';\n",
              "          dataTable['output_type'] = 'display_data';\n",
              "          await google.colab.output.renderOutput(dataTable, element);\n",
              "          const docLink = document.createElement('div');\n",
              "          docLink.innerHTML = docLinkHtml;\n",
              "          element.appendChild(docLink);\n",
              "        }\n",
              "      </script>\n",
              "    </div>\n",
              "  </div>\n",
              "  "
            ]
          },
          "metadata": {},
          "execution_count": 10
        }
      ]
    },
    {
      "cell_type": "markdown",
      "source": [
        "Os 5 países com mais casos são: EUA, Espanha, Alemanha, Reino Unido e Brasil."
      ],
      "metadata": {
        "id": "13507g00G4ad"
      }
    },
    {
      "cell_type": "markdown",
      "source": [
        "Analisado graficamente os casos de Monkeypox por países:"
      ],
      "metadata": {
        "id": "H39TmaqFDEP2"
      }
    },
    {
      "cell_type": "code",
      "source": [
        "#Importando a biblioteca Altair:\n",
        "\n",
        "import altair as alt\n",
        "\n",
        "# Customizando o gráfico de barras:\n",
        "\n",
        "barras=alt.Chart(\n",
        "    data=tab_casos_por_pais.head(10),\n",
        "    width=400,\n",
        "    height=300,\n",
        "    title = 'Países com mais casos de Monkeypox: 14/08/2022.'\n",
        "  ).mark_bar()\\\n",
        "  .encode(\n",
        "      y=alt.Y(\n",
        "          shorthand = 'total_cases:Q',\n",
        "          scale=alt.Scale(domain=(0, 12000)),\n",
        "          axis=alt.Axis(title = 'Total de casos registrados')\n",
        "      ),\n",
        "      x=alt.X(\n",
        "          shorthand = \"location:O\",\n",
        "          sort = '-y',\n",
        "          axis=alt.Axis(title='País')\n",
        "      )\n",
        ")\n",
        "\n",
        "#Definindo os rótulos\n",
        "\n",
        "textos=barras.mark_text(\n",
        "    align='center',\n",
        "    baseline='top',\n",
        "    dy=4,\n",
        "    color='black',\n",
        "    fontStyle='bold',\n",
        "    fontSize=12,\n",
        ").encode(text='total_cases:Q') \n",
        "\n",
        "#Confeccionando o gráfico de barras:\n",
        "\n",
        "(barras+textos).configure_mark(opacity=0.8, color='orange')\n"
      ],
      "metadata": {
        "colab": {
          "base_uri": "https://localhost:8080/",
          "height": 447
        },
        "id": "8694gYaH8B--",
        "outputId": "eda31d0e-bb83-45fd-fc4a-cc41ada53b5e"
      },
      "execution_count": 11,
      "outputs": [
        {
          "output_type": "execute_result",
          "data": {
            "text/html": [
              "\n",
              "<div id=\"altair-viz-db7c5e42afed46c49dfeb959546ad0bd\"></div>\n",
              "<script type=\"text/javascript\">\n",
              "  var VEGA_DEBUG = (typeof VEGA_DEBUG == \"undefined\") ? {} : VEGA_DEBUG;\n",
              "  (function(spec, embedOpt){\n",
              "    let outputDiv = document.currentScript.previousElementSibling;\n",
              "    if (outputDiv.id !== \"altair-viz-db7c5e42afed46c49dfeb959546ad0bd\") {\n",
              "      outputDiv = document.getElementById(\"altair-viz-db7c5e42afed46c49dfeb959546ad0bd\");\n",
              "    }\n",
              "    const paths = {\n",
              "      \"vega\": \"https://cdn.jsdelivr.net/npm//vega@5?noext\",\n",
              "      \"vega-lib\": \"https://cdn.jsdelivr.net/npm//vega-lib?noext\",\n",
              "      \"vega-lite\": \"https://cdn.jsdelivr.net/npm//vega-lite@4.17.0?noext\",\n",
              "      \"vega-embed\": \"https://cdn.jsdelivr.net/npm//vega-embed@6?noext\",\n",
              "    };\n",
              "\n",
              "    function maybeLoadScript(lib, version) {\n",
              "      var key = `${lib.replace(\"-\", \"\")}_version`;\n",
              "      return (VEGA_DEBUG[key] == version) ?\n",
              "        Promise.resolve(paths[lib]) :\n",
              "        new Promise(function(resolve, reject) {\n",
              "          var s = document.createElement('script');\n",
              "          document.getElementsByTagName(\"head\")[0].appendChild(s);\n",
              "          s.async = true;\n",
              "          s.onload = () => {\n",
              "            VEGA_DEBUG[key] = version;\n",
              "            return resolve(paths[lib]);\n",
              "          };\n",
              "          s.onerror = () => reject(`Error loading script: ${paths[lib]}`);\n",
              "          s.src = paths[lib];\n",
              "        });\n",
              "    }\n",
              "\n",
              "    function showError(err) {\n",
              "      outputDiv.innerHTML = `<div class=\"error\" style=\"color:red;\">${err}</div>`;\n",
              "      throw err;\n",
              "    }\n",
              "\n",
              "    function displayChart(vegaEmbed) {\n",
              "      vegaEmbed(outputDiv, spec, embedOpt)\n",
              "        .catch(err => showError(`Javascript Error: ${err.message}<br>This usually means there's a typo in your chart specification. See the javascript console for the full traceback.`));\n",
              "    }\n",
              "\n",
              "    if(typeof define === \"function\" && define.amd) {\n",
              "      requirejs.config({paths});\n",
              "      require([\"vega-embed\"], displayChart, err => showError(`Error loading script: ${err.message}`));\n",
              "    } else {\n",
              "      maybeLoadScript(\"vega\", \"5\")\n",
              "        .then(() => maybeLoadScript(\"vega-lite\", \"4.17.0\"))\n",
              "        .then(() => maybeLoadScript(\"vega-embed\", \"6\"))\n",
              "        .catch(showError)\n",
              "        .then(() => displayChart(vegaEmbed));\n",
              "    }\n",
              "  })({\"config\": {\"view\": {\"continuousWidth\": 400, \"continuousHeight\": 300}, \"mark\": {\"color\": \"orange\", \"opacity\": 0.8}}, \"layer\": [{\"mark\": \"bar\", \"encoding\": {\"x\": {\"axis\": {\"title\": \"Pa\\u00eds\"}, \"field\": \"location\", \"sort\": \"-y\", \"type\": \"ordinal\"}, \"y\": {\"axis\": {\"title\": \"Total de casos registrados\"}, \"field\": \"total_cases\", \"scale\": {\"domain\": [0, 12000]}, \"type\": \"quantitative\"}}, \"height\": 300, \"title\": \"Pa\\u00edses com mais casos de Monkeypox: 14/08/2022.\", \"width\": 400}, {\"mark\": {\"type\": \"text\", \"align\": \"center\", \"baseline\": \"top\", \"color\": \"black\", \"dy\": 4, \"fontSize\": 12, \"fontStyle\": \"bold\"}, \"encoding\": {\"text\": {\"field\": \"total_cases\", \"type\": \"quantitative\"}, \"x\": {\"axis\": {\"title\": \"Pa\\u00eds\"}, \"field\": \"location\", \"sort\": \"-y\", \"type\": \"ordinal\"}, \"y\": {\"axis\": {\"title\": \"Total de casos registrados\"}, \"field\": \"total_cases\", \"scale\": {\"domain\": [0, 12000]}, \"type\": \"quantitative\"}}, \"height\": 300, \"title\": \"Pa\\u00edses com mais casos de Monkeypox: 14/08/2022.\", \"width\": 400}], \"data\": {\"name\": \"data-3e2b9968d704e55db82ceb2f3bd2ef35\"}, \"$schema\": \"https://vega.github.io/schema/vega-lite/v4.17.0.json\", \"datasets\": {\"data-3e2b9968d704e55db82ceb2f3bd2ef35\": [{\"location\": \"United States\", \"total_cases\": 11843.0}, {\"location\": \"Spain\", \"total_cases\": 5719.0}, {\"location\": \"Germany\", \"total_cases\": 3142.0}, {\"location\": \"United Kingdom\", \"total_cases\": 3023.0}, {\"location\": \"Brazil\", \"total_cases\": 2893.0}, {\"location\": \"France\", \"total_cases\": 2663.0}, {\"location\": \"Canada\", \"total_cases\": 1058.0}, {\"location\": \"Netherlands\", \"total_cases\": 1025.0}, {\"location\": \"Peru\", \"total_cases\": 775.0}, {\"location\": \"Portugal\", \"total_cases\": 770.0}]}}, {\"mode\": \"vega-lite\"});\n",
              "</script>"
            ],
            "text/plain": [
              "alt.LayerChart(...)"
            ]
          },
          "metadata": {},
          "execution_count": 11
        }
      ]
    },
    {
      "cell_type": "markdown",
      "source": [
        "Nota-se que os EUA apresentam mais que o dobro de casos que o segundo colocado (Espanha). Os países que ocupam as sucessivas posições apresentam um decréscimo no número de casos de forma mais suave."
      ],
      "metadata": {
        "id": "AreB40aiHFdv"
      }
    },
    {
      "cell_type": "markdown",
      "source": [
        "**5) Óbitos por Monkeypox no mundo:**"
      ],
      "metadata": {
        "id": "DkqIhch43SrE"
      }
    },
    {
      "cell_type": "code",
      "source": [
        "#Óbitos por Monkeypox no mundo até dia 14/08/2022\n",
        "\n",
        "mp_mundo\\\n",
        "  .query('location != \"World\"')\\\n",
        "  .filter(items=['new_deaths'])\\\n",
        "  .sum()"
      ],
      "metadata": {
        "colab": {
          "base_uri": "https://localhost:8080/"
        },
        "id": "_6vi23ylzDTo",
        "outputId": "c3ea2457-1ffd-4ae2-fef4-afcf92ea031c"
      },
      "execution_count": 12,
      "outputs": [
        {
          "output_type": "execute_result",
          "data": {
            "text/plain": [
              "new_deaths    11.0\n",
              "dtype: float64"
            ]
          },
          "metadata": {},
          "execution_count": 12
        }
      ]
    },
    {
      "cell_type": "code",
      "source": [
        "#Óbitos por país:\n",
        "\n",
        "tab_obitos_por_pais = mp_mundo\\\n",
        "  .query('location != \"World\"')\\\n",
        "  .groupby('location', as_index = True)\\\n",
        "  .agg({\"new_deaths\":\"sum\"})\\\n",
        "  .reset_index()\\\n",
        "  .rename(columns={'new_deaths':'total_deaths'})\\\n",
        "  .sort_values('total_deaths', ascending = True)\\\n",
        "  .query('total_deaths != 0')\n",
        "\n",
        "tab_obitos_por_pais  \n",
        "\n"
      ],
      "metadata": {
        "colab": {
          "base_uri": "https://localhost:8080/",
          "height": 269
        },
        "id": "aWSWV7090nZa",
        "outputId": "105af50d-7752-4743-84cd-fb6f4b2802bb"
      },
      "execution_count": 13,
      "outputs": [
        {
          "output_type": "execute_result",
          "data": {
            "text/plain": [
              "   location  total_deaths\n",
              "10   Brazil           1.0\n",
              "31    Ghana           1.0\n",
              "25  Ecuador           1.0\n",
              "38    India           1.0\n",
              "61     Peru           1.0\n",
              "76    Spain           2.0\n",
              "58  Nigeria           4.0"
            ],
            "text/html": [
              "\n",
              "  <div id=\"df-9dd0bdb9-2ba1-4159-b96e-bae6f17781e1\">\n",
              "    <div class=\"colab-df-container\">\n",
              "      <div>\n",
              "<style scoped>\n",
              "    .dataframe tbody tr th:only-of-type {\n",
              "        vertical-align: middle;\n",
              "    }\n",
              "\n",
              "    .dataframe tbody tr th {\n",
              "        vertical-align: top;\n",
              "    }\n",
              "\n",
              "    .dataframe thead th {\n",
              "        text-align: right;\n",
              "    }\n",
              "</style>\n",
              "<table border=\"1\" class=\"dataframe\">\n",
              "  <thead>\n",
              "    <tr style=\"text-align: right;\">\n",
              "      <th></th>\n",
              "      <th>location</th>\n",
              "      <th>total_deaths</th>\n",
              "    </tr>\n",
              "  </thead>\n",
              "  <tbody>\n",
              "    <tr>\n",
              "      <th>10</th>\n",
              "      <td>Brazil</td>\n",
              "      <td>1.0</td>\n",
              "    </tr>\n",
              "    <tr>\n",
              "      <th>31</th>\n",
              "      <td>Ghana</td>\n",
              "      <td>1.0</td>\n",
              "    </tr>\n",
              "    <tr>\n",
              "      <th>25</th>\n",
              "      <td>Ecuador</td>\n",
              "      <td>1.0</td>\n",
              "    </tr>\n",
              "    <tr>\n",
              "      <th>38</th>\n",
              "      <td>India</td>\n",
              "      <td>1.0</td>\n",
              "    </tr>\n",
              "    <tr>\n",
              "      <th>61</th>\n",
              "      <td>Peru</td>\n",
              "      <td>1.0</td>\n",
              "    </tr>\n",
              "    <tr>\n",
              "      <th>76</th>\n",
              "      <td>Spain</td>\n",
              "      <td>2.0</td>\n",
              "    </tr>\n",
              "    <tr>\n",
              "      <th>58</th>\n",
              "      <td>Nigeria</td>\n",
              "      <td>4.0</td>\n",
              "    </tr>\n",
              "  </tbody>\n",
              "</table>\n",
              "</div>\n",
              "      <button class=\"colab-df-convert\" onclick=\"convertToInteractive('df-9dd0bdb9-2ba1-4159-b96e-bae6f17781e1')\"\n",
              "              title=\"Convert this dataframe to an interactive table.\"\n",
              "              style=\"display:none;\">\n",
              "        \n",
              "  <svg xmlns=\"http://www.w3.org/2000/svg\" height=\"24px\"viewBox=\"0 0 24 24\"\n",
              "       width=\"24px\">\n",
              "    <path d=\"M0 0h24v24H0V0z\" fill=\"none\"/>\n",
              "    <path d=\"M18.56 5.44l.94 2.06.94-2.06 2.06-.94-2.06-.94-.94-2.06-.94 2.06-2.06.94zm-11 1L8.5 8.5l.94-2.06 2.06-.94-2.06-.94L8.5 2.5l-.94 2.06-2.06.94zm10 10l.94 2.06.94-2.06 2.06-.94-2.06-.94-.94-2.06-.94 2.06-2.06.94z\"/><path d=\"M17.41 7.96l-1.37-1.37c-.4-.4-.92-.59-1.43-.59-.52 0-1.04.2-1.43.59L10.3 9.45l-7.72 7.72c-.78.78-.78 2.05 0 2.83L4 21.41c.39.39.9.59 1.41.59.51 0 1.02-.2 1.41-.59l7.78-7.78 2.81-2.81c.8-.78.8-2.07 0-2.86zM5.41 20L4 18.59l7.72-7.72 1.47 1.35L5.41 20z\"/>\n",
              "  </svg>\n",
              "      </button>\n",
              "      \n",
              "  <style>\n",
              "    .colab-df-container {\n",
              "      display:flex;\n",
              "      flex-wrap:wrap;\n",
              "      gap: 12px;\n",
              "    }\n",
              "\n",
              "    .colab-df-convert {\n",
              "      background-color: #E8F0FE;\n",
              "      border: none;\n",
              "      border-radius: 50%;\n",
              "      cursor: pointer;\n",
              "      display: none;\n",
              "      fill: #1967D2;\n",
              "      height: 32px;\n",
              "      padding: 0 0 0 0;\n",
              "      width: 32px;\n",
              "    }\n",
              "\n",
              "    .colab-df-convert:hover {\n",
              "      background-color: #E2EBFA;\n",
              "      box-shadow: 0px 1px 2px rgba(60, 64, 67, 0.3), 0px 1px 3px 1px rgba(60, 64, 67, 0.15);\n",
              "      fill: #174EA6;\n",
              "    }\n",
              "\n",
              "    [theme=dark] .colab-df-convert {\n",
              "      background-color: #3B4455;\n",
              "      fill: #D2E3FC;\n",
              "    }\n",
              "\n",
              "    [theme=dark] .colab-df-convert:hover {\n",
              "      background-color: #434B5C;\n",
              "      box-shadow: 0px 1px 3px 1px rgba(0, 0, 0, 0.15);\n",
              "      filter: drop-shadow(0px 1px 2px rgba(0, 0, 0, 0.3));\n",
              "      fill: #FFFFFF;\n",
              "    }\n",
              "  </style>\n",
              "\n",
              "      <script>\n",
              "        const buttonEl =\n",
              "          document.querySelector('#df-9dd0bdb9-2ba1-4159-b96e-bae6f17781e1 button.colab-df-convert');\n",
              "        buttonEl.style.display =\n",
              "          google.colab.kernel.accessAllowed ? 'block' : 'none';\n",
              "\n",
              "        async function convertToInteractive(key) {\n",
              "          const element = document.querySelector('#df-9dd0bdb9-2ba1-4159-b96e-bae6f17781e1');\n",
              "          const dataTable =\n",
              "            await google.colab.kernel.invokeFunction('convertToInteractive',\n",
              "                                                     [key], {});\n",
              "          if (!dataTable) return;\n",
              "\n",
              "          const docLinkHtml = 'Like what you see? Visit the ' +\n",
              "            '<a target=\"_blank\" href=https://colab.research.google.com/notebooks/data_table.ipynb>data table notebook</a>'\n",
              "            + ' to learn more about interactive tables.';\n",
              "          element.innerHTML = '';\n",
              "          dataTable['output_type'] = 'display_data';\n",
              "          await google.colab.output.renderOutput(dataTable, element);\n",
              "          const docLink = document.createElement('div');\n",
              "          docLink.innerHTML = docLinkHtml;\n",
              "          element.appendChild(docLink);\n",
              "        }\n",
              "      </script>\n",
              "    </div>\n",
              "  </div>\n",
              "  "
            ]
          },
          "metadata": {},
          "execution_count": 13
        }
      ]
    },
    {
      "cell_type": "markdown",
      "source": [
        "Analisando os óbitos graficamente:"
      ],
      "metadata": {
        "id": "JbeSIsniH198"
      }
    },
    {
      "cell_type": "code",
      "source": [
        "#Biblioteca Bokeh\n",
        "\n",
        "import bokeh.io\n",
        "import bokeh.plotting\n",
        "\n",
        "#Visualização de gráficos gerados pelo Bokeh em notebooks\n",
        "bokeh.io.output_notebook()"
      ],
      "metadata": {
        "id": "iZ_JU8bY3GmS"
      },
      "execution_count": 15,
      "outputs": []
    },
    {
      "cell_type": "code",
      "source": [
        "#Ajustando as configurações principais dos gráficos:\n",
        "\n",
        "graf_obitos_por_pais= bokeh.plotting.figure(\n",
        "    title = \"Total de óbitos por Monkeypox, por país, em 14/08/2022.\",\n",
        "    width= 600,\n",
        "    height=400,\n",
        "    x_axis_label =\"Total de óbitos registrados\",\n",
        "    y_axis_label = \"País\",\n",
        "    x_range=(0,5),\n",
        "    y_range=list(tab_obitos_por_pais['location'])\n",
        ")\n",
        "\n",
        "#Confeccionando o gráfico de barras:\n",
        "graf_obitos_por_pais.hbar(\n",
        "    y=tab_obitos_por_pais['location'],\n",
        "    right = tab_obitos_por_pais['total_deaths'],\n",
        "    height=0.5,\n",
        "    line_color=\"yellow\",\n",
        "    line_width=1,\n",
        "    fill_color=\"yellow\"\n",
        ")\n",
        "\n",
        "#Inserindo textos:\n",
        "\n",
        "graf_obitos_por_pais.text(\n",
        "    x=tab_obitos_por_pais['total_deaths']+0.1,\n",
        "    y=tab_obitos_por_pais['location'],\n",
        "    text=tab_obitos_por_pais['total_deaths'],\n",
        "    text_font_style='bold',\n",
        "    text_color=\"black\",\n",
        "    text_font_size={'value':'12px'}\n",
        ")\n",
        "\n",
        "#Gráfico de linhas com marcadores:\n",
        "\n",
        "bokeh.io.show(graf_obitos_por_pais)"
      ],
      "metadata": {
        "colab": {
          "base_uri": "https://localhost:8080/",
          "height": 417
        },
        "id": "WuxRIs7Z3siK",
        "outputId": "5dae5ab5-c2a3-407a-acc6-4f1ed4e7bb61"
      },
      "execution_count": 21,
      "outputs": [
        {
          "output_type": "display_data",
          "data": {
            "application/javascript": [
              "\n",
              "(function(root) {\n",
              "  function now() {\n",
              "    return new Date();\n",
              "  }\n",
              "\n",
              "  var force = true;\n",
              "\n",
              "  if (typeof root._bokeh_onload_callbacks === \"undefined\" || force === true) {\n",
              "    root._bokeh_onload_callbacks = [];\n",
              "    root._bokeh_is_loading = undefined;\n",
              "  }\n",
              "\n",
              "  var JS_MIME_TYPE = 'application/javascript';\n",
              "  var HTML_MIME_TYPE = 'text/html';\n",
              "  var EXEC_MIME_TYPE = 'application/vnd.bokehjs_exec.v0+json';\n",
              "  var CLASS_NAME = 'output_bokeh rendered_html';\n",
              "\n",
              "  /**\n",
              "   * Render data to the DOM node\n",
              "   */\n",
              "  function render(props, node) {\n",
              "    var script = document.createElement(\"script\");\n",
              "    node.appendChild(script);\n",
              "  }\n",
              "\n",
              "  /**\n",
              "   * Handle when an output is cleared or removed\n",
              "   */\n",
              "  function handleClearOutput(event, handle) {\n",
              "    var cell = handle.cell;\n",
              "\n",
              "    var id = cell.output_area._bokeh_element_id;\n",
              "    var server_id = cell.output_area._bokeh_server_id;\n",
              "    // Clean up Bokeh references\n",
              "    if (id != null && id in Bokeh.index) {\n",
              "      Bokeh.index[id].model.document.clear();\n",
              "      delete Bokeh.index[id];\n",
              "    }\n",
              "\n",
              "    if (server_id !== undefined) {\n",
              "      // Clean up Bokeh references\n",
              "      var cmd = \"from bokeh.io.state import curstate; print(curstate().uuid_to_server['\" + server_id + \"'].get_sessions()[0].document.roots[0]._id)\";\n",
              "      cell.notebook.kernel.execute(cmd, {\n",
              "        iopub: {\n",
              "          output: function(msg) {\n",
              "            var id = msg.content.text.trim();\n",
              "            if (id in Bokeh.index) {\n",
              "              Bokeh.index[id].model.document.clear();\n",
              "              delete Bokeh.index[id];\n",
              "            }\n",
              "          }\n",
              "        }\n",
              "      });\n",
              "      // Destroy server and session\n",
              "      var cmd = \"import bokeh.io.notebook as ion; ion.destroy_server('\" + server_id + \"')\";\n",
              "      cell.notebook.kernel.execute(cmd);\n",
              "    }\n",
              "  }\n",
              "\n",
              "  /**\n",
              "   * Handle when a new output is added\n",
              "   */\n",
              "  function handleAddOutput(event, handle) {\n",
              "    var output_area = handle.output_area;\n",
              "    var output = handle.output;\n",
              "\n",
              "    // limit handleAddOutput to display_data with EXEC_MIME_TYPE content only\n",
              "    if ((output.output_type != \"display_data\") || (!Object.prototype.hasOwnProperty.call(output.data, EXEC_MIME_TYPE))) {\n",
              "      return\n",
              "    }\n",
              "\n",
              "    var toinsert = output_area.element.find(\".\" + CLASS_NAME.split(' ')[0]);\n",
              "\n",
              "    if (output.metadata[EXEC_MIME_TYPE][\"id\"] !== undefined) {\n",
              "      toinsert[toinsert.length - 1].firstChild.textContent = output.data[JS_MIME_TYPE];\n",
              "      // store reference to embed id on output_area\n",
              "      output_area._bokeh_element_id = output.metadata[EXEC_MIME_TYPE][\"id\"];\n",
              "    }\n",
              "    if (output.metadata[EXEC_MIME_TYPE][\"server_id\"] !== undefined) {\n",
              "      var bk_div = document.createElement(\"div\");\n",
              "      bk_div.innerHTML = output.data[HTML_MIME_TYPE];\n",
              "      var script_attrs = bk_div.children[0].attributes;\n",
              "      for (var i = 0; i < script_attrs.length; i++) {\n",
              "        toinsert[toinsert.length - 1].firstChild.setAttribute(script_attrs[i].name, script_attrs[i].value);\n",
              "        toinsert[toinsert.length - 1].firstChild.textContent = bk_div.children[0].textContent\n",
              "      }\n",
              "      // store reference to server id on output_area\n",
              "      output_area._bokeh_server_id = output.metadata[EXEC_MIME_TYPE][\"server_id\"];\n",
              "    }\n",
              "  }\n",
              "\n",
              "  function register_renderer(events, OutputArea) {\n",
              "\n",
              "    function append_mime(data, metadata, element) {\n",
              "      // create a DOM node to render to\n",
              "      var toinsert = this.create_output_subarea(\n",
              "        metadata,\n",
              "        CLASS_NAME,\n",
              "        EXEC_MIME_TYPE\n",
              "      );\n",
              "      this.keyboard_manager.register_events(toinsert);\n",
              "      // Render to node\n",
              "      var props = {data: data, metadata: metadata[EXEC_MIME_TYPE]};\n",
              "      render(props, toinsert[toinsert.length - 1]);\n",
              "      element.append(toinsert);\n",
              "      return toinsert\n",
              "    }\n",
              "\n",
              "    /* Handle when an output is cleared or removed */\n",
              "    events.on('clear_output.CodeCell', handleClearOutput);\n",
              "    events.on('delete.Cell', handleClearOutput);\n",
              "\n",
              "    /* Handle when a new output is added */\n",
              "    events.on('output_added.OutputArea', handleAddOutput);\n",
              "\n",
              "    /**\n",
              "     * Register the mime type and append_mime function with output_area\n",
              "     */\n",
              "    OutputArea.prototype.register_mime_type(EXEC_MIME_TYPE, append_mime, {\n",
              "      /* Is output safe? */\n",
              "      safe: true,\n",
              "      /* Index of renderer in `output_area.display_order` */\n",
              "      index: 0\n",
              "    });\n",
              "  }\n",
              "\n",
              "  // register the mime type if in Jupyter Notebook environment and previously unregistered\n",
              "  if (root.Jupyter !== undefined) {\n",
              "    var events = require('base/js/events');\n",
              "    var OutputArea = require('notebook/js/outputarea').OutputArea;\n",
              "\n",
              "    if (OutputArea.prototype.mime_types().indexOf(EXEC_MIME_TYPE) == -1) {\n",
              "      register_renderer(events, OutputArea);\n",
              "    }\n",
              "  }\n",
              "\n",
              "  \n",
              "  if (typeof (root._bokeh_timeout) === \"undefined\" || force === true) {\n",
              "    root._bokeh_timeout = Date.now() + 5000;\n",
              "    root._bokeh_failed_load = false;\n",
              "  }\n",
              "\n",
              "  var NB_LOAD_WARNING = {'data': {'text/html':\n",
              "     \"<div style='background-color: #fdd'>\\n\"+\n",
              "     \"<p>\\n\"+\n",
              "     \"BokehJS does not appear to have successfully loaded. If loading BokehJS from CDN, this \\n\"+\n",
              "     \"may be due to a slow or bad network connection. Possible fixes:\\n\"+\n",
              "     \"</p>\\n\"+\n",
              "     \"<ul>\\n\"+\n",
              "     \"<li>re-rerun `output_notebook()` to attempt to load from CDN again, or</li>\\n\"+\n",
              "     \"<li>use INLINE resources instead, as so:</li>\\n\"+\n",
              "     \"</ul>\\n\"+\n",
              "     \"<code>\\n\"+\n",
              "     \"from bokeh.resources import INLINE\\n\"+\n",
              "     \"output_notebook(resources=INLINE)\\n\"+\n",
              "     \"</code>\\n\"+\n",
              "     \"</div>\"}};\n",
              "\n",
              "  function display_loaded() {\n",
              "    var el = document.getElementById(null);\n",
              "    if (el != null) {\n",
              "      el.textContent = \"BokehJS is loading...\";\n",
              "    }\n",
              "    if (root.Bokeh !== undefined) {\n",
              "      if (el != null) {\n",
              "        el.textContent = \"BokehJS \" + root.Bokeh.version + \" successfully loaded.\";\n",
              "      }\n",
              "    } else if (Date.now() < root._bokeh_timeout) {\n",
              "      setTimeout(display_loaded, 100)\n",
              "    }\n",
              "  }\n",
              "\n",
              "\n",
              "  function run_callbacks() {\n",
              "    try {\n",
              "      root._bokeh_onload_callbacks.forEach(function(callback) {\n",
              "        if (callback != null)\n",
              "          callback();\n",
              "      });\n",
              "    } finally {\n",
              "      delete root._bokeh_onload_callbacks\n",
              "    }\n",
              "    console.debug(\"Bokeh: all callbacks have finished\");\n",
              "  }\n",
              "\n",
              "  function load_libs(css_urls, js_urls, callback) {\n",
              "    if (css_urls == null) css_urls = [];\n",
              "    if (js_urls == null) js_urls = [];\n",
              "\n",
              "    root._bokeh_onload_callbacks.push(callback);\n",
              "    if (root._bokeh_is_loading > 0) {\n",
              "      console.debug(\"Bokeh: BokehJS is being loaded, scheduling callback at\", now());\n",
              "      return null;\n",
              "    }\n",
              "    if (js_urls == null || js_urls.length === 0) {\n",
              "      run_callbacks();\n",
              "      return null;\n",
              "    }\n",
              "    console.debug(\"Bokeh: BokehJS not loaded, scheduling load and callback at\", now());\n",
              "    root._bokeh_is_loading = css_urls.length + js_urls.length;\n",
              "\n",
              "    function on_load() {\n",
              "      root._bokeh_is_loading--;\n",
              "      if (root._bokeh_is_loading === 0) {\n",
              "        console.debug(\"Bokeh: all BokehJS libraries/stylesheets loaded\");\n",
              "        run_callbacks()\n",
              "      }\n",
              "    }\n",
              "\n",
              "    function on_error(url) {\n",
              "      console.error(\"failed to load \" + url);\n",
              "    }\n",
              "\n",
              "    for (let i = 0; i < css_urls.length; i++) {\n",
              "      const url = css_urls[i];\n",
              "      const element = document.createElement(\"link\");\n",
              "      element.onload = on_load;\n",
              "      element.onerror = on_error.bind(null, url);\n",
              "      element.rel = \"stylesheet\";\n",
              "      element.type = \"text/css\";\n",
              "      element.href = url;\n",
              "      console.debug(\"Bokeh: injecting link tag for BokehJS stylesheet: \", url);\n",
              "      document.body.appendChild(element);\n",
              "    }\n",
              "\n",
              "    const hashes = {\"https://cdn.bokeh.org/bokeh/release/bokeh-2.3.3.min.js\": \"dM3QQsP+wXdHg42wTqW85BjZQdLNNIXqlPw/BgKoExPmTG7ZLML4EGqLMfqHT6ON\", \"https://cdn.bokeh.org/bokeh/release/bokeh-tables-2.3.3.min.js\": \"8x57I4YuIfu8XyZfFo0XVr2WAT8EK4rh/uDe3wF7YuW2FNUSNEpJbsPaB1nJ2fz2\", \"https://cdn.bokeh.org/bokeh/release/bokeh-widgets-2.3.3.min.js\": \"3QTqdz9LyAm2i0sG5XTePsHec3UHWwVsrOL68SYRoAXsafvfAyqtQ+h440+qIBhS\"};\n",
              "\n",
              "    for (let i = 0; i < js_urls.length; i++) {\n",
              "      const url = js_urls[i];\n",
              "      const element = document.createElement('script');\n",
              "      element.onload = on_load;\n",
              "      element.onerror = on_error.bind(null, url);\n",
              "      element.async = false;\n",
              "      element.src = url;\n",
              "      if (url in hashes) {\n",
              "        element.crossOrigin = \"anonymous\";\n",
              "        element.integrity = \"sha384-\" + hashes[url];\n",
              "      }\n",
              "      console.debug(\"Bokeh: injecting script tag for BokehJS library: \", url);\n",
              "      document.head.appendChild(element);\n",
              "    }\n",
              "  };\n",
              "\n",
              "  function inject_raw_css(css) {\n",
              "    const element = document.createElement(\"style\");\n",
              "    element.appendChild(document.createTextNode(css));\n",
              "    document.body.appendChild(element);\n",
              "  }\n",
              "\n",
              "  \n",
              "  var js_urls = [\"https://cdn.bokeh.org/bokeh/release/bokeh-2.3.3.min.js\", \"https://cdn.bokeh.org/bokeh/release/bokeh-widgets-2.3.3.min.js\", \"https://cdn.bokeh.org/bokeh/release/bokeh-tables-2.3.3.min.js\"];\n",
              "  var css_urls = [];\n",
              "  \n",
              "\n",
              "  var inline_js = [\n",
              "    function(Bokeh) {\n",
              "      Bokeh.set_log_level(\"info\");\n",
              "    },\n",
              "    function(Bokeh) {\n",
              "    \n",
              "    \n",
              "    }\n",
              "  ];\n",
              "\n",
              "  function run_inline_js() {\n",
              "    \n",
              "    if (root.Bokeh !== undefined || force === true) {\n",
              "      \n",
              "    for (var i = 0; i < inline_js.length; i++) {\n",
              "      inline_js[i].call(root, root.Bokeh);\n",
              "    }\n",
              "    } else if (Date.now() < root._bokeh_timeout) {\n",
              "      setTimeout(run_inline_js, 100);\n",
              "    } else if (!root._bokeh_failed_load) {\n",
              "      console.log(\"Bokeh: BokehJS failed to load within specified timeout.\");\n",
              "      root._bokeh_failed_load = true;\n",
              "    } else if (force !== true) {\n",
              "      var cell = $(document.getElementById(null)).parents('.cell').data().cell;\n",
              "      cell.output_area.append_execute_result(NB_LOAD_WARNING)\n",
              "    }\n",
              "\n",
              "  }\n",
              "\n",
              "  if (root._bokeh_is_loading === 0) {\n",
              "    console.debug(\"Bokeh: BokehJS loaded, going straight to plotting\");\n",
              "    run_inline_js();\n",
              "  } else {\n",
              "    load_libs(css_urls, js_urls, function() {\n",
              "      console.debug(\"Bokeh: BokehJS plotting callback run at\", now());\n",
              "      run_inline_js();\n",
              "    });\n",
              "  }\n",
              "}(window));"
            ],
            "application/vnd.bokehjs_load.v0+json": "\n(function(root) {\n  function now() {\n    return new Date();\n  }\n\n  var force = true;\n\n  if (typeof root._bokeh_onload_callbacks === \"undefined\" || force === true) {\n    root._bokeh_onload_callbacks = [];\n    root._bokeh_is_loading = undefined;\n  }\n\n  \n\n  \n  if (typeof (root._bokeh_timeout) === \"undefined\" || force === true) {\n    root._bokeh_timeout = Date.now() + 5000;\n    root._bokeh_failed_load = false;\n  }\n\n  var NB_LOAD_WARNING = {'data': {'text/html':\n     \"<div style='background-color: #fdd'>\\n\"+\n     \"<p>\\n\"+\n     \"BokehJS does not appear to have successfully loaded. If loading BokehJS from CDN, this \\n\"+\n     \"may be due to a slow or bad network connection. Possible fixes:\\n\"+\n     \"</p>\\n\"+\n     \"<ul>\\n\"+\n     \"<li>re-rerun `output_notebook()` to attempt to load from CDN again, or</li>\\n\"+\n     \"<li>use INLINE resources instead, as so:</li>\\n\"+\n     \"</ul>\\n\"+\n     \"<code>\\n\"+\n     \"from bokeh.resources import INLINE\\n\"+\n     \"output_notebook(resources=INLINE)\\n\"+\n     \"</code>\\n\"+\n     \"</div>\"}};\n\n  function display_loaded() {\n    var el = document.getElementById(null);\n    if (el != null) {\n      el.textContent = \"BokehJS is loading...\";\n    }\n    if (root.Bokeh !== undefined) {\n      if (el != null) {\n        el.textContent = \"BokehJS \" + root.Bokeh.version + \" successfully loaded.\";\n      }\n    } else if (Date.now() < root._bokeh_timeout) {\n      setTimeout(display_loaded, 100)\n    }\n  }\n\n\n  function run_callbacks() {\n    try {\n      root._bokeh_onload_callbacks.forEach(function(callback) {\n        if (callback != null)\n          callback();\n      });\n    } finally {\n      delete root._bokeh_onload_callbacks\n    }\n    console.debug(\"Bokeh: all callbacks have finished\");\n  }\n\n  function load_libs(css_urls, js_urls, callback) {\n    if (css_urls == null) css_urls = [];\n    if (js_urls == null) js_urls = [];\n\n    root._bokeh_onload_callbacks.push(callback);\n    if (root._bokeh_is_loading > 0) {\n      console.debug(\"Bokeh: BokehJS is being loaded, scheduling callback at\", now());\n      return null;\n    }\n    if (js_urls == null || js_urls.length === 0) {\n      run_callbacks();\n      return null;\n    }\n    console.debug(\"Bokeh: BokehJS not loaded, scheduling load and callback at\", now());\n    root._bokeh_is_loading = css_urls.length + js_urls.length;\n\n    function on_load() {\n      root._bokeh_is_loading--;\n      if (root._bokeh_is_loading === 0) {\n        console.debug(\"Bokeh: all BokehJS libraries/stylesheets loaded\");\n        run_callbacks()\n      }\n    }\n\n    function on_error(url) {\n      console.error(\"failed to load \" + url);\n    }\n\n    for (let i = 0; i < css_urls.length; i++) {\n      const url = css_urls[i];\n      const element = document.createElement(\"link\");\n      element.onload = on_load;\n      element.onerror = on_error.bind(null, url);\n      element.rel = \"stylesheet\";\n      element.type = \"text/css\";\n      element.href = url;\n      console.debug(\"Bokeh: injecting link tag for BokehJS stylesheet: \", url);\n      document.body.appendChild(element);\n    }\n\n    const hashes = {\"https://cdn.bokeh.org/bokeh/release/bokeh-2.3.3.min.js\": \"dM3QQsP+wXdHg42wTqW85BjZQdLNNIXqlPw/BgKoExPmTG7ZLML4EGqLMfqHT6ON\", \"https://cdn.bokeh.org/bokeh/release/bokeh-tables-2.3.3.min.js\": \"8x57I4YuIfu8XyZfFo0XVr2WAT8EK4rh/uDe3wF7YuW2FNUSNEpJbsPaB1nJ2fz2\", \"https://cdn.bokeh.org/bokeh/release/bokeh-widgets-2.3.3.min.js\": \"3QTqdz9LyAm2i0sG5XTePsHec3UHWwVsrOL68SYRoAXsafvfAyqtQ+h440+qIBhS\"};\n\n    for (let i = 0; i < js_urls.length; i++) {\n      const url = js_urls[i];\n      const element = document.createElement('script');\n      element.onload = on_load;\n      element.onerror = on_error.bind(null, url);\n      element.async = false;\n      element.src = url;\n      if (url in hashes) {\n        element.crossOrigin = \"anonymous\";\n        element.integrity = \"sha384-\" + hashes[url];\n      }\n      console.debug(\"Bokeh: injecting script tag for BokehJS library: \", url);\n      document.head.appendChild(element);\n    }\n  };\n\n  function inject_raw_css(css) {\n    const element = document.createElement(\"style\");\n    element.appendChild(document.createTextNode(css));\n    document.body.appendChild(element);\n  }\n\n  \n  var js_urls = [\"https://cdn.bokeh.org/bokeh/release/bokeh-2.3.3.min.js\", \"https://cdn.bokeh.org/bokeh/release/bokeh-widgets-2.3.3.min.js\", \"https://cdn.bokeh.org/bokeh/release/bokeh-tables-2.3.3.min.js\"];\n  var css_urls = [];\n  \n\n  var inline_js = [\n    function(Bokeh) {\n      Bokeh.set_log_level(\"info\");\n    },\n    function(Bokeh) {\n    \n    \n    }\n  ];\n\n  function run_inline_js() {\n    \n    if (root.Bokeh !== undefined || force === true) {\n      \n    for (var i = 0; i < inline_js.length; i++) {\n      inline_js[i].call(root, root.Bokeh);\n    }\n    } else if (Date.now() < root._bokeh_timeout) {\n      setTimeout(run_inline_js, 100);\n    } else if (!root._bokeh_failed_load) {\n      console.log(\"Bokeh: BokehJS failed to load within specified timeout.\");\n      root._bokeh_failed_load = true;\n    } else if (force !== true) {\n      var cell = $(document.getElementById(null)).parents('.cell').data().cell;\n      cell.output_area.append_execute_result(NB_LOAD_WARNING)\n    }\n\n  }\n\n  if (root._bokeh_is_loading === 0) {\n    console.debug(\"Bokeh: BokehJS loaded, going straight to plotting\");\n    run_inline_js();\n  } else {\n    load_libs(css_urls, js_urls, function() {\n      console.debug(\"Bokeh: BokehJS plotting callback run at\", now());\n      run_inline_js();\n    });\n  }\n}(window));"
          },
          "metadata": {}
        },
        {
          "output_type": "display_data",
          "data": {
            "text/html": [
              "\n",
              "\n",
              "\n",
              "\n",
              "\n",
              "\n",
              "  <div class=\"bk-root\" id=\"a0b0292b-07e0-442b-a5e7-134ec665cdc6\" data-root-id=\"1692\"></div>\n"
            ]
          },
          "metadata": {}
        },
        {
          "output_type": "display_data",
          "data": {
            "application/javascript": [
              "(function(root) {\n",
              "  function embed_document(root) {\n",
              "    \n",
              "  var docs_json = {\"9bbb6d97-adda-44b8-83f3-12b5196a3ef9\":{\"defs\":[],\"roots\":{\"references\":[{\"attributes\":{\"below\":[{\"id\":\"1703\"}],\"center\":[{\"id\":\"1706\"},{\"id\":\"1709\"}],\"height\":400,\"left\":[{\"id\":\"1707\"}],\"renderers\":[{\"id\":\"1727\"},{\"id\":\"1732\"}],\"title\":{\"id\":\"1693\"},\"toolbar\":{\"id\":\"1717\"},\"x_range\":{\"id\":\"1695\"},\"x_scale\":{\"id\":\"1699\"},\"y_range\":{\"id\":\"1697\"},\"y_scale\":{\"id\":\"1701\"}},\"id\":\"1692\",\"subtype\":\"Figure\",\"type\":\"Plot\"},{\"attributes\":{\"axis_label\":\"Total de \\u00f3bitos registrados\",\"formatter\":{\"id\":\"1800\"},\"major_label_policy\":{\"id\":\"1799\"},\"ticker\":{\"id\":\"1704\"}},\"id\":\"1703\",\"type\":\"LinearAxis\"},{\"attributes\":{\"source\":{\"id\":\"1729\"}},\"id\":\"1733\",\"type\":\"CDSView\"},{\"attributes\":{\"axis\":{\"id\":\"1707\"},\"dimension\":1,\"ticker\":null},\"id\":\"1709\",\"type\":\"Grid\"},{\"attributes\":{\"data\":{\"text\":{\"__ndarray__\":\"AAAAAAAA8D8AAAAAAADwPwAAAAAAAPA/AAAAAAAA8D8AAAAAAADwPwAAAAAAAABAAAAAAAAAEEA=\",\"dtype\":\"float64\",\"order\":\"little\",\"shape\":[7]},\"x\":{\"__ndarray__\":\"mpmZmZmZ8T+amZmZmZnxP5qZmZmZmfE/mpmZmZmZ8T+amZmZmZnxP83MzMzMzABAZmZmZmZmEEA=\",\"dtype\":\"float64\",\"order\":\"little\",\"shape\":[7]},\"y\":[\"Brazil\",\"Ghana\",\"Ecuador\",\"India\",\"Peru\",\"Spain\",\"Nigeria\"]},\"selected\":{\"id\":\"1803\"},\"selection_policy\":{\"id\":\"1804\"}},\"id\":\"1729\",\"type\":\"ColumnDataSource\"},{\"attributes\":{},\"id\":\"1704\",\"type\":\"BasicTicker\"},{\"attributes\":{\"text_color\":{\"value\":\"black\"},\"text_font_size\":{\"value\":\"12px\"},\"text_font_style\":{\"value\":\"bold\"},\"x\":{\"field\":\"x\"},\"y\":{\"field\":\"y\"}},\"id\":\"1730\",\"type\":\"Text\"},{\"attributes\":{\"data_source\":{\"id\":\"1729\"},\"glyph\":{\"id\":\"1730\"},\"hover_glyph\":null,\"muted_glyph\":null,\"nonselection_glyph\":{\"id\":\"1731\"},\"view\":{\"id\":\"1733\"}},\"id\":\"1732\",\"type\":\"GlyphRenderer\"},{\"attributes\":{\"axis\":{\"id\":\"1703\"},\"ticker\":null},\"id\":\"1706\",\"type\":\"Grid\"},{\"attributes\":{},\"id\":\"1799\",\"type\":\"AllLabels\"},{\"attributes\":{},\"id\":\"1708\",\"type\":\"CategoricalTicker\"},{\"attributes\":{\"axis_label\":\"Pa\\u00eds\",\"formatter\":{\"id\":\"1797\"},\"major_label_policy\":{\"id\":\"1796\"},\"ticker\":{\"id\":\"1708\"}},\"id\":\"1707\",\"type\":\"CategoricalAxis\"},{\"attributes\":{},\"id\":\"1801\",\"type\":\"Selection\"},{\"attributes\":{\"data\":{\"right\":{\"__ndarray__\":\"AAAAAAAA8D8AAAAAAADwPwAAAAAAAPA/AAAAAAAA8D8AAAAAAADwPwAAAAAAAABAAAAAAAAAEEA=\",\"dtype\":\"float64\",\"order\":\"little\",\"shape\":[7]},\"y\":[\"Brazil\",\"Ghana\",\"Ecuador\",\"India\",\"Peru\",\"Spain\",\"Nigeria\"]},\"selected\":{\"id\":\"1801\"},\"selection_policy\":{\"id\":\"1802\"}},\"id\":\"1724\",\"type\":\"ColumnDataSource\"},{\"attributes\":{},\"id\":\"1797\",\"type\":\"CategoricalTickFormatter\"},{\"attributes\":{},\"id\":\"1804\",\"type\":\"UnionRenderers\"},{\"attributes\":{},\"id\":\"1802\",\"type\":\"UnionRenderers\"},{\"attributes\":{},\"id\":\"1803\",\"type\":\"Selection\"},{\"attributes\":{\"source\":{\"id\":\"1724\"}},\"id\":\"1728\",\"type\":\"CDSView\"},{\"attributes\":{\"data_source\":{\"id\":\"1724\"},\"glyph\":{\"id\":\"1725\"},\"hover_glyph\":null,\"muted_glyph\":null,\"nonselection_glyph\":{\"id\":\"1726\"},\"view\":{\"id\":\"1728\"}},\"id\":\"1727\",\"type\":\"GlyphRenderer\"},{\"attributes\":{\"fill_color\":{\"value\":\"yellow\"},\"height\":{\"value\":0.5},\"line_color\":{\"value\":\"yellow\"},\"right\":{\"field\":\"right\"},\"y\":{\"field\":\"y\"}},\"id\":\"1725\",\"type\":\"HBar\"},{\"attributes\":{\"fill_alpha\":{\"value\":0.1},\"fill_color\":{\"value\":\"yellow\"},\"height\":{\"value\":0.5},\"line_alpha\":{\"value\":0.1},\"line_color\":{\"value\":\"yellow\"},\"right\":{\"field\":\"right\"},\"y\":{\"field\":\"y\"}},\"id\":\"1726\",\"type\":\"HBar\"},{\"attributes\":{\"bottom_units\":\"screen\",\"fill_alpha\":0.5,\"fill_color\":\"lightgrey\",\"left_units\":\"screen\",\"level\":\"overlay\",\"line_alpha\":1.0,\"line_color\":\"black\",\"line_dash\":[4,4],\"line_width\":2,\"right_units\":\"screen\",\"syncable\":false,\"top_units\":\"screen\"},\"id\":\"1716\",\"type\":\"BoxAnnotation\"},{\"attributes\":{},\"id\":\"1710\",\"type\":\"PanTool\"},{\"attributes\":{},\"id\":\"1796\",\"type\":\"AllLabels\"},{\"attributes\":{\"active_multi\":null,\"tools\":[{\"id\":\"1710\"},{\"id\":\"1711\"},{\"id\":\"1712\"},{\"id\":\"1713\"},{\"id\":\"1714\"},{\"id\":\"1715\"}]},\"id\":\"1717\",\"type\":\"Toolbar\"},{\"attributes\":{\"text\":\"Total de \\u00f3bitos por Monkeypox, por pa\\u00eds, em 14/08/2022.\"},\"id\":\"1693\",\"type\":\"Title\"},{\"attributes\":{},\"id\":\"1711\",\"type\":\"WheelZoomTool\"},{\"attributes\":{\"end\":5},\"id\":\"1695\",\"type\":\"Range1d\"},{\"attributes\":{\"text_alpha\":{\"value\":0.1},\"text_color\":{\"value\":\"black\"},\"text_font_size\":{\"value\":\"12px\"},\"text_font_style\":{\"value\":\"bold\"},\"x\":{\"field\":\"x\"},\"y\":{\"field\":\"y\"}},\"id\":\"1731\",\"type\":\"Text\"},{\"attributes\":{\"overlay\":{\"id\":\"1716\"}},\"id\":\"1712\",\"type\":\"BoxZoomTool\"},{\"attributes\":{\"factors\":[\"Brazil\",\"Ghana\",\"Ecuador\",\"India\",\"Peru\",\"Spain\",\"Nigeria\"]},\"id\":\"1697\",\"type\":\"FactorRange\"},{\"attributes\":{},\"id\":\"1713\",\"type\":\"SaveTool\"},{\"attributes\":{},\"id\":\"1714\",\"type\":\"ResetTool\"},{\"attributes\":{},\"id\":\"1800\",\"type\":\"BasicTickFormatter\"},{\"attributes\":{},\"id\":\"1701\",\"type\":\"CategoricalScale\"},{\"attributes\":{},\"id\":\"1699\",\"type\":\"LinearScale\"},{\"attributes\":{},\"id\":\"1715\",\"type\":\"HelpTool\"}],\"root_ids\":[\"1692\"]},\"title\":\"Bokeh Application\",\"version\":\"2.3.3\"}};\n",
              "  var render_items = [{\"docid\":\"9bbb6d97-adda-44b8-83f3-12b5196a3ef9\",\"root_ids\":[\"1692\"],\"roots\":{\"1692\":\"a0b0292b-07e0-442b-a5e7-134ec665cdc6\"}}];\n",
              "  root.Bokeh.embed.embed_items_notebook(docs_json, render_items);\n",
              "\n",
              "  }\n",
              "  if (root.Bokeh !== undefined) {\n",
              "    embed_document(root);\n",
              "  } else {\n",
              "    var attempts = 0;\n",
              "    var timer = setInterval(function(root) {\n",
              "      if (root.Bokeh !== undefined) {\n",
              "        clearInterval(timer);\n",
              "        embed_document(root);\n",
              "      } else {\n",
              "        attempts++;\n",
              "        if (attempts > 100) {\n",
              "          clearInterval(timer);\n",
              "          console.log(\"Bokeh: ERROR: Unable to run BokehJS code because BokehJS library is missing\");\n",
              "        }\n",
              "      }\n",
              "    }, 10, root)\n",
              "  }\n",
              "})(window);"
            ],
            "application/vnd.bokehjs_exec.v0+json": ""
          },
          "metadata": {
            "application/vnd.bokehjs_exec.v0+json": {
              "id": "1692"
            }
          }
        }
      ]
    },
    {
      "cell_type": "markdown",
      "source": [
        "A Nigéria é o país com maior número de óbitos (4), seguido de Espanha (2). \n",
        "Embora os EUA estejam em primeiro lugar com relação ao número de casos, não há número de óbitos registrados neste país. Isso mostra que a Monkeypox é uma doença com baixa taxa de mortalidade (0,0003%) quando comparada a outras doenças, como a COVID-19 (BBC, 2022). Além disso, já existem vacinas que tratam da varíola comum e que também servem como antídoto para a Monkeypox, o que corrobora a baixa taxa de mortalidade da doença.\n",
        "\n",
        "As mortes causadas pela Monkeypox estão relacionadas a imunussuprimidos ou pessoas com algum tipo de comorbidade. Os casos de morte na Espanha estão relacionados ao desenvolvimento de uma encefalite em ambos os pacientes. \n",
        "Ademais, os casos mais graves estão relacionados ao vírus oriundo da Bacia do Congo, que tem taxa de mortalidade de 6 %. Já o outro subtipo da doença, proveniente da África Ocidental, é mais brando, ou seja, o indivíduo contaminado apresenta sintomas mais leves e que dentro de poucos dias ele está curado."
      ],
      "metadata": {
        "id": "F7Y7Qe1eH7Tf"
      }
    },
    {
      "cell_type": "markdown",
      "source": [
        "**6)Comparando a evolução da doença em alguns países:**"
      ],
      "metadata": {
        "id": "8uxNDsNB8myM"
      }
    },
    {
      "cell_type": "code",
      "source": [
        "import seaborn as sns\n",
        "import matplotlib.pyplot as plt\n"
      ],
      "metadata": {
        "id": "H-9wVmfi82LQ"
      },
      "execution_count": 22,
      "outputs": []
    },
    {
      "cell_type": "code",
      "source": [
        "#Ajustanto o tamanho da figura:\n",
        "\n",
        "fig,ax=plt.subplots(figsize=(12,8))\n",
        "\n",
        "#Confeccionando o gráfico:\n",
        "\n",
        "ax=sns.lineplot(\n",
        "    #data=mp_mundo.query('(location==[\"United States\") | (loaction ==[\"Spain\") | (location==\"Germany\") | (location == \"United Kingdom\") | (location == \"Brazil\")'),\n",
        "    data=mp_mundo.query('location==[\"United Satate\", \"Spain\", \"Germany\", \"United Kingdom\", \"Brazil\"]'),\n",
        "    x=\"date\",\n",
        "    y=\"total_cases_per_million\",\n",
        "    hue='location',\n",
        "    palette='Set2',\n",
        "    marker='.'\n",
        ")\n",
        "\n",
        "#Inserindo o título:\n",
        "ax.set_title('Casos de monkeypox por milhão de habitantes.', loc = 'left')\n",
        "\n",
        "#Inserindo o rótulo dos eixos:\n",
        "\n",
        "plt.xlabel(\"Data\")\n",
        "plt.ylabel(\"Total de casos de Monkeypox\")\n",
        "\n",
        "#Ajustando a legenda:\n",
        "\n",
        "plt.legend(\n",
        "    title=' ', \n",
        "    loc='upper left',\n",
        "    #mode= \"expand\",\n",
        "    ncol=5,\n",
        "    frameon=False\n",
        ")\n",
        "\n",
        "plt.show()\n"
      ],
      "metadata": {
        "colab": {
          "base_uri": "https://localhost:8080/",
          "height": 513
        },
        "id": "lQL7pQoE9BJ7",
        "outputId": "1f43a961-2add-4b08-91c4-d488df28bff6"
      },
      "execution_count": 29,
      "outputs": [
        {
          "output_type": "display_data",
          "data": {
            "text/plain": [
              "<Figure size 864x576 with 1 Axes>"
            ],
            "image/png": "[encoded data removed]"
          },
          "metadata": {
            "needs_background": "light"
          }
        }
      ]
    },
    {
      "cell_type": "markdown",
      "source": [
        "A Espanha apresenta um crescimento acelerado da doença, enquanto que Reino Unido, Alemanha e Brasil apresentam curvas de crescimento mais suaves."
      ],
      "metadata": {
        "id": "LH7NaDaGI-ju"
      }
    },
    {
      "cell_type": "markdown",
      "source": [
        "# **Monkeypox no Brasil**"
      ],
      "metadata": {
        "id": "ilj5pjHaCu9b"
      }
    },
    {
      "cell_type": "code",
      "source": [
        "#Importando a biblioteca pandas:\n",
        "\n",
        "import pandas as pd"
      ],
      "metadata": {
        "id": "gSNw6egACymJ"
      },
      "execution_count": 30,
      "outputs": []
    },
    {
      "cell_type": "code",
      "source": [
        "#Importando o conjunto de dados:\n",
        "mp_brasil = pd.read_csv(\n",
        "    filepath_or_buffer = 'https://raw.githubusercontent.com/jonates/opendata/master/monkeypox/monkeypox_brasil_20220813.csv',\n",
        "    sep = ';'\n",
        ")"
      ],
      "metadata": {
        "id": "ASYzkzKE8_vy"
      },
      "execution_count": 31,
      "outputs": []
    },
    {
      "cell_type": "markdown",
      "source": [
        "**Estrutura do conjunto de dados:**"
      ],
      "metadata": {
        "id": "xJe6M25BDcG2"
      }
    },
    {
      "cell_type": "code",
      "source": [
        "mp_brasil.head(10)"
      ],
      "metadata": {
        "colab": {
          "base_uri": "https://localhost:8080/",
          "height": 363
        },
        "id": "GCNnRhTP82Iq",
        "outputId": "ad3a6e2a-1f5b-4c4e-e37d-622a9463f0e3"
      },
      "execution_count": 32,
      "outputs": [
        {
          "output_type": "execute_result",
          "data": {
            "text/plain": [
              "      NM_REGIAO           NM_ESTADO  CD_GEOCUF  casos_confirmados  \\\n",
              "0       SUDESTE        MINAS GERAIS         31                133   \n",
              "1       SUDESTE      ESPÍRITO SANTO         32                  8   \n",
              "2       SUDESTE      RIO DE JANEIRO         33                314   \n",
              "3       SUDESTE           SÃO PAULO         35               2019   \n",
              "4           SUL      SANTA CATARINA         42                 22   \n",
              "5           SUL              PARANÁ         41                 62   \n",
              "6           SUL   RIO GRANDE DO SUL         43                 34   \n",
              "7  CENTRO-OESTE               GOIÁS         52                 60   \n",
              "8  CENTRO-OESTE    DISTRITO FEDERAL         53                100   \n",
              "9  CENTRO-OESTE  MATO GROSSO DO SUL         50                 10   \n",
              "\n",
              "   casos_suspeitos  obitos  \n",
              "0              493       1  \n",
              "1               29       0  \n",
              "2              429       0  \n",
              "3             1086       0  \n",
              "4              151       0  \n",
              "5               95       0  \n",
              "6              133       0  \n",
              "7              252       0  \n",
              "8              114       0  \n",
              "9               16       0  "
            ],
            "text/html": [
              "\n",
              "  <div id=\"df-20873b22-0918-4d57-8c11-3c685c7795f7\">\n",
              "    <div class=\"colab-df-container\">\n",
              "      <div>\n",
              "<style scoped>\n",
              "    .dataframe tbody tr th:only-of-type {\n",
              "        vertical-align: middle;\n",
              "    }\n",
              "\n",
              "    .dataframe tbody tr th {\n",
              "        vertical-align: top;\n",
              "    }\n",
              "\n",
              "    .dataframe thead th {\n",
              "        text-align: right;\n",
              "    }\n",
              "</style>\n",
              "<table border=\"1\" class=\"dataframe\">\n",
              "  <thead>\n",
              "    <tr style=\"text-align: right;\">\n",
              "      <th></th>\n",
              "      <th>NM_REGIAO</th>\n",
              "      <th>NM_ESTADO</th>\n",
              "      <th>CD_GEOCUF</th>\n",
              "      <th>casos_confirmados</th>\n",
              "      <th>casos_suspeitos</th>\n",
              "      <th>obitos</th>\n",
              "    </tr>\n",
              "  </thead>\n",
              "  <tbody>\n",
              "    <tr>\n",
              "      <th>0</th>\n",
              "      <td>SUDESTE</td>\n",
              "      <td>MINAS GERAIS</td>\n",
              "      <td>31</td>\n",
              "      <td>133</td>\n",
              "      <td>493</td>\n",
              "      <td>1</td>\n",
              "    </tr>\n",
              "    <tr>\n",
              "      <th>1</th>\n",
              "      <td>SUDESTE</td>\n",
              "      <td>ESPÍRITO SANTO</td>\n",
              "      <td>32</td>\n",
              "      <td>8</td>\n",
              "      <td>29</td>\n",
              "      <td>0</td>\n",
              "    </tr>\n",
              "    <tr>\n",
              "      <th>2</th>\n",
              "      <td>SUDESTE</td>\n",
              "      <td>RIO DE JANEIRO</td>\n",
              "      <td>33</td>\n",
              "      <td>314</td>\n",
              "      <td>429</td>\n",
              "      <td>0</td>\n",
              "    </tr>\n",
              "    <tr>\n",
              "      <th>3</th>\n",
              "      <td>SUDESTE</td>\n",
              "      <td>SÃO PAULO</td>\n",
              "      <td>35</td>\n",
              "      <td>2019</td>\n",
              "      <td>1086</td>\n",
              "      <td>0</td>\n",
              "    </tr>\n",
              "    <tr>\n",
              "      <th>4</th>\n",
              "      <td>SUL</td>\n",
              "      <td>SANTA CATARINA</td>\n",
              "      <td>42</td>\n",
              "      <td>22</td>\n",
              "      <td>151</td>\n",
              "      <td>0</td>\n",
              "    </tr>\n",
              "    <tr>\n",
              "      <th>5</th>\n",
              "      <td>SUL</td>\n",
              "      <td>PARANÁ</td>\n",
              "      <td>41</td>\n",
              "      <td>62</td>\n",
              "      <td>95</td>\n",
              "      <td>0</td>\n",
              "    </tr>\n",
              "    <tr>\n",
              "      <th>6</th>\n",
              "      <td>SUL</td>\n",
              "      <td>RIO GRANDE DO SUL</td>\n",
              "      <td>43</td>\n",
              "      <td>34</td>\n",
              "      <td>133</td>\n",
              "      <td>0</td>\n",
              "    </tr>\n",
              "    <tr>\n",
              "      <th>7</th>\n",
              "      <td>CENTRO-OESTE</td>\n",
              "      <td>GOIÁS</td>\n",
              "      <td>52</td>\n",
              "      <td>60</td>\n",
              "      <td>252</td>\n",
              "      <td>0</td>\n",
              "    </tr>\n",
              "    <tr>\n",
              "      <th>8</th>\n",
              "      <td>CENTRO-OESTE</td>\n",
              "      <td>DISTRITO FEDERAL</td>\n",
              "      <td>53</td>\n",
              "      <td>100</td>\n",
              "      <td>114</td>\n",
              "      <td>0</td>\n",
              "    </tr>\n",
              "    <tr>\n",
              "      <th>9</th>\n",
              "      <td>CENTRO-OESTE</td>\n",
              "      <td>MATO GROSSO DO SUL</td>\n",
              "      <td>50</td>\n",
              "      <td>10</td>\n",
              "      <td>16</td>\n",
              "      <td>0</td>\n",
              "    </tr>\n",
              "  </tbody>\n",
              "</table>\n",
              "</div>\n",
              "      <button class=\"colab-df-convert\" onclick=\"convertToInteractive('df-20873b22-0918-4d57-8c11-3c685c7795f7')\"\n",
              "              title=\"Convert this dataframe to an interactive table.\"\n",
              "              style=\"display:none;\">\n",
              "        \n",
              "  <svg xmlns=\"http://www.w3.org/2000/svg\" height=\"24px\"viewBox=\"0 0 24 24\"\n",
              "       width=\"24px\">\n",
              "    <path d=\"M0 0h24v24H0V0z\" fill=\"none\"/>\n",
              "    <path d=\"M18.56 5.44l.94 2.06.94-2.06 2.06-.94-2.06-.94-.94-2.06-.94 2.06-2.06.94zm-11 1L8.5 8.5l.94-2.06 2.06-.94-2.06-.94L8.5 2.5l-.94 2.06-2.06.94zm10 10l.94 2.06.94-2.06 2.06-.94-2.06-.94-.94-2.06-.94 2.06-2.06.94z\"/><path d=\"M17.41 7.96l-1.37-1.37c-.4-.4-.92-.59-1.43-.59-.52 0-1.04.2-1.43.59L10.3 9.45l-7.72 7.72c-.78.78-.78 2.05 0 2.83L4 21.41c.39.39.9.59 1.41.59.51 0 1.02-.2 1.41-.59l7.78-7.78 2.81-2.81c.8-.78.8-2.07 0-2.86zM5.41 20L4 18.59l7.72-7.72 1.47 1.35L5.41 20z\"/>\n",
              "  </svg>\n",
              "      </button>\n",
              "      \n",
              "  <style>\n",
              "    .colab-df-container {\n",
              "      display:flex;\n",
              "      flex-wrap:wrap;\n",
              "      gap: 12px;\n",
              "    }\n",
              "\n",
              "    .colab-df-convert {\n",
              "      background-color: #E8F0FE;\n",
              "      border: none;\n",
              "      border-radius: 50%;\n",
              "      cursor: pointer;\n",
              "      display: none;\n",
              "      fill: #1967D2;\n",
              "      height: 32px;\n",
              "      padding: 0 0 0 0;\n",
              "      width: 32px;\n",
              "    }\n",
              "\n",
              "    .colab-df-convert:hover {\n",
              "      background-color: #E2EBFA;\n",
              "      box-shadow: 0px 1px 2px rgba(60, 64, 67, 0.3), 0px 1px 3px 1px rgba(60, 64, 67, 0.15);\n",
              "      fill: #174EA6;\n",
              "    }\n",
              "\n",
              "    [theme=dark] .colab-df-convert {\n",
              "      background-color: #3B4455;\n",
              "      fill: #D2E3FC;\n",
              "    }\n",
              "\n",
              "    [theme=dark] .colab-df-convert:hover {\n",
              "      background-color: #434B5C;\n",
              "      box-shadow: 0px 1px 3px 1px rgba(0, 0, 0, 0.15);\n",
              "      filter: drop-shadow(0px 1px 2px rgba(0, 0, 0, 0.3));\n",
              "      fill: #FFFFFF;\n",
              "    }\n",
              "  </style>\n",
              "\n",
              "      <script>\n",
              "        const buttonEl =\n",
              "          document.querySelector('#df-20873b22-0918-4d57-8c11-3c685c7795f7 button.colab-df-convert');\n",
              "        buttonEl.style.display =\n",
              "          google.colab.kernel.accessAllowed ? 'block' : 'none';\n",
              "\n",
              "        async function convertToInteractive(key) {\n",
              "          const element = document.querySelector('#df-20873b22-0918-4d57-8c11-3c685c7795f7');\n",
              "          const dataTable =\n",
              "            await google.colab.kernel.invokeFunction('convertToInteractive',\n",
              "                                                     [key], {});\n",
              "          if (!dataTable) return;\n",
              "\n",
              "          const docLinkHtml = 'Like what you see? Visit the ' +\n",
              "            '<a target=\"_blank\" href=https://colab.research.google.com/notebooks/data_table.ipynb>data table notebook</a>'\n",
              "            + ' to learn more about interactive tables.';\n",
              "          element.innerHTML = '';\n",
              "          dataTable['output_type'] = 'display_data';\n",
              "          await google.colab.output.renderOutput(dataTable, element);\n",
              "          const docLink = document.createElement('div');\n",
              "          docLink.innerHTML = docLinkHtml;\n",
              "          element.appendChild(docLink);\n",
              "        }\n",
              "      </script>\n",
              "    </div>\n",
              "  </div>\n",
              "  "
            ]
          },
          "metadata": {},
          "execution_count": 32
        }
      ]
    },
    {
      "cell_type": "code",
      "source": [
        "#Estrutura do conjunto de dados:\n",
        "\n",
        "mp_brasil.info()"
      ],
      "metadata": {
        "colab": {
          "base_uri": "https://localhost:8080/"
        },
        "id": "00nhYdBVEM96",
        "outputId": "8146fa9d-f169-496b-d3a0-4be661c6ee46"
      },
      "execution_count": 33,
      "outputs": [
        {
          "output_type": "stream",
          "name": "stdout",
          "text": [
            "<class 'pandas.core.frame.DataFrame'>\n",
            "RangeIndex: 27 entries, 0 to 26\n",
            "Data columns (total 6 columns):\n",
            " #   Column             Non-Null Count  Dtype \n",
            "---  ------             --------------  ----- \n",
            " 0   NM_REGIAO          27 non-null     object\n",
            " 1   NM_ESTADO          27 non-null     object\n",
            " 2   CD_GEOCUF          27 non-null     int64 \n",
            " 3   casos_confirmados  27 non-null     int64 \n",
            " 4   casos_suspeitos    27 non-null     int64 \n",
            " 5   obitos             27 non-null     int64 \n",
            "dtypes: int64(4), object(2)\n",
            "memory usage: 1.4+ KB\n"
          ]
        }
      ]
    },
    {
      "cell_type": "markdown",
      "source": [
        "**Visualização dos dados da Monkeypox no Brasil:**"
      ],
      "metadata": {
        "id": "eOQ_fEw2EawR"
      }
    },
    {
      "cell_type": "markdown",
      "source": [
        "**a) casos confirmados e suspeitos por UF em 13/08/22 no Brasil:**"
      ],
      "metadata": {
        "id": "5Pq7ifJ8EfRd"
      }
    },
    {
      "cell_type": "code",
      "source": [
        "mp_brasil.casos_confirmados.sum(), mp_brasil.casos_suspeitos.sum()"
      ],
      "metadata": {
        "colab": {
          "base_uri": "https://localhost:8080/"
        },
        "id": "oDFLPP2pEx3t",
        "outputId": "60e31cca-64d4-4c9d-987e-57d0f3b06584"
      },
      "execution_count": 34,
      "outputs": [
        {
          "output_type": "execute_result",
          "data": {
            "text/plain": [
              "(2847, 3429)"
            ]
          },
          "metadata": {},
          "execution_count": 34
        }
      ]
    },
    {
      "cell_type": "code",
      "source": [
        "mp_brasil.casos_confirmados.sum() + mp_brasil.casos_suspeitos.sum()"
      ],
      "metadata": {
        "colab": {
          "base_uri": "https://localhost:8080/"
        },
        "id": "0IpKIIw4FDZY",
        "outputId": "5cb327d5-374f-44bf-ffce-f7afb46ba06c"
      },
      "execution_count": 35,
      "outputs": [
        {
          "output_type": "execute_result",
          "data": {
            "text/plain": [
              "6276"
            ]
          },
          "metadata": {},
          "execution_count": 35
        }
      ]
    },
    {
      "cell_type": "code",
      "source": [
        "#Criando o Dataframe:\n",
        "\n",
        "mp_casos_uf= pd.DataFrame(\n",
        "    data= {\n",
        "        'situacao':['suspeitos','confirmados'],\n",
        "        'casos_registrados':[mp_brasil.casos_suspeitos.sum(),mp_brasil.casos_confirmados.sum() ]\n",
        "    }\n",
        "\n",
        ")\n",
        "\n",
        "mp_casos_uf"
      ],
      "metadata": {
        "colab": {
          "base_uri": "https://localhost:8080/",
          "height": 112
        },
        "id": "3WxF2J4vFDXQ",
        "outputId": "6f4d4110-c2e0-4e24-b83a-620c8f8c2a58"
      },
      "execution_count": 36,
      "outputs": [
        {
          "output_type": "execute_result",
          "data": {
            "text/plain": [
              "      situacao  casos_registrados\n",
              "0    suspeitos               3429\n",
              "1  confirmados               2847"
            ],
            "text/html": [
              "\n",
              "  <div id=\"df-63fa4a4b-b88a-41b5-9651-a73e0e9fd8e3\">\n",
              "    <div class=\"colab-df-container\">\n",
              "      <div>\n",
              "<style scoped>\n",
              "    .dataframe tbody tr th:only-of-type {\n",
              "        vertical-align: middle;\n",
              "    }\n",
              "\n",
              "    .dataframe tbody tr th {\n",
              "        vertical-align: top;\n",
              "    }\n",
              "\n",
              "    .dataframe thead th {\n",
              "        text-align: right;\n",
              "    }\n",
              "</style>\n",
              "<table border=\"1\" class=\"dataframe\">\n",
              "  <thead>\n",
              "    <tr style=\"text-align: right;\">\n",
              "      <th></th>\n",
              "      <th>situacao</th>\n",
              "      <th>casos_registrados</th>\n",
              "    </tr>\n",
              "  </thead>\n",
              "  <tbody>\n",
              "    <tr>\n",
              "      <th>0</th>\n",
              "      <td>suspeitos</td>\n",
              "      <td>3429</td>\n",
              "    </tr>\n",
              "    <tr>\n",
              "      <th>1</th>\n",
              "      <td>confirmados</td>\n",
              "      <td>2847</td>\n",
              "    </tr>\n",
              "  </tbody>\n",
              "</table>\n",
              "</div>\n",
              "      <button class=\"colab-df-convert\" onclick=\"convertToInteractive('df-63fa4a4b-b88a-41b5-9651-a73e0e9fd8e3')\"\n",
              "              title=\"Convert this dataframe to an interactive table.\"\n",
              "              style=\"display:none;\">\n",
              "        \n",
              "  <svg xmlns=\"http://www.w3.org/2000/svg\" height=\"24px\"viewBox=\"0 0 24 24\"\n",
              "       width=\"24px\">\n",
              "    <path d=\"M0 0h24v24H0V0z\" fill=\"none\"/>\n",
              "    <path d=\"M18.56 5.44l.94 2.06.94-2.06 2.06-.94-2.06-.94-.94-2.06-.94 2.06-2.06.94zm-11 1L8.5 8.5l.94-2.06 2.06-.94-2.06-.94L8.5 2.5l-.94 2.06-2.06.94zm10 10l.94 2.06.94-2.06 2.06-.94-2.06-.94-.94-2.06-.94 2.06-2.06.94z\"/><path d=\"M17.41 7.96l-1.37-1.37c-.4-.4-.92-.59-1.43-.59-.52 0-1.04.2-1.43.59L10.3 9.45l-7.72 7.72c-.78.78-.78 2.05 0 2.83L4 21.41c.39.39.9.59 1.41.59.51 0 1.02-.2 1.41-.59l7.78-7.78 2.81-2.81c.8-.78.8-2.07 0-2.86zM5.41 20L4 18.59l7.72-7.72 1.47 1.35L5.41 20z\"/>\n",
              "  </svg>\n",
              "      </button>\n",
              "      \n",
              "  <style>\n",
              "    .colab-df-container {\n",
              "      display:flex;\n",
              "      flex-wrap:wrap;\n",
              "      gap: 12px;\n",
              "    }\n",
              "\n",
              "    .colab-df-convert {\n",
              "      background-color: #E8F0FE;\n",
              "      border: none;\n",
              "      border-radius: 50%;\n",
              "      cursor: pointer;\n",
              "      display: none;\n",
              "      fill: #1967D2;\n",
              "      height: 32px;\n",
              "      padding: 0 0 0 0;\n",
              "      width: 32px;\n",
              "    }\n",
              "\n",
              "    .colab-df-convert:hover {\n",
              "      background-color: #E2EBFA;\n",
              "      box-shadow: 0px 1px 2px rgba(60, 64, 67, 0.3), 0px 1px 3px 1px rgba(60, 64, 67, 0.15);\n",
              "      fill: #174EA6;\n",
              "    }\n",
              "\n",
              "    [theme=dark] .colab-df-convert {\n",
              "      background-color: #3B4455;\n",
              "      fill: #D2E3FC;\n",
              "    }\n",
              "\n",
              "    [theme=dark] .colab-df-convert:hover {\n",
              "      background-color: #434B5C;\n",
              "      box-shadow: 0px 1px 3px 1px rgba(0, 0, 0, 0.15);\n",
              "      filter: drop-shadow(0px 1px 2px rgba(0, 0, 0, 0.3));\n",
              "      fill: #FFFFFF;\n",
              "    }\n",
              "  </style>\n",
              "\n",
              "      <script>\n",
              "        const buttonEl =\n",
              "          document.querySelector('#df-63fa4a4b-b88a-41b5-9651-a73e0e9fd8e3 button.colab-df-convert');\n",
              "        buttonEl.style.display =\n",
              "          google.colab.kernel.accessAllowed ? 'block' : 'none';\n",
              "\n",
              "        async function convertToInteractive(key) {\n",
              "          const element = document.querySelector('#df-63fa4a4b-b88a-41b5-9651-a73e0e9fd8e3');\n",
              "          const dataTable =\n",
              "            await google.colab.kernel.invokeFunction('convertToInteractive',\n",
              "                                                     [key], {});\n",
              "          if (!dataTable) return;\n",
              "\n",
              "          const docLinkHtml = 'Like what you see? Visit the ' +\n",
              "            '<a target=\"_blank\" href=https://colab.research.google.com/notebooks/data_table.ipynb>data table notebook</a>'\n",
              "            + ' to learn more about interactive tables.';\n",
              "          element.innerHTML = '';\n",
              "          dataTable['output_type'] = 'display_data';\n",
              "          await google.colab.output.renderOutput(dataTable, element);\n",
              "          const docLink = document.createElement('div');\n",
              "          docLink.innerHTML = docLinkHtml;\n",
              "          element.appendChild(docLink);\n",
              "        }\n",
              "      </script>\n",
              "    </div>\n",
              "  </div>\n",
              "  "
            ]
          },
          "metadata": {},
          "execution_count": 36
        }
      ]
    },
    {
      "cell_type": "code",
      "source": [
        "#confeccionando o gráfico:\n",
        "\n",
        "plt.pie(\n",
        "    x= mp_casos_uf.casos_registrados,\n",
        "    labels = mp_casos_uf.situacao,\n",
        "    colors = sns.color_palette('Set2'),\n",
        "    autopct='%.1f%%',\n",
        ")\n",
        "\n",
        "#Título:\n",
        "\n",
        "plt.title('Registros de casos de Monkeypox no Brasil até 13/08/2022.');\n",
        "\n",
        "plt.show()"
      ],
      "metadata": {
        "colab": {
          "base_uri": "https://localhost:8080/",
          "height": 264
        },
        "id": "s2SIfvdPE9ga",
        "outputId": "2f27afd9-cb6d-404c-c7e4-03033fff3495"
      },
      "execution_count": 38,
      "outputs": [
        {
          "output_type": "display_data",
          "data": {
            "text/plain": [
              "<Figure size 432x288 with 1 Axes>"
            ],
            "image/png": "[encoded data removed]"
          },
          "metadata": {}
        }
      ]
    },
    {
      "cell_type": "markdown",
      "source": [
        "**Casos confirmados de Monkeypox no Brasil por região:**"
      ],
      "metadata": {
        "id": "dkRKmvxUvH-e"
      }
    },
    {
      "cell_type": "code",
      "source": [
        "#Casos por região:\n",
        "\n",
        "tab_casos_por_regiao = mp_brasil\\\n",
        "  .groupby('NM_REGIAO', as_index = True)\\\n",
        "  .agg({\"casos_confirmados\":\"sum\"})\\\n",
        "  .reset_index()\\\n",
        "  .sort_values('casos_confirmados', ascending = False)\n",
        "\n",
        "tab_casos_por_regiao  "
      ],
      "metadata": {
        "colab": {
          "base_uri": "https://localhost:8080/",
          "height": 206
        },
        "id": "IDkp7htyvPh8",
        "outputId": "7f6d3b57-b93f-4835-9bfe-079fe532001c"
      },
      "execution_count": 39,
      "outputs": [
        {
          "output_type": "execute_result",
          "data": {
            "text/plain": [
              "      NM_REGIAO  casos_confirmados\n",
              "3       SUDESTE               2474\n",
              "0  CENTRO-OESTE                174\n",
              "4           SUL                118\n",
              "1      NORDESTE                 69\n",
              "2         NORTE                 12"
            ],
            "text/html": [
              "\n",
              "  <div id=\"df-8ec08b23-974c-42df-8cdb-1982c86c7465\">\n",
              "    <div class=\"colab-df-container\">\n",
              "      <div>\n",
              "<style scoped>\n",
              "    .dataframe tbody tr th:only-of-type {\n",
              "        vertical-align: middle;\n",
              "    }\n",
              "\n",
              "    .dataframe tbody tr th {\n",
              "        vertical-align: top;\n",
              "    }\n",
              "\n",
              "    .dataframe thead th {\n",
              "        text-align: right;\n",
              "    }\n",
              "</style>\n",
              "<table border=\"1\" class=\"dataframe\">\n",
              "  <thead>\n",
              "    <tr style=\"text-align: right;\">\n",
              "      <th></th>\n",
              "      <th>NM_REGIAO</th>\n",
              "      <th>casos_confirmados</th>\n",
              "    </tr>\n",
              "  </thead>\n",
              "  <tbody>\n",
              "    <tr>\n",
              "      <th>3</th>\n",
              "      <td>SUDESTE</td>\n",
              "      <td>2474</td>\n",
              "    </tr>\n",
              "    <tr>\n",
              "      <th>0</th>\n",
              "      <td>CENTRO-OESTE</td>\n",
              "      <td>174</td>\n",
              "    </tr>\n",
              "    <tr>\n",
              "      <th>4</th>\n",
              "      <td>SUL</td>\n",
              "      <td>118</td>\n",
              "    </tr>\n",
              "    <tr>\n",
              "      <th>1</th>\n",
              "      <td>NORDESTE</td>\n",
              "      <td>69</td>\n",
              "    </tr>\n",
              "    <tr>\n",
              "      <th>2</th>\n",
              "      <td>NORTE</td>\n",
              "      <td>12</td>\n",
              "    </tr>\n",
              "  </tbody>\n",
              "</table>\n",
              "</div>\n",
              "      <button class=\"colab-df-convert\" onclick=\"convertToInteractive('df-8ec08b23-974c-42df-8cdb-1982c86c7465')\"\n",
              "              title=\"Convert this dataframe to an interactive table.\"\n",
              "              style=\"display:none;\">\n",
              "        \n",
              "  <svg xmlns=\"http://www.w3.org/2000/svg\" height=\"24px\"viewBox=\"0 0 24 24\"\n",
              "       width=\"24px\">\n",
              "    <path d=\"M0 0h24v24H0V0z\" fill=\"none\"/>\n",
              "    <path d=\"M18.56 5.44l.94 2.06.94-2.06 2.06-.94-2.06-.94-.94-2.06-.94 2.06-2.06.94zm-11 1L8.5 8.5l.94-2.06 2.06-.94-2.06-.94L8.5 2.5l-.94 2.06-2.06.94zm10 10l.94 2.06.94-2.06 2.06-.94-2.06-.94-.94-2.06-.94 2.06-2.06.94z\"/><path d=\"M17.41 7.96l-1.37-1.37c-.4-.4-.92-.59-1.43-.59-.52 0-1.04.2-1.43.59L10.3 9.45l-7.72 7.72c-.78.78-.78 2.05 0 2.83L4 21.41c.39.39.9.59 1.41.59.51 0 1.02-.2 1.41-.59l7.78-7.78 2.81-2.81c.8-.78.8-2.07 0-2.86zM5.41 20L4 18.59l7.72-7.72 1.47 1.35L5.41 20z\"/>\n",
              "  </svg>\n",
              "      </button>\n",
              "      \n",
              "  <style>\n",
              "    .colab-df-container {\n",
              "      display:flex;\n",
              "      flex-wrap:wrap;\n",
              "      gap: 12px;\n",
              "    }\n",
              "\n",
              "    .colab-df-convert {\n",
              "      background-color: #E8F0FE;\n",
              "      border: none;\n",
              "      border-radius: 50%;\n",
              "      cursor: pointer;\n",
              "      display: none;\n",
              "      fill: #1967D2;\n",
              "      height: 32px;\n",
              "      padding: 0 0 0 0;\n",
              "      width: 32px;\n",
              "    }\n",
              "\n",
              "    .colab-df-convert:hover {\n",
              "      background-color: #E2EBFA;\n",
              "      box-shadow: 0px 1px 2px rgba(60, 64, 67, 0.3), 0px 1px 3px 1px rgba(60, 64, 67, 0.15);\n",
              "      fill: #174EA6;\n",
              "    }\n",
              "\n",
              "    [theme=dark] .colab-df-convert {\n",
              "      background-color: #3B4455;\n",
              "      fill: #D2E3FC;\n",
              "    }\n",
              "\n",
              "    [theme=dark] .colab-df-convert:hover {\n",
              "      background-color: #434B5C;\n",
              "      box-shadow: 0px 1px 3px 1px rgba(0, 0, 0, 0.15);\n",
              "      filter: drop-shadow(0px 1px 2px rgba(0, 0, 0, 0.3));\n",
              "      fill: #FFFFFF;\n",
              "    }\n",
              "  </style>\n",
              "\n",
              "      <script>\n",
              "        const buttonEl =\n",
              "          document.querySelector('#df-8ec08b23-974c-42df-8cdb-1982c86c7465 button.colab-df-convert');\n",
              "        buttonEl.style.display =\n",
              "          google.colab.kernel.accessAllowed ? 'block' : 'none';\n",
              "\n",
              "        async function convertToInteractive(key) {\n",
              "          const element = document.querySelector('#df-8ec08b23-974c-42df-8cdb-1982c86c7465');\n",
              "          const dataTable =\n",
              "            await google.colab.kernel.invokeFunction('convertToInteractive',\n",
              "                                                     [key], {});\n",
              "          if (!dataTable) return;\n",
              "\n",
              "          const docLinkHtml = 'Like what you see? Visit the ' +\n",
              "            '<a target=\"_blank\" href=https://colab.research.google.com/notebooks/data_table.ipynb>data table notebook</a>'\n",
              "            + ' to learn more about interactive tables.';\n",
              "          element.innerHTML = '';\n",
              "          dataTable['output_type'] = 'display_data';\n",
              "          await google.colab.output.renderOutput(dataTable, element);\n",
              "          const docLink = document.createElement('div');\n",
              "          docLink.innerHTML = docLinkHtml;\n",
              "          element.appendChild(docLink);\n",
              "        }\n",
              "      </script>\n",
              "    </div>\n",
              "  </div>\n",
              "  "
            ]
          },
          "metadata": {},
          "execution_count": 39
        }
      ]
    },
    {
      "cell_type": "code",
      "source": [
        "#Importando a biblioteca plotly:\n",
        "\n",
        "import plotly.express as px\n"
      ],
      "metadata": {
        "id": "fSyw2skrxmPk"
      },
      "execution_count": 40,
      "outputs": []
    },
    {
      "cell_type": "code",
      "source": [
        "#Confeccionando o gráfico de barras:\n",
        "\n",
        "grafico_barras = px.bar(\n",
        "    data_frame = tab_casos_por_regiao,\n",
        "    y = 'NM_REGIAO',\n",
        "    x = 'casos_confirmados',\n",
        "    orientation = 'h',\n",
        "    title= 'Casos confirmados de Monkeypox por Região do Brasil em 13/08/2022.',\n",
        "    height = 500,\n",
        "    width = 500,\n",
        "    labels = {\n",
        "        'NM_REGIAO':'Região',\n",
        "        'casos_confirmados':'Casos de Monkeypox confirmados'\n",
        "    },\n",
        "    template = 'plotly_white',\n",
        "    text_auto=True\n",
        ")\n",
        "\n",
        "grafico_barras.update_layout(yaxis={'categoryorder':'total ascending'})\n",
        "\n",
        "grafico_barras.update_traces(\n",
        "    marker_color='green',\n",
        "    marker_line_color = 'black',\n",
        "    marker_line_width=0.3,\n",
        "    opacity=0.9\n",
        ")\n",
        "\n",
        "grafico_barras.show()"
      ],
      "metadata": {
        "colab": {
          "base_uri": "https://localhost:8080/",
          "height": 517
        },
        "id": "T3qmTv5oxvY1",
        "outputId": "0aabe42a-4faf-4793-f7c5-7a64a6b063a6"
      },
      "execution_count": 45,
      "outputs": [
        {
          "output_type": "display_data",
          "data": {
            "text/html": [
              "<html>\n",
              "<head><meta charset=\"utf-8\" /></head>\n",
              "<body>\n",
              "    <div>            <script src=\"https://cdnjs.cloudflare.com/ajax/libs/mathjax/2.7.5/MathJax.js?config=TeX-AMS-MML_SVG\"></script><script type=\"text/javascript\">if (window.MathJax) {MathJax.Hub.Config({SVG: {font: \"STIX-Web\"}});}</script>                <script type=\"text/javascript\">window.PlotlyConfig = {MathJaxConfig: 'local'};</script>\n",
              "        <script src=\"https://cdn.plot.ly/plotly-2.8.3.min.js\"></script>                <div id=\"1560fefa-81ec-4470-8c0c-c53e98bb7098\" class=\"plotly-graph-div\" style=\"height:500px; width:500px;\"></div>            <script type=\"text/javascript\">                                    window.PLOTLYENV=window.PLOTLYENV || {};                                    if (document.getElementById(\"1560fefa-81ec-4470-8c0c-c53e98bb7098\")) {                    Plotly.newPlot(                        \"1560fefa-81ec-4470-8c0c-c53e98bb7098\",                        [{\"alignmentgroup\":\"True\",\"hovertemplate\":\"Casos de Monkeypox confirmados=%{x}<br>Regi\\u00e3o=%{y}<extra></extra>\",\"legendgroup\":\"\",\"marker\":{\"color\":\"green\",\"pattern\":{\"shape\":\"\"},\"line\":{\"color\":\"black\",\"width\":0.3}},\"name\":\"\",\"offsetgroup\":\"\",\"orientation\":\"h\",\"showlegend\":false,\"textposition\":\"auto\",\"texttemplate\":\"%{x}\",\"x\":[2474,174,118,69,12],\"xaxis\":\"x\",\"y\":[\"SUDESTE\",\"CENTRO-OESTE\",\"SUL\",\"NORDESTE\",\"NORTE\"],\"yaxis\":\"y\",\"type\":\"bar\",\"opacity\":0.9}],                        {\"template\":{\"data\":{\"barpolar\":[{\"marker\":{\"line\":{\"color\":\"white\",\"width\":0.5},\"pattern\":{\"fillmode\":\"overlay\",\"size\":10,\"solidity\":0.2}},\"type\":\"barpolar\"}],\"bar\":[{\"error_x\":{\"color\":\"#2a3f5f\"},\"error_y\":{\"color\":\"#2a3f5f\"},\"marker\":{\"line\":{\"color\":\"white\",\"width\":0.5},\"pattern\":{\"fillmode\":\"overlay\",\"size\":10,\"solidity\":0.2}},\"type\":\"bar\"}],\"carpet\":[{\"aaxis\":{\"endlinecolor\":\"#2a3f5f\",\"gridcolor\":\"#C8D4E3\",\"linecolor\":\"#C8D4E3\",\"minorgridcolor\":\"#C8D4E3\",\"startlinecolor\":\"#2a3f5f\"},\"baxis\":{\"endlinecolor\":\"#2a3f5f\",\"gridcolor\":\"#C8D4E3\",\"linecolor\":\"#C8D4E3\",\"minorgridcolor\":\"#C8D4E3\",\"startlinecolor\":\"#2a3f5f\"},\"type\":\"carpet\"}],\"choropleth\":[{\"colorbar\":{\"outlinewidth\":0,\"ticks\":\"\"},\"type\":\"choropleth\"}],\"contourcarpet\":[{\"colorbar\":{\"outlinewidth\":0,\"ticks\":\"\"},\"type\":\"contourcarpet\"}],\"contour\":[{\"colorbar\":{\"outlinewidth\":0,\"ticks\":\"\"},\"colorscale\":[[0.0,\"#0d0887\"],[0.1111111111111111,\"#46039f\"],[0.2222222222222222,\"#7201a8\"],[0.3333333333333333,\"#9c179e\"],[0.4444444444444444,\"#bd3786\"],[0.5555555555555556,\"#d8576b\"],[0.6666666666666666,\"#ed7953\"],[0.7777777777777778,\"#fb9f3a\"],[0.8888888888888888,\"#fdca26\"],[1.0,\"#f0f921\"]],\"type\":\"contour\"}],\"heatmapgl\":[{\"colorbar\":{\"outlinewidth\":0,\"ticks\":\"\"},\"colorscale\":[[0.0,\"#0d0887\"],[0.1111111111111111,\"#46039f\"],[0.2222222222222222,\"#7201a8\"],[0.3333333333333333,\"#9c179e\"],[0.4444444444444444,\"#bd3786\"],[0.5555555555555556,\"#d8576b\"],[0.6666666666666666,\"#ed7953\"],[0.7777777777777778,\"#fb9f3a\"],[0.8888888888888888,\"#fdca26\"],[1.0,\"#f0f921\"]],\"type\":\"heatmapgl\"}],\"heatmap\":[{\"colorbar\":{\"outlinewidth\":0,\"ticks\":\"\"},\"colorscale\":[[0.0,\"#0d0887\"],[0.1111111111111111,\"#46039f\"],[0.2222222222222222,\"#7201a8\"],[0.3333333333333333,\"#9c179e\"],[0.4444444444444444,\"#bd3786\"],[0.5555555555555556,\"#d8576b\"],[0.6666666666666666,\"#ed7953\"],[0.7777777777777778,\"#fb9f3a\"],[0.8888888888888888,\"#fdca26\"],[1.0,\"#f0f921\"]],\"type\":\"heatmap\"}],\"histogram2dcontour\":[{\"colorbar\":{\"outlinewidth\":0,\"ticks\":\"\"},\"colorscale\":[[0.0,\"#0d0887\"],[0.1111111111111111,\"#46039f\"],[0.2222222222222222,\"#7201a8\"],[0.3333333333333333,\"#9c179e\"],[0.4444444444444444,\"#bd3786\"],[0.5555555555555556,\"#d8576b\"],[0.6666666666666666,\"#ed7953\"],[0.7777777777777778,\"#fb9f3a\"],[0.8888888888888888,\"#fdca26\"],[1.0,\"#f0f921\"]],\"type\":\"histogram2dcontour\"}],\"histogram2d\":[{\"colorbar\":{\"outlinewidth\":0,\"ticks\":\"\"},\"colorscale\":[[0.0,\"#0d0887\"],[0.1111111111111111,\"#46039f\"],[0.2222222222222222,\"#7201a8\"],[0.3333333333333333,\"#9c179e\"],[0.4444444444444444,\"#bd3786\"],[0.5555555555555556,\"#d8576b\"],[0.6666666666666666,\"#ed7953\"],[0.7777777777777778,\"#fb9f3a\"],[0.8888888888888888,\"#fdca26\"],[1.0,\"#f0f921\"]],\"type\":\"histogram2d\"}],\"histogram\":[{\"marker\":{\"pattern\":{\"fillmode\":\"overlay\",\"size\":10,\"solidity\":0.2}},\"type\":\"histogram\"}],\"mesh3d\":[{\"colorbar\":{\"outlinewidth\":0,\"ticks\":\"\"},\"type\":\"mesh3d\"}],\"parcoords\":[{\"line\":{\"colorbar\":{\"outlinewidth\":0,\"ticks\":\"\"}},\"type\":\"parcoords\"}],\"pie\":[{\"automargin\":true,\"type\":\"pie\"}],\"scatter3d\":[{\"line\":{\"colorbar\":{\"outlinewidth\":0,\"ticks\":\"\"}},\"marker\":{\"colorbar\":{\"outlinewidth\":0,\"ticks\":\"\"}},\"type\":\"scatter3d\"}],\"scattercarpet\":[{\"marker\":{\"colorbar\":{\"outlinewidth\":0,\"ticks\":\"\"}},\"type\":\"scattercarpet\"}],\"scattergeo\":[{\"marker\":{\"colorbar\":{\"outlinewidth\":0,\"ticks\":\"\"}},\"type\":\"scattergeo\"}],\"scattergl\":[{\"marker\":{\"colorbar\":{\"outlinewidth\":0,\"ticks\":\"\"}},\"type\":\"scattergl\"}],\"scattermapbox\":[{\"marker\":{\"colorbar\":{\"outlinewidth\":0,\"ticks\":\"\"}},\"type\":\"scattermapbox\"}],\"scatterpolargl\":[{\"marker\":{\"colorbar\":{\"outlinewidth\":0,\"ticks\":\"\"}},\"type\":\"scatterpolargl\"}],\"scatterpolar\":[{\"marker\":{\"colorbar\":{\"outlinewidth\":0,\"ticks\":\"\"}},\"type\":\"scatterpolar\"}],\"scatter\":[{\"marker\":{\"colorbar\":{\"outlinewidth\":0,\"ticks\":\"\"}},\"type\":\"scatter\"}],\"scatterternary\":[{\"marker\":{\"colorbar\":{\"outlinewidth\":0,\"ticks\":\"\"}},\"type\":\"scatterternary\"}],\"surface\":[{\"colorbar\":{\"outlinewidth\":0,\"ticks\":\"\"},\"colorscale\":[[0.0,\"#0d0887\"],[0.1111111111111111,\"#46039f\"],[0.2222222222222222,\"#7201a8\"],[0.3333333333333333,\"#9c179e\"],[0.4444444444444444,\"#bd3786\"],[0.5555555555555556,\"#d8576b\"],[0.6666666666666666,\"#ed7953\"],[0.7777777777777778,\"#fb9f3a\"],[0.8888888888888888,\"#fdca26\"],[1.0,\"#f0f921\"]],\"type\":\"surface\"}],\"table\":[{\"cells\":{\"fill\":{\"color\":\"#EBF0F8\"},\"line\":{\"color\":\"white\"}},\"header\":{\"fill\":{\"color\":\"#C8D4E3\"},\"line\":{\"color\":\"white\"}},\"type\":\"table\"}]},\"layout\":{\"annotationdefaults\":{\"arrowcolor\":\"#2a3f5f\",\"arrowhead\":0,\"arrowwidth\":1},\"autotypenumbers\":\"strict\",\"coloraxis\":{\"colorbar\":{\"outlinewidth\":0,\"ticks\":\"\"}},\"colorscale\":{\"diverging\":[[0,\"#8e0152\"],[0.1,\"#c51b7d\"],[0.2,\"#de77ae\"],[0.3,\"#f1b6da\"],[0.4,\"#fde0ef\"],[0.5,\"#f7f7f7\"],[0.6,\"#e6f5d0\"],[0.7,\"#b8e186\"],[0.8,\"#7fbc41\"],[0.9,\"#4d9221\"],[1,\"#276419\"]],\"sequential\":[[0.0,\"#0d0887\"],[0.1111111111111111,\"#46039f\"],[0.2222222222222222,\"#7201a8\"],[0.3333333333333333,\"#9c179e\"],[0.4444444444444444,\"#bd3786\"],[0.5555555555555556,\"#d8576b\"],[0.6666666666666666,\"#ed7953\"],[0.7777777777777778,\"#fb9f3a\"],[0.8888888888888888,\"#fdca26\"],[1.0,\"#f0f921\"]],\"sequentialminus\":[[0.0,\"#0d0887\"],[0.1111111111111111,\"#46039f\"],[0.2222222222222222,\"#7201a8\"],[0.3333333333333333,\"#9c179e\"],[0.4444444444444444,\"#bd3786\"],[0.5555555555555556,\"#d8576b\"],[0.6666666666666666,\"#ed7953\"],[0.7777777777777778,\"#fb9f3a\"],[0.8888888888888888,\"#fdca26\"],[1.0,\"#f0f921\"]]},\"colorway\":[\"#636efa\",\"#EF553B\",\"#00cc96\",\"#ab63fa\",\"#FFA15A\",\"#19d3f3\",\"#FF6692\",\"#B6E880\",\"#FF97FF\",\"#FECB52\"],\"font\":{\"color\":\"#2a3f5f\"},\"geo\":{\"bgcolor\":\"white\",\"lakecolor\":\"white\",\"landcolor\":\"white\",\"showlakes\":true,\"showland\":true,\"subunitcolor\":\"#C8D4E3\"},\"hoverlabel\":{\"align\":\"left\"},\"hovermode\":\"closest\",\"mapbox\":{\"style\":\"light\"},\"paper_bgcolor\":\"white\",\"plot_bgcolor\":\"white\",\"polar\":{\"angularaxis\":{\"gridcolor\":\"#EBF0F8\",\"linecolor\":\"#EBF0F8\",\"ticks\":\"\"},\"bgcolor\":\"white\",\"radialaxis\":{\"gridcolor\":\"#EBF0F8\",\"linecolor\":\"#EBF0F8\",\"ticks\":\"\"}},\"scene\":{\"xaxis\":{\"backgroundcolor\":\"white\",\"gridcolor\":\"#DFE8F3\",\"gridwidth\":2,\"linecolor\":\"#EBF0F8\",\"showbackground\":true,\"ticks\":\"\",\"zerolinecolor\":\"#EBF0F8\"},\"yaxis\":{\"backgroundcolor\":\"white\",\"gridcolor\":\"#DFE8F3\",\"gridwidth\":2,\"linecolor\":\"#EBF0F8\",\"showbackground\":true,\"ticks\":\"\",\"zerolinecolor\":\"#EBF0F8\"},\"zaxis\":{\"backgroundcolor\":\"white\",\"gridcolor\":\"#DFE8F3\",\"gridwidth\":2,\"linecolor\":\"#EBF0F8\",\"showbackground\":true,\"ticks\":\"\",\"zerolinecolor\":\"#EBF0F8\"}},\"shapedefaults\":{\"line\":{\"color\":\"#2a3f5f\"}},\"ternary\":{\"aaxis\":{\"gridcolor\":\"#DFE8F3\",\"linecolor\":\"#A2B1C6\",\"ticks\":\"\"},\"baxis\":{\"gridcolor\":\"#DFE8F3\",\"linecolor\":\"#A2B1C6\",\"ticks\":\"\"},\"bgcolor\":\"white\",\"caxis\":{\"gridcolor\":\"#DFE8F3\",\"linecolor\":\"#A2B1C6\",\"ticks\":\"\"}},\"title\":{\"x\":0.05},\"xaxis\":{\"automargin\":true,\"gridcolor\":\"#EBF0F8\",\"linecolor\":\"#EBF0F8\",\"ticks\":\"\",\"title\":{\"standoff\":15},\"zerolinecolor\":\"#EBF0F8\",\"zerolinewidth\":2},\"yaxis\":{\"automargin\":true,\"gridcolor\":\"#EBF0F8\",\"linecolor\":\"#EBF0F8\",\"ticks\":\"\",\"title\":{\"standoff\":15},\"zerolinecolor\":\"#EBF0F8\",\"zerolinewidth\":2}}},\"xaxis\":{\"anchor\":\"y\",\"domain\":[0.0,1.0],\"title\":{\"text\":\"Casos de Monkeypox confirmados\"}},\"yaxis\":{\"anchor\":\"x\",\"domain\":[0.0,1.0],\"title\":{\"text\":\"Regi\\u00e3o\"},\"categoryorder\":\"total ascending\"},\"legend\":{\"tracegroupgap\":0},\"title\":{\"text\":\"Casos confirmados de Monkeypox por Regi\\u00e3o do Brasil em 13/08/2022.\"},\"barmode\":\"relative\",\"height\":500,\"width\":500},                        {\"responsive\": true}                    ).then(function(){\n",
              "                            \n",
              "var gd = document.getElementById('1560fefa-81ec-4470-8c0c-c53e98bb7098');\n",
              "var x = new MutationObserver(function (mutations, observer) {{\n",
              "        var display = window.getComputedStyle(gd).display;\n",
              "        if (!display || display === 'none') {{\n",
              "            console.log([gd, 'removed!']);\n",
              "            Plotly.purge(gd);\n",
              "            observer.disconnect();\n",
              "        }}\n",
              "}});\n",
              "\n",
              "// Listen for the removal of the full notebook cells\n",
              "var notebookContainer = gd.closest('#notebook-container');\n",
              "if (notebookContainer) {{\n",
              "    x.observe(notebookContainer, {childList: true});\n",
              "}}\n",
              "\n",
              "// Listen for the clearing of the current output cell\n",
              "var outputEl = gd.closest('.output');\n",
              "if (outputEl) {{\n",
              "    x.observe(outputEl, {childList: true});\n",
              "}}\n",
              "\n",
              "                        })                };                            </script>        </div>\n",
              "</body>\n",
              "</html>"
            ]
          },
          "metadata": {}
        }
      ]
    },
    {
      "cell_type": "markdown",
      "source": [
        "A região Sudeste é a que apresenta maior número de casos. Isso se deve ao fato de que é a região mais populosa do país. Sendo assim, o número de casos é proporcional à população desses estados."
      ],
      "metadata": {
        "id": "RJtTkB5LJ_3L"
      }
    },
    {
      "cell_type": "markdown",
      "source": [
        "**Mapa dos casos confirmados de Monkeypox no Brasil por UF até 13/08/2022**"
      ],
      "metadata": {
        "id": "BfwT8Maf0Qwp"
      }
    },
    {
      "cell_type": "markdown",
      "source": [
        "**Carregando o arquivo com dados geoespaciais**"
      ],
      "metadata": {
        "id": "XqOlyBgL2MrU"
      }
    },
    {
      "cell_type": "code",
      "source": [
        "!wget --verbose --show-progress --no-check-certificate https://raw.githubusercontent.com/jonates/opendata/master/arquivos_geoespaciais/unidades_da_federacao.json"
      ],
      "metadata": {
        "colab": {
          "base_uri": "https://localhost:8080/"
        },
        "id": "Hjc2xnGf22Fw",
        "outputId": "73e7d26c-9838-450e-a74f-470fb9706d8b"
      },
      "execution_count": 46,
      "outputs": [
        {
          "output_type": "stream",
          "name": "stdout",
          "text": [
            "--2022-08-24 13:55:09--  https://raw.githubusercontent.com/jonates/opendata/master/arquivos_geoespaciais/unidades_da_federacao.json\n",
            "Resolving raw.githubusercontent.com (raw.githubusercontent.com)... 185.199.108.133, 185.199.109.133, 185.199.110.133, ...\n",
            "Connecting to raw.githubusercontent.com (raw.githubusercontent.com)|185.199.108.133|:443... connected.\n",
            "HTTP request sent, awaiting response... 200 OK\n",
            "Length: 123654 (121K) [text/plain]\n",
            "Saving to: ‘unidades_da_federacao.json’\n",
            "\n",
            "unidades_da_federac 100%[===================>] 120.76K  --.-KB/s    in 0.02s   \n",
            "\n",
            "2022-08-24 13:55:10 (7.48 MB/s) - ‘unidades_da_federacao.json’ saved [123654/123654]\n",
            "\n"
          ]
        }
      ]
    },
    {
      "cell_type": "code",
      "source": [
        "#Importando a Json\n",
        "\n",
        "import json"
      ],
      "metadata": {
        "id": "j_6-u7oj0acL"
      },
      "execution_count": 47,
      "outputs": []
    },
    {
      "cell_type": "code",
      "source": [
        "#Abrindo o JSON e guardando em um objeto:\n",
        "\n",
        "objeto_geo_uf=open('/content/unidades_da_federacao.json',)"
      ],
      "metadata": {
        "id": "h-Citerr3A_X"
      },
      "execution_count": 48,
      "outputs": []
    },
    {
      "cell_type": "code",
      "source": [
        "#Lendo o arquivo georreferenciado no formato JSON:\n",
        "\n",
        "geo_uf=json.load(objeto_geo_uf)"
      ],
      "metadata": {
        "id": "3uLEyF9q3SWg"
      },
      "execution_count": 49,
      "outputs": []
    },
    {
      "cell_type": "code",
      "source": [
        "#Observando a estrutura do json:\n",
        "geo_uf['features'][6]\n",
        "\n"
      ],
      "metadata": {
        "colab": {
          "base_uri": "https://localhost:8080/"
        },
        "id": "X_omAR_O3STk",
        "outputId": "c86500f3-2e36-48ad-8a27-a0075afa21f1"
      },
      "execution_count": 50,
      "outputs": [
        {
          "output_type": "execute_result",
          "data": {
            "text/plain": [
              "{'type': 'Feature',\n",
              " 'geometry': {'type': 'Polygon',\n",
              "  'coordinates': [[[-48.20054439299997, -15.500255152999962],\n",
              "    [-47.41733820999994, -15.500256607999994],\n",
              "    [-47.322160931999974, -15.598471616999952],\n",
              "    [-47.3125601629999, -15.73990848599994],\n",
              "    [-47.378837711999935, -15.884151574999947],\n",
              "    [-47.308386986999935, -16.050264260999967],\n",
              "    [-48.27860601199998, -16.05026116599989],\n",
              "    [-48.28565984899991, -15.84452858099997],\n",
              "    [-48.21747172599998, -15.762279238999941],\n",
              "    [-48.20054439299997, -15.500255152999962]]]},\n",
              " 'properties': {'NM_ESTADO': 'DISTRITO FEDERAL',\n",
              "  'NM_REGIAO': 'CENTRO-OESTE',\n",
              "  'CD_GEOCUF': '53'}}"
            ]
          },
          "metadata": {},
          "execution_count": 50
        }
      ]
    },
    {
      "cell_type": "markdown",
      "source": [
        "**Confeccionando o mapa da taxa de mortalidade**"
      ],
      "metadata": {
        "id": "OOEwnHeOEatP"
      }
    },
    {
      "cell_type": "code",
      "source": [
        "#Analisando a estrutura:\n",
        "\n",
        "mp_brasil.info()"
      ],
      "metadata": {
        "colab": {
          "base_uri": "https://localhost:8080/"
        },
        "id": "9UQ9jASZ4Lg1",
        "outputId": "a11c93bd-709d-4005-e10a-de6ff1d92418"
      },
      "execution_count": 51,
      "outputs": [
        {
          "output_type": "stream",
          "name": "stdout",
          "text": [
            "<class 'pandas.core.frame.DataFrame'>\n",
            "RangeIndex: 27 entries, 0 to 26\n",
            "Data columns (total 6 columns):\n",
            " #   Column             Non-Null Count  Dtype \n",
            "---  ------             --------------  ----- \n",
            " 0   NM_REGIAO          27 non-null     object\n",
            " 1   NM_ESTADO          27 non-null     object\n",
            " 2   CD_GEOCUF          27 non-null     int64 \n",
            " 3   casos_confirmados  27 non-null     int64 \n",
            " 4   casos_suspeitos    27 non-null     int64 \n",
            " 5   obitos             27 non-null     int64 \n",
            "dtypes: int64(4), object(2)\n",
            "memory usage: 1.4+ KB\n"
          ]
        }
      ]
    },
    {
      "cell_type": "code",
      "source": [
        "#Confeccionando o mapa:\n",
        "\n",
        "mapa_monkeypox = px.choropleth_mapbox(\n",
        "    data_frame = mp_brasil, \n",
        "    geojson = geo_uf,\n",
        "    locations = 'NM_ESTADO',\n",
        "    featureidkey='properties.NM_ESTADO',\n",
        "    color='casos_confirmados',\n",
        "    color_continuous_scale='reds',\n",
        "    #color_continuous_scale=px.colors.diverging.RdBu_r,\n",
        "    #color_continuous_midpoint = 2,\n",
        "    range_color=(0,350),\n",
        "    mapbox_style=\"open-street-map\",\n",
        "    zoom=2.5,\n",
        "    center={\"lat\":-17.14, \"lon\": -57.33},\n",
        "    opacity=1,\n",
        "    labels = {'casos_confirmados':'Casos confirmados',\n",
        "              'NM_ESTADO':'Unidade da Federação'\n",
        "    },\n",
        "    width = 1000,\n",
        "    height=800,\n",
        "    title='Casos confirmados de Monkeypox'\n",
        "\n",
        ")"
      ],
      "metadata": {
        "id": "5yhsI35b5KVT"
      },
      "execution_count": 52,
      "outputs": []
    },
    {
      "cell_type": "code",
      "source": [
        "#Fazendo alguns ajustes no mapa:\n",
        "\n",
        "mapa_monkeypox.update_layout(margin={'r':0, 't':0, 'l':0, 'b':0 })\n",
        "\n",
        "mapa_monkeypox.update_layout(coloraxis_showscale=False)\n",
        "\n",
        "mapa_monkeypox.update_traces(marker_line_width=1.0)\n",
        "\n",
        "mapa_monkeypox.show()"
      ],
      "metadata": {
        "colab": {
          "base_uri": "https://localhost:8080/",
          "height": 817
        },
        "id": "0gmsBJOCBM7w",
        "outputId": "db500650-8cc9-4c52-edc4-210eac742b69"
      },
      "execution_count": 53,
      "outputs": [
        {
          "output_type": "display_data",
          "data": {
            "text/html": [
              "<html>\n",
              "<head><meta charset=\"utf-8\" /></head>\n",
              "<body>\n",
              "    <div>            <script src=\"https://cdnjs.cloudflare.com/ajax/libs/mathjax/2.7.5/MathJax.js?config=TeX-AMS-MML_SVG\"></script><script type=\"text/javascript\">if (window.MathJax) {MathJax.Hub.Config({SVG: {font: \"STIX-Web\"}});}</script>                <script type=\"text/javascript\">window.PlotlyConfig = {MathJaxConfig: 'local'};</script>\n",
              "        <script src=\"https://cdn.plot.ly/plotly-2.8.3.min.js\"></script>                <div id=\"91344c50-c43e-43ef-bc18-142daf1bbed3\" class=\"plotly-graph-div\" style=\"height:800px; width:1000px;\"></div>            <script type=\"text/javascript\">                                    window.PLOTLYENV=window.PLOTLYENV || {};                                    if (document.getElementById(\"91344c50-c43e-43ef-bc18-142daf1bbed3\")) {                    Plotly.newPlot(                        \"91344c50-c43e-43ef-bc18-142daf1bbed3\",                        [{\"coloraxis\":\"coloraxis\",\"featureidkey\":\"properties.NM_ESTADO\",\"geojson\":{\"type\":\"FeatureCollection\",\"features\":[{\"type\":\"Feature\",\"geometry\":{\"type\":\"Polygon\",\"coordinates\":[[[-66.81025311199988,-9.818045875999971],[-66.62671969099989,-9.898101245000014],[-66.9801989329999,-10.19431558399997],[-67.18033256799991,-10.339460113999955],[-67.3105100489999,-10.320922285999924],[-67.43572846299992,-10.446790359999959],[-67.57903554699993,-10.503396510999941],[-67.70493656899994,-10.699231594000015],[-67.86365695299992,-10.64042424799998],[-68.02089945199992,-10.650235292999955],[-68.27856039799994,-10.989313449999983],[-68.48718609799987,-11.050875333999933],[-68.54297139499988,-11.111355478999908],[-68.7161195959999,-11.145561466999943],[-68.84837791799994,-10.991446527999905],[-69.10253429099997,-10.979946979000022],[-69.40511791399997,-10.927407512999988],[-69.73920890699992,-10.963332661999981],[-69.9325406559999,-10.920607248999993],[-70.14184908299993,-11.029534535999975],[-70.31373699899994,-11.06907759199991],[-70.4357171229999,-11.038774791999973],[-70.5300779019999,-10.93481387099995],[-70.62100662199997,-10.999641142999984],[-70.62058643599994,-9.83225097799998],[-70.52679163599996,-9.72259675999998],[-70.59732897699993,-9.609249056999914],[-70.7583249559999,-9.604977214999955],[-70.86885676999995,-9.664338501999993],[-70.99310915199997,-9.816571680000031],[-71.1630090239999,-9.875320926999965],[-71.21084503599997,-9.966390064999931],[-71.37741667399995,-9.999999995999943],[-72.1804527729999,-9.999999996999943],[-72.15098223899999,-9.79892744099995],[-72.27089314999988,-9.744838163999937],[-72.24624912699991,-9.657194004999937],[-72.34045658199993,-9.506795131999969],[-72.71738764699994,-9.411647296999949],[-73.21189721399995,-9.411669451000005],[-72.94015031399992,-9.069015963000005],[-73.20834619299994,-8.680950629999963],[-73.34397366099994,-8.602083962999952],[-73.32773088599991,-8.481526347999925],[-73.53695137499994,-8.345482304000008],[-73.59395073799986,-8.097404417999932],[-73.74650024299996,-7.952557438999964],[-73.6838098849999,-7.776054932999955],[-73.82167274899993,-7.717497207999969],[-73.94236958099994,-7.598569565999981],[-73.91931376099991,-7.46529186599998],[-73.96617351599994,-7.3516088599999705],[-73.71820555499991,-7.328827769999947],[-73.71380920699995,-7.233858615999967],[-73.8015581149999,-7.111824378999977],[-72.58476562199992,-7.552004229999977],[-71.08849539099991,-7.7262661359999605],[-70.05497934899996,-7.8451491469999866],[-69.37995909199995,-8.42152340699991],[-68.64718643199997,-9.04941656599998],[-67.51688199899996,-9.560906660999958],[-67.32581722099998,-9.592381467999967],[-66.81025311199988,-9.818045875999971]]]},\"properties\":{\"NM_ESTADO\":\"ACRE\",\"NM_REGIAO\":\"NORTE\",\"CD_GEOCUF\":\"12\"}},{\"type\":\"Feature\",\"geometry\":{\"type\":\"Polygon\",\"coordinates\":[[[-35.15252650099993,-8.913837168999962],[-35.30431623399988,-9.190553226999999],[-35.49765416299992,-9.419712087999944],[-35.81282836599993,-9.732212342999947],[-36.05913054199989,-10.085567733999913],[-36.26935147999992,-10.271283386999897],[-36.393876845999884,-10.500343567999938],[-36.56590148199994,-10.329520637000012],[-36.81431188599999,-10.218853777999893],[-36.88059681599993,-10.145068555999949],[-36.887604851999974,-10.14302186699998],[-36.96395836099997,-9.997477697999969],[-37.47370403499994,-9.746837614999993],[-37.57190114899993,-9.738724335999983],[-37.895920274999995,-9.54006489299999],[-38.00328989799988,-9.515029907999995],[-38.20256943199993,-9.419828037999945],[-38.23653959599991,-9.331230343000009],[-38.23758892849991,-9.329793446499913],[-38.09228733099994,-9.17272497799997],[-37.993657987999896,-9.155333168999991],[-37.755361889999946,-8.846363686000004],[-37.65777777799997,-8.992666667000005],[-37.498756992999915,-8.969272875000001],[-37.3586390839999,-9.053889107999936],[-37.247083410999956,-9.17901850499996],[-37.09067293199997,-9.246362072000004],[-36.955464647999925,-9.381251129000013],[-36.913692246999915,-9.296055649000024],[-36.76177253599997,-9.271456992999983],[-36.60655581099989,-9.34071621299999],[-36.43182995099989,-9.212130488999982],[-36.26471955899992,-9.165862559999983],[-36.128248999999975,-8.957717182000003],[-35.91141749899993,-8.861289080999924],[-35.74839897099995,-8.917151913999955],[-35.535177908999934,-8.819454778999948],[-35.15252650099993,-8.913837168999962]]]},\"properties\":{\"NM_ESTADO\":\"ALAGOAS\",\"NM_REGIAO\":\"NORDESTE\",\"CD_GEOCUF\":\"27\"}},{\"type\":\"Feature\",\"geometry\":{\"type\":\"Polygon\",\"coordinates\":[[[-50.09391434099992,0.7020927030000337],[-50.271758923999954,0.6882317160000753],[-50.43654689699997,0.6001070250000211],[-50.55295259499992,0.31249548199998856],[-50.668197495999934,0.18503447300004439],[-50.97483257399995,0.04179323100006371],[-51.06892589599994,-0.07912574300002007],[-51.21636285899989,-0.11861278600002834],[-51.34778282599992,-0.2996133399999721],[-51.45778850199996,-0.5132340420000077],[-51.595536157999966,-0.650437826999962],[-51.68344859699987,-0.7940294189999761],[-51.700426963999924,-1.0632108679999206],[-51.77839937799993,-1.1404122749999885],[-52.05506426799991,-1.1769499769999499],[-52.33298792299994,-1.115891486999999],[-52.51107462399993,-0.8566590859999863],[-52.535179812999914,-0.5740876209999755],[-52.64000900999992,-0.5849060829999928],[-52.69543632999989,-0.49640173499996365],[-52.6841716199999,-0.314313678000012],[-52.85154313299989,-0.15016079099996205],[-52.93274365899991,-0.1423073009999527],[-52.983383138999955,0.03338118900002485],[-53.175310541999906,0.3817171800000878],[-53.10574358899993,0.6794615160000674],[-53.411494202999954,0.9293441510000804],[-53.459157642999955,1.1336804160000185],[-53.5952180999999,1.3581540769999947],[-53.78372215199994,1.4028538720000086],[-54.020274060999895,1.5157631460000403],[-54.143663702999945,1.6406120460000366],[-54.351691834999905,1.7540726830000324],[-54.74477907199997,1.775800778000061],[-54.80380488699996,2.025822781000052],[-54.76311087599992,2.202319065999994],[-54.87225092899992,2.4337465869999733],[-54.74403243399992,2.471486165999991],[-54.69208678299991,2.361396274000093],[-54.43657915999989,2.2098866610000627],[-54.18907911899993,2.1788274929999787],[-54.001241567999884,2.229989975000038],[-53.74163346799996,2.3749993670000293],[-53.65629533199989,2.2845212370000283],[-53.473077168999964,2.2567389660000075],[-53.32329616499987,2.3471142380000245],[-53.22068869099992,2.193613318000075],[-53.084518574999876,2.2127427980000363],[-52.98449894499999,2.1571737989999775],[-52.672434322999884,2.3723212670000464],[-52.527599941999895,2.576819721999989],[-52.5535443749999,2.645146273000009],[-52.23620532699993,3.2446001830000597],[-51.993789719999924,3.635110139000041],[-51.924339529999926,3.7834366480000483],[-51.805534074999926,3.878242994000061],[-51.743596116999946,3.996451726999986],[-51.64653669799995,4.0445394250000035],[-51.54965085899992,4.424341062000025],[-51.42767771999992,4.373604661000051],[-51.25200901599989,4.191419260000039],[-51.17900877799997,3.94484227300007],[-51.075612053,3.890615724000071],[-51.087058483999925,3.3884384950000594],[-51.022057909999944,3.2080844630000485],[-50.97961125599993,2.9340965500000564],[-50.8403380199999,2.634370598999979],[-50.83148050399995,2.5331756850000247],[-50.69330961499992,2.208479051000033],[-50.45650290999993,2.2038603980000673],[-50.352443876999956,2.0868144639999855],[-50.23814165899996,1.8031826099999861],[-50.173225677999866,1.8148142070000475],[-49.925302677999994,1.707177678000015],[-49.877528661999904,1.475930523000038],[-49.89191337299994,1.2025168210000317],[-49.940779478999886,0.9935449350000596],[-50.09308120099991,0.7821838030000166],[-50.09391434099992,0.7020927030000337]]]},\"properties\":{\"NM_ESTADO\":\"AMAP\\u00c1\",\"NM_REGIAO\":\"NORTE\",\"CD_GEOCUF\":\"16\"}},{\"type\":\"Feature\",\"geometry\":{\"type\":\"Polygon\",\"coordinates\":[[[-63.37208910399994,2.2118616500000456],[-63.27635142799988,2.154389691000013],[-63.1463394419999,2.1732585560000786],[-63.02377614999992,2.0146793629999706],[-62.83857147599994,2.0163863560000763],[-62.729583834999936,1.9605493510000542],[-62.72860678899992,1.699999999000056],[-62.80528233299991,1.5913456640001016],[-62.639964767999956,1.4382383060000308],[-62.521087891999905,1.0838158780000597],[-62.44273541599989,0.958533913000025],[-62.46302607899992,0.7768687830000758],[-62.53829053099995,0.6751955420000613],[-62.53300861699991,0.5088083590000707],[-62.46688913799989,0.33296778300002927],[-62.41496677099994,0.07437888900005873],[-62.245038932999904,-0.17471605599996565],[-62.202262855999905,-0.39304369999999267],[-62.31836376899995,-0.5525119609999436],[-62.287537919999906,-0.638332251999941],[-62.50107315499997,-0.7814660970000062],[-62.37606719099995,-0.8364693249999675],[-62.312742271999966,-0.9303550079999141],[-62.01746027499997,-1.141743980999955],[-61.89662390699988,-1.3953552569999204],[-61.798009427999915,-1.3806299629999472],[-61.604954677999935,-1.4481314559999134],[-61.6269031399999,-1.2939700429999377],[-61.54660281999993,-1.0712097199999633],[-61.57856494899994,-0.9100751779999925],[-61.54217677999991,-0.7636911579999435],[-61.45689971099992,-0.657024098000015],[-61.0874569299999,-0.5000854139999262],[-60.91634183199987,-0.6103597729999919],[-60.66801047899997,-0.8945179939999335],[-60.498007147999914,-0.7895229729999684],[-60.30967178199988,-0.7248011769999536],[-60.39995379199992,-0.5100834300000088],[-60.34469627099996,-0.4406104709999923],[-60.29411463199992,-0.21895831999996318],[-60.22050589599992,-0.13535779599995834],[-60.137945011999875,0.1026929520000266],[-60.037968645999925,0.2635455170000327],[-58.89546481899997,0.26351027600004784],[-58.895500267999964,0.000920342000057417],[-58.86388394599997,-0.07802978499993429],[-58.874587075999955,-0.3357887029999702],[-58.72522036699994,-0.4422212149999467],[-58.7039408399999,-0.6713875249999788],[-58.45904398799995,-0.8639933319999358],[-58.43008210799994,-1.0271164859999544],[-58.323287251999915,-1.1432942519999685],[-58.16264412799992,-1.229656534999954],[-58.01754288599987,-1.1061496809999767],[-57.96548874499994,-1.2060848079999715],[-57.9963865489999,-1.3443208139999783],[-57.918524936999916,-1.419807488999922],[-57.71316449899997,-1.504146991999967],[-57.35206943299991,-1.7331679599999603],[-57.27440005899993,-1.709736464999942],[-57.09785618999996,-1.7751054009999407],[-57.037209145999945,-1.9115537669999156],[-56.72138219799994,-2.0591744409999677],[-56.76095896699991,-2.1740581910000287],[-56.61291318799995,-2.2101712710000285],[-56.527065317999984,-2.1391951789999837],[-56.41388279499991,-2.175949603999939],[-56.18670342099996,-2.0428213299999527],[-56.203769677999915,-2.183080194999995],[-56.38431573999991,-2.270475355000002],[-56.393972061999875,-2.286227457999935],[-56.46448628999998,-2.4315948099999716],[-56.42630062499991,-2.5015831259999928],[-56.72353168999997,-3.1465974950000373],[-56.767891477999925,-3.242889315999939],[-57.00048911999991,-3.7591295860000216],[-57.58557325799991,-5.000743090999983],[-58.033639006999934,-5.978137803000003],[-58.26672285899992,-6.475560522000002],[-58.42730575499991,-6.616167480999977],[-58.48175560999991,-6.781421650999931],[-58.43455593199991,-6.908806512999966],[-58.180995823999915,-7.181736709999932],[-58.13705564099996,-7.3561227629999735],[-58.213059953999924,-7.458534735000001],[-58.202170605999996,-7.620854258999966],[-58.375135512999954,-7.899001267000006],[-58.293064251999915,-8.070946917000011],[-58.31858499099995,-8.330135506999948],[-58.41705344899992,-8.491955783999995],[-58.38951831499992,-8.59479245599999],[-58.44286786999993,-8.799399102999917],[-59.481363057999914,-8.803320905999957],[-60.42018081799991,-8.796622586999959],[-61.58313478499995,-8.798689053999965],[-61.74185400599992,-8.695192860999935],[-61.84124993399989,-8.739410640999946],[-61.85974862099988,-8.852973303999946],[-61.97913997899995,-8.873244618999966],[-62.12497174299996,-8.801671148999969],[-62.18370053599989,-8.59896651299994],[-62.36605117099998,-8.493561707999998],[-62.36080349999993,-8.398549286999991],[-62.65500162299995,-8.229056373999978],[-62.69228013499992,-8.092908286999979],[-62.86661657199994,-7.975868297000034],[-63.621426974999906,-7.976531735999949],[-63.72276144799996,-8.249498971999959],[-63.79123129199993,-8.333215251999949],[-63.94412252099988,-8.331187684999964],[-63.9245687009999,-8.57552541599993],[-64.14306706899993,-8.743031521999956],[-64.14176693799992,-8.945050737999939],[-64.32339962999994,-8.928860605],[-64.58796100999989,-9.00950990599998],[-64.80782419299996,-8.985551791000002],[-64.93992979499997,-9.124565832999988],[-64.91968281999992,-9.220280295999995],[-65.05354596899996,-9.40214225199998],[-65.14288058199993,-9.446812339999934],[-65.24666142999989,-9.25766355299993],[-65.44021839999994,-9.31174527999994],[-65.50316325099992,-9.469975436999945],[-65.67943521399995,-9.451392892999944],[-65.72996717899997,-9.56307267899994],[-66.00257566199997,-9.404257388000016],[-66.0266340839999,-9.400841688999929],[-66.1736327839999,-9.434418657999966],[-66.37477644899992,-9.42636614500001],[-66.50061335999995,-9.633564154999942],[-66.77536361699997,-9.753091304999973],[-66.81025311199988,-9.818045875999971],[-67.32581722099998,-9.592381467999967],[-67.51688199899996,-9.560906660999958],[-68.64718643199997,-9.04941656599998],[-69.37995909199995,-8.42152340699991],[-70.05497934899996,-7.8451491469999866],[-71.08849539099991,-7.7262661359999605],[-72.58476562199992,-7.552004229999977],[-73.8015581149999,-7.111824378999977],[-73.75458136999997,-6.9419073099999515],[-73.64280579499996,-6.762149042000033],[-73.35449137799995,-6.5949158719999375],[-73.21296397199993,-6.577838570999958],[-73.10886559099998,-6.41003127999997],[-73.25024762899987,-6.1449403959999955],[-73.23746863899991,-6.0321910439999655],[-72.99218993699999,-5.7037789789999636],[-72.95690912299993,-5.465407835999933],[-72.81457773399991,-5.109738432999997],[-72.65265046999998,-5.063701415000011],[-72.60667471199991,-4.995579909999989],[-72.38568792699986,-4.872277337999954],[-72.37165457499995,-4.807365560999941],[-72.10034730999998,-4.70319591199997],[-71.85645534899994,-4.513174191999944],[-71.74117751499996,-4.485526358999948],[-71.60645343699991,-4.534430033999982],[-71.53756408699996,-4.46737645299995],[-71.271589862,-4.3970195579999825],[-71.04328448799997,-4.4010012660000015],[-70.91550136799994,-4.354032478999926],[-70.80817265499996,-4.183531966000032],[-70.68103383499987,-4.199791779999963],[-70.52095096699995,-4.1426805220000205],[-70.29883413299993,-4.166064210999984],[-70.20894858399993,-4.328144098999928],[-70.10372713899989,-4.276246297999961],[-70.03277891399993,-4.355167515999959],[-69.93516662799992,-4.216471202999969],[-69.74250234899992,-3.1660075549999362],[-69.53446337699995,-2.0005089020000284],[-69.39838105099989,-1.1444041739999662],[-69.46357654299993,-0.9673409570000189],[-69.6226049329999,-0.7321441009999958],[-69.57380095299995,-0.6498360689999956],[-69.61110226199993,-0.5134524649999648],[-69.84488463999999,-0.34579646099997063],[-69.92315948799997,-0.3315148549999378],[-70.05743321299995,-0.18677651199998735],[-70.04356553799988,0.5588281359999883],[-69.94238584699994,0.5542955100000384],[-69.6067941399999,0.6292069549999937],[-69.48147467299997,0.735607384000069],[-69.36885119799996,0.6275134820000332],[-69.23895159999995,0.6023902070000133],[-69.14502138999997,0.7830299150000357],[-69.21304497199996,1.0201807899999906],[-69.32157831999994,1.0956948840000749],[-69.84437663899996,1.0853793270000125],[-69.84254544099997,1.7207748500000832],[-69.6575811659999,1.7367307029999992],[-69.55234486499995,1.7917466290000377],[-69.38488648199997,1.7297370179999874],[-68.15681266699994,1.731635295000025],[-68.26690261199992,1.8273362929999806],[-68.24325589299995,1.9267463680000532],[-67.94129483499995,1.8307309210000113],[-67.77942218299992,2.0310639550000147],[-67.61983154399998,2.023673187000007],[-67.55091262199988,2.1417181260000575],[-67.38926080699991,2.2440111460000125],[-67.27808698399996,1.875747134000008],[-67.15705006599988,1.8488441179999953],[-67.09738157299992,1.7326009109999845],[-67.07233104699996,1.442604125000038],[-67.08816023899989,1.1668967080000527],[-66.85693312299996,1.2302062530000129],[-66.31852012999992,0.7550421589999772],[-66.15108764199987,0.7444720360000758],[-65.97137029099996,0.8060344240000674],[-65.93658492399994,0.8821381039999991],[-65.73942089599996,0.9995908080000717],[-65.58555827999993,1.0089345810000196],[-65.50359070099994,0.8524478140000227],[-65.5913674229999,0.7216109970000133],[-65.45275702499991,0.6854416449999761],[-65.32914008199997,0.9315674740000972],[-65.1649762009999,0.950477762000034],[-65.15147506399997,1.1164773700000268],[-65.0222489849999,1.1149409099999943],[-64.80330940599997,1.3105006630000275],[-64.72247018799999,1.2384823059999874],[-64.53135564099988,1.4352187760000348],[-64.3999729179999,1.3948722980000596],[-64.14413736099993,1.582434995000014],[-64.0652480139999,1.6760095760000695],[-64.06191559299997,1.9307373020000398],[-63.97552377799993,1.991305874000048],[-63.82968825499988,1.9682281049999943],[-63.56190641799992,2.1323587380000646],[-63.3977408919999,2.146886822000063],[-63.37208910399994,2.2118616500000456]]]},\"properties\":{\"NM_ESTADO\":\"AMAZONAS\",\"NM_REGIAO\":\"NORTE\",\"CD_GEOCUF\":\"13\"}},{\"type\":\"Feature\",\"geometry\":{\"type\":\"Polygon\",\"coordinates\":[[[-38.23758980399994,-9.329794345999943],[-38.23653959599991,-9.331230343000009],[-38.20256943199993,-9.419828037999945],[-38.00328989799988,-9.515029907999995],[-38.02820307699992,-9.776078236999975],[-37.96667190799994,-9.816052383999963],[-37.95746510799995,-9.971283672999999],[-37.82482312299988,-10.010087937000002],[-37.73487562299991,-10.332807017999968],[-37.83392608999998,-10.378339917999991],[-37.81393243599993,-10.691048422999906],[-37.926166128999924,-10.735949248999944],[-37.95577735499993,-10.747795717999931],[-38.17012565599995,-10.712385780000023],[-38.17016558199997,-10.712375417999965],[-38.24503174999991,-10.822741078000032],[-38.22582528799989,-10.917125510999949],[-38.01518596499989,-11.184014427999923],[-38.01460562799992,-11.184216375999934],[-37.96789796899995,-11.390518669999917],[-37.68161420499991,-11.563453639999977],[-37.436388482999924,-11.513643144999964],[-37.34114665399994,-11.442336473999926],[-37.41061829499994,-11.541290502000013],[-37.607224969999905,-11.947912845999987],[-37.76436828399987,-12.229950040999938],[-38.00103879499987,-12.577767609000002],[-38.35353771299994,-12.957058847999981],[-38.467554602999954,-13.012543587999993],[-38.64182299999994,-13.01531008300001],[-38.93099260099992,-13.219603601999964],[-38.96395348299997,-13.354374956999916],[-38.88667187399992,-13.450169516999978],[-38.88736737099991,-13.627376267999992],[-39.00080284899996,-13.78017012499997],[-38.9285534829999,-13.906944069999994],[-39.064264855999916,-14.637268649000013],[-38.99818768699994,-14.986761627999968],[-38.99686748999995,-15.227505911999973],[-38.93598118599994,-15.659344479000016],[-38.860609300999904,-15.832921832999936],[-39.01703041099989,-16.25147283999995],[-39.059344614999866,-16.42872130999995],[-39.22159350799994,-17.286214155000025],[-39.19010295599996,-17.59941049499998],[-39.13664990099992,-17.68532211799998],[-39.27262471799997,-17.872097105999952],[-39.50000737199994,-18.00747491599999],[-39.667818741999916,-18.33718507399993],[-40.222350608999946,-17.98041738699998],[-40.174127289999895,-17.85156121699998],[-40.33404902299997,-17.632148449999963],[-40.45922640799988,-17.56949244299999],[-40.59750650099989,-17.420633261999964],[-40.55508148799998,-17.288524587999966],[-40.571666311999884,-17.065881466999922],[-40.49232685599993,-16.887398714999936],[-40.332858104999936,-16.769547364000005],[-40.27549007499989,-16.57341767399998],[-40.17285293799988,-16.577436768999988],[-40.103302747999955,-16.437010341999937],[-39.96049585699994,-16.321882729000038],[-39.85682889099991,-16.113824768000008],[-39.9576013609999,-15.992020368999938],[-40.15982618399993,-15.908464877000018],[-40.22944035699991,-15.80869740099995],[-40.56110346899988,-15.803614905999975],[-40.7005752109999,-15.667309000999975],[-41.00605944999991,-15.713837348999938],[-41.14253020599996,-15.77204700299999],[-41.33120609799992,-15.74467336399994],[-41.35642274499993,-15.500286133999964],[-41.800710056999876,-15.101097119999963],[-41.95343434999996,-15.175664497999964],[-42.096068273999876,-15.18244210499995],[-42.26198602199993,-15.124421123999966],[-42.719041902999955,-14.886149280999984],[-42.7233597749999,-14.885612360999968],[-42.95268816199993,-14.708402281999945],[-43.17495456699989,-14.651054805999909],[-43.424204047999915,-14.720094949999996],[-43.51116285799996,-14.796574542999942],[-43.846867677999946,-14.672105030999983],[-43.874833629999884,-14.524547110999976],[-43.80008526299992,-14.337827249999947],[-44.1072856599999,-14.259120380000013],[-44.34059577999996,-14.249400293999926],[-44.56612389499996,-14.341375145999958],[-44.81076609399999,-14.503101176999934],[-44.86919474699995,-14.593384684],[-45.20557367699993,-14.74473894399997],[-45.41029638499996,-14.92343881299998],[-45.53610343399992,-14.938126235000016],[-45.75110945999992,-15.122582171999955],[-45.87215889399987,-15.158803130999999],[-46.04372018999987,-15.118129571999962],[-45.96608091099989,-14.965645483999946],[-46.03757491499989,-14.874656162999923],[-45.960247666999976,-14.29191728499999],[-46.2548643899999,-14.10489875699994],[-46.255975402999994,-13.69389379799999],[-46.21436312999991,-13.400713146999955],[-46.330168261999916,-13.25281139700001],[-46.27337900499997,-13.014953492999993],[-46.11427457999992,-12.917905522999963],[-46.30061682199988,-12.949818771000011],[-46.26492115099996,-12.71694829199992],[-46.28935342899991,-12.633654580999988],[-46.25175315899996,-12.429876211999936],[-46.3743717719999,-12.289805744999938],[-46.397865463999906,-12.040340194999978],[-46.28500025599988,-11.885938924999962],[-46.34974835199994,-11.753941940999969],[-46.2261935549999,-11.571217785999966],[-46.52006221099993,-11.483549199999988],[-46.61709675699992,-11.289450135000024],[-46.488142147999945,-11.205062104999964],[-46.40231041899989,-11.00027562499999],[-46.28721258399997,-10.91129428999993],[-46.18208831599997,-10.638771667999936],[-46.00699065699993,-10.57537839699998],[-45.83387075199994,-10.467240406999935],[-45.825755919999885,-10.366132734],[-45.69926630299994,-10.264711662999982],[-45.72399754899994,-10.15569586599996],[-45.60317609399993,-10.107982174999975],[-45.400268857999926,-10.463074347999935],[-45.437328173999965,-10.615566335999983],[-45.245967409999906,-10.822483106999915],[-45.08211325699989,-10.839502941999935],[-44.931217944999965,-10.928756348999947],[-44.66278284899987,-10.750561774000001],[-44.57777943099996,-10.626768771999973],[-44.5005051529999,-10.649701880999963],[-44.314547154999936,-10.55736299099992],[-44.13926402399992,-10.639884324999983],[-44.02584368599997,-10.475470726999948],[-43.93673482099993,-10.43613028699999],[-43.8369216249999,-10.302204972999963],[-43.759228515999915,-10.074605175999963],[-43.66517311699987,-9.991027969999934],[-43.66484573799987,-9.823654789999981],[-43.78492181599993,-9.762385011999953],[-43.85258131899992,-9.562138369999996],[-43.784247716999936,-9.45477289099992],[-43.57902656599997,-9.320390240999977],[-43.43812858699989,-9.266137781999962],[-43.285117358999955,-9.420028074999976],[-43.16152399599993,-9.379250070000001],[-42.98786311499993,-9.401338512999914],[-42.94379914999995,-9.520772843999993],[-42.82055280299994,-9.619230413999947],[-42.590358743999964,-9.498351978999931],[-42.493091775999936,-9.494900445999988],[-42.31607656799996,-9.316612335999942],[-41.837965768999915,-9.24227204399999],[-41.73082175799987,-9.027957202999982],[-41.54141013899988,-8.93355671599998],[-41.35833618399989,-8.707620177999932],[-41.13132497699991,-8.70425286999994],[-41.103351208999946,-8.780442621999974],[-40.92133725199991,-8.835430447999993],[-40.82100804099991,-9.079891426999943],[-40.66987315899997,-9.186132510999979],[-40.74983543599995,-9.443847168999998],[-40.62316567199993,-9.482897443999928],[-40.356397112999964,-9.376994262999961],[-40.273192198999915,-9.082421579999945],[-40.12989491999992,-9.110304605999954],[-39.968091036999894,-9.053197058999963],[-39.87442862099994,-8.936738523999988],[-39.89295772199988,-8.828793991999962],[-39.67330037599987,-8.78490396699998],[-39.59522578299994,-8.651205891999926],[-39.41604079999994,-8.542127928],[-39.28642128999993,-8.563759797999971],[-39.245492562999914,-8.684105868999993],[-39.03354835199995,-8.736313340000002],[-38.9519332089999,-8.80466824699997],[-38.79698945699994,-8.793464421999953],[-38.635376998999945,-8.986729250999904],[-38.51981109499993,-8.947582785000009],[-38.31865874899991,-9.14100171699992],[-38.23758980399994,-9.329794345999943]]]},\"properties\":{\"NM_ESTADO\":\"BAHIA\",\"NM_REGIAO\":\"NORDESTE\",\"CD_GEOCUF\":\"29\"}},{\"type\":\"Feature\",\"geometry\":{\"type\":\"Polygon\",\"coordinates\":[[[-37.253291124999954,-4.831555508000008],[-37.64033838099987,-4.926404605999998],[-37.72508935199994,-5.070624277000022],[-37.90224571299996,-5.500661805999904],[-38.081985387999936,-5.670122675999934],[-38.04688418399991,-5.732942049000009],[-38.122515429999915,-5.8817401469999595],[-38.30650118399994,-6.0870333769999405],[-38.41318705899992,-6.0583208259999495],[-38.57909282199996,-6.279082624999944],[-38.56250594099997,-6.355651694000009],[-38.55426538499991,-6.432763067999915],[-38.67373373799996,-6.707986374999983],[-38.61692129699996,-6.793298924999981],[-38.75627921299998,-6.903591654999964],[-38.75188227799997,-6.99692053900003],[-38.53483997499989,-7.290458552999969],[-38.715112857999934,-7.621919637000008],[-38.78021167699996,-7.661566674000021],[-38.780363863999945,-7.6615528589999435],[-39.05375567799991,-7.819304638999981],[-39.142299675999936,-7.719025746999964],[-39.47345593399989,-7.572864498999966],[-39.46074761199991,-7.47121899900003],[-39.74132210099999,-7.326816613999988],[-40.127754320999905,-7.381914991000006],[-40.26299560699993,-7.301020938999937],[-40.360983979999965,-7.355600792999951],[-40.523723210999925,-7.318450482999928],[-40.489739309999884,-7.118690142999974],[-40.427717670999996,-7.033881107999985],[-40.43216658199995,-6.8129775969999],[-40.476926287999945,-6.732831674999915],[-40.71018275999991,-6.676129548999988],[-40.787668379999964,-6.523780277999933],[-40.77914906499993,-6.341346873000006],[-40.83133734999995,-6.247742472999974],[-40.83410147999995,-6.244432451999927],[-40.903947411999916,-6.020876971999975],[-40.90325396099992,-5.632552380999975],[-40.9438034179999,-5.42358633599995],[-40.928987708999905,-5.1716715620000215],[-41.08192174899994,-5.087632798999998],[-41.24957382699996,-4.86969019699994],[-41.18113441299993,-4.673192853999964],[-41.22933070199996,-4.620094987999998],[-41.119123977999905,-4.306526125999952],[-41.11316689399995,-4.049789875999977],[-41.28793591999988,-3.82248701999994],[-41.34174775599995,-3.680772601999905],[-41.324049276,-3.385924076999977],[-41.41231773699996,-3.340697301999974],[-41.256651460999905,-3.0880149309999467],[-41.322681309999965,-2.921319573999945],[-40.89993056799992,-2.862329089999946],[-40.574984273999966,-2.8395065279999585],[-40.49717147299994,-2.784509339999964],[-40.01503584099994,-2.83730680299994],[-39.61942180799998,-3.0263198729999914],[-39.47169780299999,-3.137544336999973],[-39.22890811299986,-3.239895351999934],[-39.05629559999992,-3.4125862499999613],[-38.977002539999894,-3.4091385319999787],[-38.63916404199994,-3.687128941999937],[-38.48182415999997,-3.7219089599999506],[-38.12082191999995,-4.142428019999997],[-37.87554347599995,-4.364003808999925],[-37.76490423899998,-4.429147948999976],[-37.59765279599998,-4.622857146999927],[-37.32515117399995,-4.7017461749999185],[-37.253291124999954,-4.831555508000008]]]},\"properties\":{\"NM_ESTADO\":\"CEAR\\u00c1\",\"NM_REGIAO\":\"NORDESTE\",\"CD_GEOCUF\":\"23\"}},{\"type\":\"Feature\",\"geometry\":{\"type\":\"Polygon\",\"coordinates\":[[[-48.20054439299997,-15.500255152999962],[-47.41733820999994,-15.500256607999994],[-47.322160931999974,-15.598471616999952],[-47.3125601629999,-15.73990848599994],[-47.378837711999935,-15.884151574999947],[-47.308386986999935,-16.050264260999967],[-48.27860601199998,-16.05026116599989],[-48.28565984899991,-15.84452858099997],[-48.21747172599998,-15.762279238999941],[-48.20054439299997,-15.500255152999962]]]},\"properties\":{\"NM_ESTADO\":\"DISTRITO FEDERAL\",\"NM_REGIAO\":\"CENTRO-OESTE\",\"CD_GEOCUF\":\"53\"}},{\"type\":\"Feature\",\"geometry\":{\"type\":\"Polygon\",\"coordinates\":[[[-40.222350608999946,-17.98041738699998],[-39.667818741999916,-18.33718507399993],[-39.72856116199992,-18.500385404999943],[-39.74297813999987,-18.931091688000002],[-39.688963041999955,-19.306323275999993],[-39.80763012299997,-19.64859721199994],[-40.03403315099989,-19.788122826999977],[-40.1305558939999,-19.935777267999978],[-40.198534134999875,-20.216075256],[-40.42627356199988,-20.633951071999924],[-40.588728005999904,-20.80290383899992],[-40.79499047399997,-20.925195693],[-40.85842351899993,-21.127630171999968],[-40.96016236899986,-21.301594559999938],[-41.08954721699991,-21.21956933999998],[-41.19035574099996,-21.248556049999912],[-41.43524899599997,-21.215701900999907],[-41.642168257999934,-21.144767652999953],[-41.642973613999956,-21.144726212999988],[-41.73594072999993,-21.102598386999972],[-41.739854508999926,-20.81750375],[-41.874738200999936,-20.76593425499993],[-41.81323179799996,-20.653264726999932],[-41.803677137999884,-20.42198055699991],[-41.85325141099998,-20.35058251899995],[-41.75675421899996,-20.2068659629999],[-41.60233964699991,-20.207090962999953],[-41.59631592599986,-20.20709974099997],[-41.44729470999992,-20.207316877999993],[-41.415581341999896,-20.207363089999998],[-41.30085811299988,-19.93652538199997],[-41.18612771199999,-19.89131610699999],[-41.16847282399991,-19.672222654999928],[-40.94469341099991,-19.46096035599998],[-40.92758212399996,-19.20887549000001],[-41.11050653899992,-18.838937361999953],[-40.9639134589999,-18.841170075999948],[-40.9414975779999,-18.689294676999936],[-41.05089227199991,-18.63415399499997],[-41.02302870799992,-18.45726087899997],[-41.173083082999895,-18.442796895999948],[-41.15892065399995,-18.308243451999996],[-41.0519311689999,-18.16511245299999],[-40.909283306999896,-18.114830156000018],[-40.80816160899996,-17.952047169999986],[-40.70368342799995,-18.023727033999904],[-40.51682186499992,-17.894423307999997],[-40.222350608999946,-17.98041738699998]]]},\"properties\":{\"NM_ESTADO\":\"ESP\\u00cdRITO SANTO\",\"NM_REGIAO\":\"SUDESTE\",\"CD_GEOCUF\":\"32\"}},{\"type\":\"Feature\",\"geometry\":{\"type\":\"Polygon\",\"coordinates\":[[[-46.11427457999992,-12.917905522999963],[-46.27337900499997,-13.014953492999993],[-46.330168261999916,-13.25281139700001],[-46.21436312999991,-13.400713146999955],[-46.255975402999994,-13.69389379799999],[-46.2548643899999,-14.10489875699994],[-45.960247666999976,-14.29191728499999],[-46.03757491499989,-14.874656162999923],[-46.08814159899994,-14.936392596999926],[-46.28686475499997,-14.928145711999964],[-46.3221998669999,-14.814580293999914],[-46.47490352999988,-14.705183081999952],[-46.558505528999916,-14.822153569000008],[-46.53081069399993,-15.005278544999957],[-46.62544341799997,-15.08951453799996],[-46.85689898199996,-15.010265989999972],[-46.92765534499994,-15.255095316999935],[-46.83589782699995,-15.326536054999963],[-46.93046927699997,-15.443088995000021],[-46.94611587699988,-15.563333827999926],[-46.85488347699991,-15.618300544999975],[-46.82486800999994,-15.885718597999944],[-47.15133599599994,-15.934986143999975],[-47.31000618799994,-16.036273508999944],[-47.37883771199991,-15.884151574999962],[-47.31256016299987,-15.739908485999955],[-47.322160931999946,-15.598471616999966],[-47.41733820999991,-15.500256608000008],[-48.200544392999944,-15.500255152999976],[-48.21747172599995,-15.762279238999955],[-48.285659848999885,-15.844528580999985],[-48.278606011999955,-16.050261165999903],[-47.308386986999906,-16.05026426099998],[-47.32246205299999,-16.231316142999997],[-47.46006975399997,-16.505096762999983],[-47.24570196199993,-16.70097100700001],[-47.14067895599987,-17.017338454999976],[-47.34848768699988,-17.17622301799995],[-47.424185197999954,-17.324029231999983],[-47.533326909999914,-17.39441830999995],[-47.45940486299993,-17.53772658299997],[-47.329627737999935,-17.524706997999996],[-47.26728283999994,-17.607480016999922],[-47.3708457399999,-17.827553782999917],[-47.32276772899997,-18.069690127999905],[-47.568321670999936,-18.211607353999938],[-47.61061285499988,-18.313335998000003],[-47.86324330999996,-18.469743739999945],[-47.962197824999905,-18.496071372999957],[-48.27597878999992,-18.329999132999998],[-48.32432746399995,-18.38179835699998],[-48.554542635999894,-18.346949419999948],[-48.83208383199991,-18.346135189999902],[-48.93677375999994,-18.306207587999946],[-49.40862073199996,-18.64480933699999],[-49.542393841999925,-18.527423785999964],[-49.72045196799995,-18.607811984999923],[-49.723648045999894,-18.60977922799998],[-49.783678879999904,-18.641338694999977],[-50.02006434499995,-18.599363479999976],[-50.08004310999992,-18.67224379200001],[-50.314490031999966,-18.700749756999958],[-50.58502349499996,-19.13738509699996],[-50.66715742399994,-19.13421207199997],[-50.8226636079999,-19.295130870999945],[-50.934997777999946,-19.467477484999996],[-51.094998111999956,-19.30613274999995],[-51.42047403799994,-19.166537149999986],[-51.65795069499994,-19.137919462999943],[-51.89880856499993,-18.994184435999962],[-52.081364448999956,-18.95090648799991],[-52.186980770999995,-18.845881174999924],[-52.34642538699994,-18.821431784999977],[-52.447643552999956,-18.69470660899999],[-52.78673173399993,-18.681297317000013],[-52.96235135999989,-18.54081970399999],[-52.798512561999985,-18.41486130199994],[-52.81425896899998,-18.31129780299994],[-53.099655708999904,-18.313619139999982],[-53.14315259999995,-18.08407764999991],[-53.07227751399992,-18.033975303999995],[-53.15999249299992,-17.774894871999948],[-53.248453817999945,-17.627291672999924],[-53.2091584949999,-17.316011992000014],[-53.054960853999944,-17.064420862999953],[-53.01462703599995,-16.86224813199997],[-52.83724417699993,-16.771896893999983],[-52.606078286999924,-16.486024152999935],[-52.692723488999874,-16.36642135399995],[-52.54916590899992,-16.164995469999944],[-52.32849834899991,-16.07040339599999],[-52.25413970899994,-15.893266616999991],[-52.009533213999944,-15.885811524999994],[-51.88267010999992,-15.82848528799994],[-51.767858906999905,-15.653591377999977],[-51.755613399999945,-15.557415436999978],[-51.60613447399997,-15.162296974999979],[-51.53410806299989,-15.06520216199998],[-51.30705065899992,-14.980970683999995],[-51.27591131899987,-15.04375505500002],[-51.08710983499991,-14.92134869399997],[-51.089637502999885,-14.840180531999959],[-50.96422922399988,-14.528297724999973],[-50.99786707099998,-14.413810350999935],[-50.898731338999866,-14.114935503000027],[-50.83126621599989,-14.082830547999926],[-50.85526919699994,-13.757350512999956],[-50.758999752999934,-13.520315307999976],[-50.609279950999934,-13.31878087999996],[-50.570848935999905,-13.034201583999995],[-50.511066498999924,-12.860767998999979],[-50.43379002799995,-12.646732514999993],[-50.31484397599995,-12.498921118999974],[-50.20525828799993,-12.465851668000006],[-50.307736218999906,-12.818134948999994],[-50.185987333999904,-12.894029595999946],[-49.939425748999966,-12.956925531999964],[-49.369529269999916,-13.274619450999992],[-49.35443397499988,-13.109597653999995],[-49.14594497799989,-12.820023668999948],[-48.975629551999944,-12.957194012999974],[-48.87008117099994,-12.803478586999951],[-48.60234145799991,-13.059170728999959],[-48.44343746799993,-13.287825294000012],[-48.17290500599994,-13.150733613999922],[-48.15207020199992,-13.306651729999942],[-47.9883727269999,-13.276308952999983],[-47.823990718999895,-13.31186630099992],[-47.678986045999935,-13.467712663999954],[-47.64667563999989,-13.120605114999929],[-47.416151559999875,-13.270326580999981],[-47.16773132099989,-13.211231001999991],[-47.00973538899991,-13.140823160999982],[-46.75061097499995,-12.969155006999934],[-46.37016654399994,-12.98886712999996],[-46.11427457999992,-12.917905522999963]]]},\"properties\":{\"NM_ESTADO\":\"GOI\\u00c1S\",\"NM_REGIAO\":\"CENTRO-OESTE\",\"CD_GEOCUF\":\"52\"}},{\"type\":\"Feature\",\"geometry\":{\"type\":\"Polygon\",\"coordinates\":[[[-41.81410763399995,-2.739308919999914],[-41.86496314099992,-2.8780057079999395],[-41.79588438099992,-2.9655704600000306],[-42.000221163999996,-3.24108652999999],[-42.11582506499995,-3.262326386999945],[-42.21187028699988,-3.4364511749999522],[-42.529551010999974,-3.492495872999932],[-42.67791393999989,-3.677442575999976],[-42.72620249799992,-3.9100057859999566],[-42.98919344199987,-4.234052022999954],[-42.956725503999934,-4.384645118000009],[-42.85073511099995,-4.479003799999923],[-42.9545889539999,-4.689462408999901],[-42.80297152499992,-5.150252050999946],[-42.82462308299992,-5.345643723000016],[-42.970194896999914,-5.455514515999994],[-43.09914463099993,-5.630281875999962],[-43.07269211499989,-6.05908688400001],[-42.847002470999925,-6.282493587999994],[-42.919775112999936,-6.6703093619999905],[-42.996779128999925,-6.75099503299996],[-43.000725388999946,-6.753347463000004],[-43.00610620799991,-6.757126529999958],[-43.01108738599994,-6.759189921999976],[-43.03966832199997,-6.762099144999986],[-43.04686549799994,-6.761459908999946],[-43.21052971999997,-6.763128476999981],[-43.455476857999905,-6.846672853999959],[-43.63751123299995,-6.719562510999985],[-43.79085611799995,-6.702332041999945],[-44.116275571999886,-6.805785860999933],[-44.25981798699991,-6.997420710000025],[-44.27653391199993,-7.075099288999965],[-44.56359238199994,-7.22695098099997],[-44.68797801299997,-7.394532644999941],[-44.81673283899994,-7.361204999999927],[-44.92692080899996,-7.47162035400002],[-45.156077175999876,-7.5134380429999545],[-45.33976701499993,-7.580244760999989],[-45.432747260999925,-7.661501680999972],[-45.54037500399994,-7.864697816999989],[-45.58146779999994,-8.156043973999939],[-45.662835804999965,-8.254949899999954],[-45.739148777999894,-8.502587655999939],[-45.839947646999946,-8.715278076999923],[-45.938306316999885,-8.782814888999969],[-45.994294837999924,-8.926865335999935],[-45.92300584999993,-9.099787078999967],[-45.92390476699997,-9.10019372199995],[-45.90699997599996,-9.293768406999959],[-45.797841398999935,-9.417251883999956],[-45.831941391999905,-9.536791902999987],[-45.821420602999915,-9.773127065999955],[-45.87854391799988,-10.11029933799994],[-45.94626532499992,-10.25854990599997],[-46.02827816599992,-10.176869647999954],[-46.16330344199992,-10.213632626999992],[-46.324778822999946,-10.183188586000004],[-46.445200391999904,-10.077387270999939],[-46.51286719899996,-9.79750343999999],[-46.644393611999924,-9.740333254999967],[-46.57325558299989,-9.477761657999984],[-46.818751652999865,-9.303437734999932],[-46.86111702199991,-9.146422799999932],[-47.05772741699992,-9.052954453999963],[-46.99292192999991,-8.878889431999927],[-46.91814678499995,-8.856995046999995],[-46.84603098299993,-8.533578621999972],[-46.776890690999906,-8.368431856999937],[-46.54366752299994,-8.318922093000026],[-46.466191471999885,-8.070352085],[-46.604672459999904,-7.896176243999943],[-46.882670272999945,-7.964077880999977],[-46.99501582899996,-8.063290998999918],[-47.06193350699994,-8.005713163999918],[-47.335785592999976,-7.63702621499991],[-47.49679115299994,-7.480640807999951],[-47.49978636199996,-7.293858349999983],[-47.65065584499997,-7.30225854299993],[-47.66037487399996,-7.151368062999964],[-47.54829352699987,-7.018893612999989],[-47.49864407099995,-6.6712315600000025],[-47.37864385599995,-6.272758322999984],[-47.44781165699994,-5.996073503999952],[-47.43106335199991,-5.869210648999946],[-47.493094240999945,-5.710038436999973],[-47.500120458999895,-5.525604845000018],[-47.7443137449999,-5.380132444999994],[-47.87292355099994,-5.272358116000021],[-48.00120632799994,-5.234253101999961],[-48.17679674199997,-5.2597152909999565],[-48.36390981499994,-5.168380514999946],[-48.51946023799991,-5.192135489999991],[-48.6061317079999,-5.336500755999985],[-48.75515073699992,-5.34916540799999],[-47.81615302199995,-4.6147284769999715],[-47.682120281999914,-4.606381182999961],[-47.58356680999993,-4.522960067999968],[-47.44204929699993,-4.28742509399995],[-47.372512773999986,-4.244984031999955],[-47.31867806999998,-4.0476264579999395],[-47.19518692599998,-3.985612285999963],[-47.08520511699987,-3.856640015999943],[-47.035612730999965,-3.5730920939999606],[-46.95645253899991,-3.4259073499999246],[-46.813375428999926,-3.309541572999983],[-46.67566898299995,-3.0924741379999574],[-46.645804255999934,-2.883868466999992],[-46.66808466299992,-2.7340238779999666],[-46.621921067999935,-2.6445230140000007],[-46.50500540799989,-2.6149157129999665],[-46.41824441199995,-2.5245680140000033],[-46.44419639599988,-2.379991631999957],[-46.38477502499993,-2.2549525989999495],[-46.27832419999995,-2.1623919399999423],[-46.20862119099991,-1.8308855059999658],[-46.31224007999997,-1.7346019329999436],[-46.15206062399988,-1.6736022089999665],[-46.16953839099995,-1.4703510980000232],[-46.09919992199991,-1.3232820819999631],[-46.1041558969999,-1.202081824999965],[-45.964953787999896,-1.046594615999986],[-45.784133613999956,-1.2521998139999297],[-45.59092347899991,-1.2662797439999736],[-45.479284775999936,-1.4414185559999524],[-45.29299239399993,-1.4216088529999311],[-44.923940053999885,-1.4915271589999364],[-44.900889455999945,-1.6116480579999788],[-44.714152658999936,-1.559011235999975],[-44.70276096899992,-1.7687730919999396],[-44.48746351899997,-1.9478335599999426],[-44.49959784299988,-2.141763694999966],[-44.39601760899991,-2.21535025499999],[-44.32867693199993,-2.5000778539999686],[-44.067978871999976,-2.4040996559999925],[-43.92512530299992,-2.5111821070000104],[-43.82720565399989,-2.361274136999981],[-43.61516233899989,-2.219356677999926],[-43.50151943499991,-2.366828455000004],[-43.38184667699991,-2.325313182999956],[-43.18516724299997,-2.3735113909999725],[-42.761748408999885,-2.5678422380000185],[-42.54627905899992,-2.686931702999985],[-42.434193571999934,-2.7068178969999366],[-42.06869428099997,-2.687914437999936],[-41.81410763399995,-2.739308919999914]]]},\"properties\":{\"NM_ESTADO\":\"MARANH\\u00c3O\",\"NM_REGIAO\":\"NORDESTE\",\"CD_GEOCUF\":\"21\"}},{\"type\":\"Feature\",\"geometry\":{\"type\":\"Polygon\",\"coordinates\":[[[-50.22480638199988,-9.84115347700001],[-50.48262047499996,-10.490038607999953],[-50.60289774999988,-10.658233980999988],[-50.57058773299996,-10.752504128999952],[-50.63261929199996,-10.931861499000007],[-50.60945742599996,-11.067445653999975],[-50.72851110399989,-11.382565941999957],[-50.73893523999988,-11.544511595999985],[-50.656925895999905,-11.600858319999908],[-50.72159147699988,-11.731712636999948],[-50.68630452099994,-11.858995415999974],[-50.68137729599993,-12.216949710999959],[-50.62357366499999,-12.455283798000028],[-50.70648878599995,-12.609701003999941],[-50.62535946699995,-12.800019486999915],[-50.511066498999924,-12.860767998999979],[-50.570848935999905,-13.034201583999995],[-50.609279950999934,-13.31878087999996],[-50.758999752999934,-13.520315307999976],[-50.85526919699994,-13.757350512999956],[-50.83126621599989,-14.082830547999926],[-50.898731338999866,-14.114935503000027],[-50.99786707099998,-14.413810350999935],[-50.96422922399988,-14.528297724999973],[-51.089637502999885,-14.840180531999959],[-51.08710983499991,-14.92134869399997],[-51.27591131899987,-15.04375505500002],[-51.30705065899992,-14.980970683999995],[-51.53410806299989,-15.06520216199998],[-51.60613447399997,-15.162296974999979],[-51.755613399999945,-15.557415436999978],[-51.767858906999905,-15.653591377999977],[-51.88267010999992,-15.82848528799994],[-52.009533213999944,-15.885811524999994],[-52.25413970899994,-15.893266616999991],[-52.32849834899991,-16.07040339599999],[-52.54916590899992,-16.164995469999944],[-52.692723488999874,-16.36642135399995],[-52.606078286999924,-16.486024152999935],[-52.83724417699993,-16.771896893999983],[-53.01462703599995,-16.86224813199997],[-53.054960853999944,-17.064420862999953],[-53.2091584949999,-17.316011992000014],[-53.248453817999945,-17.627291672999924],[-53.15999249299992,-17.774894871999948],[-53.07227751399992,-18.033975303999995],[-53.291905824999915,-17.99586588399993],[-53.46785015999993,-18.03489313699991],[-53.77421717899988,-18.00077013499999],[-53.941165075999905,-17.84020434699991],[-53.85590909999989,-17.70271716899996],[-53.70388530399994,-17.66134451999999],[-53.68007490599993,-17.253569712999962],[-53.762826768999886,-17.246601314],[-54.08469245199994,-17.619034804999934],[-54.30242040199991,-17.661660209999997],[-54.50230488599992,-17.480710821999935],[-54.74691303299988,-17.51994223699993],[-54.86086381199993,-17.62385349700002],[-55.12725596199992,-17.65272230199997],[-55.483043538999866,-17.478685726999977],[-55.58383799099991,-17.382797660999906],[-56.01203771299996,-17.23668179100002],[-56.044119322999904,-17.1713951159999],[-56.25134481799989,-17.219023090999986],[-56.45087760799994,-17.32639160099996],[-56.73385417999999,-17.309860171000025],[-56.875967462999895,-17.532972186999963],[-57.10149546399998,-17.77218633699993],[-57.48527439599993,-17.862228093999978],[-57.68461313099991,-17.716481509000005],[-57.75229474299994,-17.564463113999974],[-57.88344206899989,-17.44954203100002],[-57.99636699699988,-17.51560331099993],[-58.12073004799991,-17.447639436999985],[-58.397001512999935,-17.181551090999992],[-58.474507282999966,-16.914486826999987],[-58.46310909299994,-16.652219490999954],[-58.34385824099995,-16.517726656999955],[-58.430471353999906,-16.32129498799999],[-59.536814868999954,-16.277401060999953],[-60.17171713699998,-16.266106137999948],[-60.23860482699996,-15.473851597999989],[-60.56501893499995,-15.108683605999996],[-60.24432135099991,-15.096806049999923],[-60.27214796699995,-14.620292180000028],[-60.32409918299999,-14.602103316000004],[-60.393296850999874,-14.379524185000015],[-60.45315880899995,-14.314346262999923],[-60.48254204799992,-14.13486991299997],[-60.40604048799993,-14.030345050999916],[-60.46551553499988,-13.814166201999956],[-60.70931488799989,-13.693003363999946],[-60.68603786099986,-13.62522742800001],[-60.38791962799994,-13.454695111999971],[-60.37347949799994,-13.32444299000002],[-60.268505209999915,-13.144971058999989],[-60.2843717499999,-13.084844121999929],[-60.07911274599991,-12.88114250500001],[-60.028941959999926,-12.618567095999978],[-59.94765477999992,-12.599265153999962],[-59.79294126599992,-12.345781874999929],[-59.88679687299996,-12.245087005999956],[-59.98419555799997,-11.91482133199997],[-60.06588370999992,-11.890825284999963],[-60.12241108499996,-11.682401686999967],[-60.09416055599992,-11.562847124999976],[-59.93441293299995,-11.42366751299997],[-59.976776585999936,-11.122388889999947],[-59.98684978899993,-11.11451719299994],[-60.391554084999925,-11.093792629999989],[-60.460050131999935,-10.98985622099995],[-61.427310304999864,-10.987552793999967],[-61.530087296999895,-10.979019521999934],[-61.47961623499994,-10.78769652299998],[-61.46179283699995,-10.419904593999952],[-61.60123639299995,-10.150090132999946],[-61.507913555999934,-9.861081823999985],[-61.50804291999998,-9.540462961999975],[-61.627875033999935,-9.351636830999933],[-61.52486508499999,-9.242855075000001],[-61.555754959999916,-9.092402570999948],[-61.4692140489999,-8.920114294000015],[-61.58313478499995,-8.798689053999965],[-60.42018081799991,-8.796622586999959],[-59.481363057999914,-8.803320905999957],[-58.44286786999993,-8.799399102999917],[-58.38951831499992,-8.59479245599999],[-58.41705344899992,-8.491955783999995],[-58.31858499099995,-8.330135506999948],[-58.293064251999915,-8.070946917000011],[-58.375135512999954,-7.899001267000006],[-58.202170605999996,-7.620854258999966],[-58.213059953999924,-7.458534735000001],[-58.13705564099996,-7.3561227629999735],[-58.061361566999906,-7.395191152999981],[-57.89674902199992,-7.677884549999959],[-57.83186459899996,-7.961515910999918],[-57.64166889599993,-8.219881532999974],[-57.68655768999995,-8.40700784699997],[-57.59293892099997,-8.756476971999994],[-57.41750425899994,-8.792608507999923],[-57.41621574299991,-8.858995121999925],[-57.20377417499991,-8.920819818999949],[-57.039241593999975,-9.098290013999911],[-56.99554934499993,-9.233842562999929],[-56.82010879999994,-9.246340380999985],[-56.772323618999906,-9.390959301000002],[-56.6718826819999,-9.367396943999996],[-55.377895629999955,-9.474291551999926],[-54.61345407699998,-9.535826227000022],[-53.58844280299992,-9.611050304999914],[-53.00047174599989,-9.655268935999995],[-52.00032090399995,-9.725835480999901],[-51.3042872679999,-9.77285997099997],[-50.22480638199988,-9.84115347700001]]]},\"properties\":{\"NM_ESTADO\":\"MATO GROSSO\",\"NM_REGIAO\":\"CENTRO-OESTE\",\"CD_GEOCUF\":\"51\"}},{\"type\":\"Feature\",\"geometry\":{\"type\":\"Polygon\",\"coordinates\":[[[-53.07227751399992,-18.033975303999995],[-53.14315259999995,-18.08407764999991],[-53.099655708999904,-18.313619139999982],[-52.81425896899998,-18.31129780299994],[-52.798512561999985,-18.41486130199994],[-52.96235135999989,-18.54081970399999],[-52.78673173399993,-18.681297317000013],[-52.447643552999956,-18.69470660899999],[-52.34642538699994,-18.821431784999977],[-52.186980770999995,-18.845881174999924],[-52.081364448999956,-18.95090648799991],[-51.89880856499993,-18.994184435999962],[-51.65795069499994,-19.137919462999943],[-51.42047403799994,-19.166537149999986],[-51.094998111999956,-19.30613274999995],[-50.934997777999946,-19.467477484999996],[-51.038180813999915,-19.69176749299997],[-51.03562501599992,-19.789076628999936],[-51.03346809499989,-19.79070175600002],[-51.00047500199993,-20.085384368999982],[-51.1131376539999,-20.282908309999993],[-51.115482235999906,-20.285084463000015],[-51.34270535099992,-20.354660120999913],[-51.63489922799993,-20.75484835499999],[-51.62358725699994,-20.9444328889999],[-51.713695715999904,-20.97145801499998],[-51.878984793999905,-21.148137742999996],[-51.84851446699996,-21.266638390000004],[-51.92868183299994,-21.455816098000003],[-52.102293397999944,-21.55484057799997],[-52.05071122399989,-21.66576663899995],[-52.055825418999916,-21.67715881299992],[-52.31901939299996,-21.972131911999938],[-52.3772179589999,-22.10667821999992],[-52.58693922699989,-22.256750486999955],[-52.94764535399992,-22.473179958999957],[-52.955134796999914,-22.47553848099997],[-53.105187188999906,-22.62192961399998],[-53.185366401999886,-22.718733737999997],[-53.32908641799996,-22.76521066599997],[-53.60742350299992,-22.951333468999984],[-53.63658872899997,-23.125030775999967],[-53.77596139999996,-23.375337957999932],[-53.98737853599993,-23.46661486999995],[-54.10176498799997,-23.951963548999956],[-54.276765591999876,-24.06225519099994],[-54.44013952999995,-23.904276083000013],[-54.66864728699994,-23.817190649999965],[-55.06233148299992,-23.99328862699999],[-55.34932886099995,-23.99355053899999],[-55.446335326999915,-23.916931500999965],[-55.4301796389999,-23.790141215999917],[-55.53042779899995,-23.627821555999944],[-55.55591254399994,-23.31632310299996],[-55.52328117899998,-23.19778698600004],[-55.59582349699994,-23.119467735999933],[-55.66585470399996,-22.852462104999987],[-55.62515789899996,-22.628252895999946],[-55.72364674399992,-22.55178232899995],[-55.748705563999934,-22.383417503000015],[-55.84312653899994,-22.287109386999916],[-56.212618152999916,-22.275837167999924],[-56.34624919399993,-22.18796134900003],[-56.39242786299992,-22.08000663899996],[-56.5189190229999,-22.108713759999944],[-56.556091195999954,-22.195515669999978],[-56.843963153999866,-22.30105419299997],[-56.99671251299998,-22.222517356999983],[-57.325501559999914,-22.238968478999933],[-57.580766271999906,-22.175336992999984],[-57.69110927499996,-22.08839636100002],[-57.805231465999896,-22.150050262999944],[-57.99203005099996,-22.090463643000003],[-57.95983800999993,-21.853169480000002],[-57.88323351099996,-21.689067386999984],[-57.96048756399994,-21.509920832999963],[-57.85473578199998,-21.31687182799993],[-57.88653114299996,-20.908646451000013],[-57.8593968709999,-20.824855727999903],[-57.9136748549999,-20.670764075999926],[-58.013128278999915,-20.608296398999993],[-57.99855999199997,-20.455563625000007],[-58.073190283999935,-20.387988077999953],[-58.14935394799994,-20.151685579999935],[-57.85815172299991,-19.971416791999964],[-58.13181868699991,-19.758497414999955],[-57.78444573299994,-19.03390131399998],[-57.766675307999904,-18.899285322000004],[-57.55783442499993,-18.240348521999984],[-57.6001119979999,-18.046367254999996],[-57.720667289999916,-17.827859947000025],[-57.75229474299994,-17.564463113999974],[-57.68461313099991,-17.716481509000005],[-57.48527439599993,-17.862228093999978],[-57.10149546399998,-17.77218633699993],[-56.875967462999895,-17.532972186999963],[-56.73385417999999,-17.309860171000025],[-56.45087760799994,-17.32639160099996],[-56.25134481799989,-17.219023090999986],[-56.044119322999904,-17.1713951159999],[-56.01203771299996,-17.23668179100002],[-55.58383799099991,-17.382797660999906],[-55.483043538999866,-17.478685726999977],[-55.12725596199992,-17.65272230199997],[-54.86086381199993,-17.62385349700002],[-54.74691303299988,-17.51994223699993],[-54.50230488599992,-17.480710821999935],[-54.30242040199991,-17.661660209999997],[-54.08469245199994,-17.619034804999934],[-53.762826768999886,-17.246601314],[-53.68007490599993,-17.253569712999962],[-53.70388530399994,-17.66134451999999],[-53.85590909999989,-17.70271716899996],[-53.941165075999905,-17.84020434699991],[-53.77421717899988,-18.00077013499999],[-53.46785015999993,-18.03489313699991],[-53.291905824999915,-17.99586588399993],[-53.07227751399992,-18.033975303999995]]]},\"properties\":{\"NM_ESTADO\":\"MATO GROSSO DO SUL\",\"NM_REGIAO\":\"CENTRO-OESTE\",\"CD_GEOCUF\":\"50\"}},{\"type\":\"Feature\",\"geometry\":{\"type\":\"Polygon\",\"coordinates\":[[[-42.7233597749999,-14.885612360999968],[-42.719041902999955,-14.886149280999984],[-42.26198602199993,-15.124421123999966],[-42.096068273999876,-15.18244210499995],[-41.95343434999996,-15.175664497999964],[-41.800710056999876,-15.101097119999963],[-41.35642274499993,-15.500286133999964],[-41.33120609799992,-15.74467336399994],[-41.14253020599996,-15.77204700299999],[-41.00605944999991,-15.713837348999938],[-40.7005752109999,-15.667309000999975],[-40.56110346899988,-15.803614905999975],[-40.22944035699991,-15.80869740099995],[-40.15982618399993,-15.908464877000018],[-39.9576013609999,-15.992020368999938],[-39.85682889099991,-16.113824768000008],[-39.96049585699994,-16.321882729000038],[-40.103302747999955,-16.437010341999937],[-40.17285293799988,-16.577436768999988],[-40.27549007499989,-16.57341767399998],[-40.332858104999936,-16.769547364000005],[-40.49232685599993,-16.887398714999936],[-40.571666311999884,-17.065881466999922],[-40.55508148799998,-17.288524587999966],[-40.59750650099989,-17.420633261999964],[-40.45922640799988,-17.56949244299999],[-40.33404902299997,-17.632148449999963],[-40.174127289999895,-17.85156121699998],[-40.222350608999946,-17.98041738699998],[-40.51682186499992,-17.894423307999997],[-40.70368342799995,-18.023727033999904],[-40.80816160899996,-17.952047169999986],[-40.909283306999896,-18.114830156000018],[-41.0519311689999,-18.16511245299999],[-41.15892065399995,-18.308243451999996],[-41.173083082999895,-18.442796895999948],[-41.02302870799992,-18.45726087899997],[-41.05089227199991,-18.63415399499997],[-40.9414975779999,-18.689294676999936],[-40.9639134589999,-18.841170075999948],[-41.11050653899992,-18.838937361999953],[-40.92758212399996,-19.20887549000001],[-40.94469341099991,-19.46096035599998],[-41.16847282399991,-19.672222654999928],[-41.18612771199999,-19.89131610699999],[-41.30085811299988,-19.93652538199997],[-41.415581341999896,-20.207363089999998],[-41.44729470999992,-20.207316877999993],[-41.59631592599986,-20.20709974099997],[-41.60233964699991,-20.207090962999953],[-41.75675421899996,-20.2068659629999],[-41.85325141099998,-20.35058251899995],[-41.803677137999884,-20.42198055699991],[-41.81323179799996,-20.653264726999932],[-41.874738200999936,-20.76593425499993],[-42.208332765999934,-21.179016067999946],[-42.25744043899988,-21.482346574999923],[-42.36868324399996,-21.618419548999924],[-42.3577268989999,-21.741050505999993],[-42.881427470999874,-21.959266185999994],[-43.07552843399991,-22.092859631000007],[-43.130927450999934,-22.035190136999972],[-43.1303720919999,-22.034963796999985],[-43.36783121399996,-22.01980703899993],[-43.46451918199996,-22.072761462999924],[-43.77650160499993,-22.06603598399999],[-44.10129340499997,-22.17372102299995],[-44.236752625999905,-22.265780971000005],[-44.43320946499991,-22.25140833399999],[-44.49685575099993,-22.303741241999987],[-44.80943624499991,-22.405570820999966],[-45.05492889099995,-22.470503962999967],[-45.4105210919999,-22.65167102499992],[-45.74280673799995,-22.659166862999914],[-45.76695935699995,-22.84081226900001],[-45.90903499999994,-22.82960499999998],[-46.00852399999997,-22.889497999999953],[-46.141251987999965,-22.86814600399996],[-46.34522423599998,-22.904679204999994],[-46.33454146199991,-22.760300077000007],[-46.424201234999884,-22.599546534999938],[-46.42305441799994,-22.598638395999938],[-46.453904024999915,-22.52226621099991],[-46.45481710199988,-22.521906345999977],[-46.63160735399998,-22.435835705999963],[-46.71453686999989,-22.315584169999948],[-46.64282544999993,-21.976620813000004],[-46.69097054599991,-21.836963849000025],[-46.6388726179999,-21.76843268399995],[-46.63467134299992,-21.76814497299995],[-46.50077666699994,-21.54976113299998],[-46.5190527119999,-21.448953156999973],[-46.81730936399999,-21.366438573000025],[-47.012970413999874,-21.419107017999984],[-47.05228174399991,-21.246518715000008],[-47.12364782099989,-21.167909408999975],[-47.14373893599992,-20.98238567399997],[-47.24004425599997,-20.885281697000014],[-47.169240770999906,-20.70343084799997],[-47.09745644999996,-20.643876827999975],[-47.15451738099991,-20.51955319199992],[-47.29101129399993,-20.450549890999948],[-47.2640941549999,-20.280384249999962],[-47.26347119199987,-20.28102818599995],[-47.26178041999995,-20.15992487899998],[-47.40813349699992,-20.080196281999974],[-47.463322039999944,-19.96578900799999],[-47.639656072999955,-20.04721941400003],[-47.8597507319999,-19.992939749999984],[-47.87507730199998,-20.098372689999945],[-48.10548741299989,-20.14635595600003],[-48.20777146499991,-20.039370023999915],[-48.315412861999896,-20.113801091000006],[-48.82212673399992,-20.161547146000004],[-49.22529401499993,-20.30534306699996],[-49.29924642899994,-20.16707607899997],[-49.29753778199988,-19.96054540800001],[-49.45380995599997,-19.978059753],[-49.51400492799998,-19.914311506999983],[-49.88833693099997,-19.94530491699995],[-50.097243338999945,-19.87547895399995],[-50.352758940999905,-19.864602431000012],[-50.46932357799987,-19.779888807000013],[-50.65810473399992,-19.907147301999984],[-50.783601503999876,-19.937229485999964],[-51.00047500199993,-20.085384368999982],[-51.03346809499989,-19.79070175600002],[-51.03562501599992,-19.789076628999936],[-51.038180813999915,-19.69176749299997],[-50.934997777999946,-19.467477484999996],[-50.8226636079999,-19.295130870999945],[-50.66715742399994,-19.13421207199997],[-50.58502349499996,-19.13738509699996],[-50.314490031999966,-18.700749756999958],[-50.08004310999992,-18.67224379200001],[-50.02006434499995,-18.599363479999976],[-49.783678879999904,-18.641338694999977],[-49.723648045999894,-18.60977922799998],[-49.72045196799995,-18.607811984999923],[-49.542393841999925,-18.527423785999964],[-49.40862073199996,-18.64480933699999],[-48.93677375999994,-18.306207587999946],[-48.83208383199991,-18.346135189999902],[-48.554542635999894,-18.346949419999948],[-48.32432746399995,-18.38179835699998],[-48.27597878999992,-18.329999132999998],[-47.962197824999905,-18.496071372999957],[-47.86324330999996,-18.469743739999945],[-47.61061285499988,-18.313335998000003],[-47.568321670999936,-18.211607353999938],[-47.32276772899997,-18.069690127999905],[-47.3708457399999,-17.827553782999917],[-47.26728283999994,-17.607480016999922],[-47.329627737999935,-17.524706997999996],[-47.45940486299993,-17.53772658299997],[-47.533326909999914,-17.39441830999995],[-47.424185197999954,-17.324029231999983],[-47.34848768699988,-17.17622301799995],[-47.14067895599987,-17.017338454999976],[-47.24570196199993,-16.70097100700001],[-47.46006975399997,-16.505096762999983],[-47.32246205299999,-16.231316142999997],[-47.308386986999906,-16.05026426099998],[-47.31000618799994,-16.036273508999944],[-47.15133599599994,-15.934986143999975],[-46.82486800999994,-15.885718597999944],[-46.85488347699991,-15.618300544999975],[-46.94611587699988,-15.563333827999926],[-46.93046927699997,-15.443088995000021],[-46.83589782699995,-15.326536054999963],[-46.92765534499994,-15.255095316999935],[-46.85689898199996,-15.010265989999972],[-46.62544341799997,-15.08951453799996],[-46.53081069399993,-15.005278544999957],[-46.558505528999916,-14.822153569000008],[-46.47490352999988,-14.705183081999952],[-46.3221998669999,-14.814580293999914],[-46.28686475499997,-14.928145711999964],[-46.08814159899994,-14.936392596999926],[-46.03757491499989,-14.874656162999923],[-45.96608091099989,-14.965645483999946],[-46.04372018999987,-15.118129571999962],[-45.87215889399987,-15.158803130999999],[-45.75110945999992,-15.122582171999955],[-45.53610343399992,-14.938126235000016],[-45.41029638499996,-14.92343881299998],[-45.20557367699993,-14.74473894399997],[-44.86919474699995,-14.593384684],[-44.81076609399999,-14.503101176999934],[-44.56612389499996,-14.341375145999958],[-44.34059577999996,-14.249400293999926],[-44.1072856599999,-14.259120380000013],[-43.80008526299992,-14.337827249999947],[-43.874833629999884,-14.524547110999976],[-43.846867677999946,-14.672105030999983],[-43.51116285799996,-14.796574542999942],[-43.424204047999915,-14.720094949999996],[-43.17495456699989,-14.651054805999909],[-42.95268816199993,-14.708402281999945],[-42.7233597749999,-14.885612360999968]]]},\"properties\":{\"NM_ESTADO\":\"MINAS GERAIS\",\"NM_REGIAO\":\"SUDESTE\",\"CD_GEOCUF\":\"31\"}},{\"type\":\"Feature\",\"geometry\":{\"type\":\"Polygon\",\"coordinates\":[[[-54.87225092899992,2.4337465869999733],[-54.76311087599992,2.202319065999994],[-54.80380488699996,2.025822781000052],[-54.74477907199997,1.775800778000061],[-54.351691834999905,1.7540726830000324],[-54.143663702999945,1.6406120460000366],[-54.020274060999895,1.5157631460000403],[-53.78372215199994,1.4028538720000086],[-53.5952180999999,1.3581540769999947],[-53.459157642999955,1.1336804160000185],[-53.411494202999954,0.9293441510000804],[-53.10574358899993,0.6794615160000674],[-53.175310541999906,0.3817171800000878],[-52.983383138999955,0.03338118900002485],[-52.93274365899991,-0.1423073009999527],[-52.85154313299989,-0.15016079099996205],[-52.6841716199999,-0.314313678000012],[-52.69543632999989,-0.49640173499996365],[-52.64000900999992,-0.5849060829999928],[-52.535179812999914,-0.5740876209999755],[-52.51107462399993,-0.8566590859999863],[-52.33298792299994,-1.115891486999999],[-52.05506426799991,-1.1769499769999499],[-51.77839937799993,-1.1404122749999885],[-51.700426963999924,-1.0632108679999206],[-51.68344859699987,-0.7940294189999761],[-51.595536157999966,-0.650437826999962],[-51.45778850199996,-0.5132340420000077],[-51.34778282599992,-0.2996133399999721],[-51.21636285899989,-0.11861278600002834],[-51.06892589599994,-0.07912574300002007],[-50.97483257399995,0.04179323100006371],[-50.668197495999934,0.18503447300004439],[-50.55295259499992,0.31249548199998856],[-50.43654689699997,0.6001070250000211],[-50.271758923999954,0.6882317160000753],[-50.09391434099992,0.7020927030000337],[-50.04080318099993,0.5735370850000336],[-50.06125223199991,0.33843121199998905],[-49.90333614299986,0.3110053620000599],[-49.68230583299986,0.3662455200000849],[-49.47559742399994,0.07897206500005183],[-49.36760677199992,-0.0003456489999749124],[-49.00820960599992,-0.16040397699990194],[-48.913575372999944,-0.2331237659999772],[-48.787214678999916,-0.22157659399996987],[-48.40593372799997,-0.26152767000000665],[-48.39049040499992,-0.36327363199999496],[-48.47259995399993,-0.4990676969999228],[-48.000424935999945,-0.6642888169999779],[-47.86890244099986,-0.5539235639999447],[-47.7039208199999,-0.5352510559999644],[-47.62720754999998,-0.6261773589999251],[-47.321587083999894,-0.5888648739999809],[-47.09269969899994,-0.6648358159999432],[-47.040925164999955,-0.7438386059999331],[-46.652340433999925,-0.8936265269999808],[-46.48458487299995,-0.8731412009999246],[-46.45791501399996,-1.019270191000011],[-46.32061699099994,-1.0220567279999102],[-46.265078385999914,-0.917822223999984],[-46.073302812999906,-1.1108846789999802],[-46.1041558969999,-1.202081824999965],[-46.09919992199991,-1.3232820819999631],[-46.16953839099995,-1.4703510980000232],[-46.15206062399988,-1.6736022089999665],[-46.31224007999997,-1.7346019329999436],[-46.20862119099991,-1.8308855059999658],[-46.27832419999995,-2.1623919399999423],[-46.38477502499993,-2.2549525989999495],[-46.44419639599988,-2.379991631999957],[-46.41824441199995,-2.5245680140000033],[-46.50500540799989,-2.6149157129999665],[-46.621921067999935,-2.6445230140000007],[-46.66808466299992,-2.7340238779999666],[-46.645804255999934,-2.883868466999992],[-46.67566898299995,-3.0924741379999574],[-46.813375428999926,-3.309541572999983],[-46.95645253899991,-3.4259073499999246],[-47.035612730999965,-3.5730920939999606],[-47.08520511699987,-3.856640015999943],[-47.19518692599998,-3.985612285999963],[-47.31867806999998,-4.0476264579999395],[-47.372512773999986,-4.244984031999955],[-47.44204929699993,-4.28742509399995],[-47.58356680999993,-4.522960067999968],[-47.682120281999914,-4.606381182999961],[-47.81615302199995,-4.6147284769999715],[-48.75515073699992,-5.34916540799999],[-48.59673339899997,-5.422544371999983],[-48.39351038299995,-5.3942125929999705],[-48.27868911699991,-5.540423276999974],[-48.138151993999934,-5.602690143999986],[-48.17598312399998,-5.71229574999996],[-48.275710027999885,-5.726513365999942],[-48.23012533599993,-5.922518408999956],[-48.334716312999944,-6.004274753999958],[-48.28804731999998,-6.097563684000008],[-48.40827049199996,-6.153402245999985],[-48.417122595999906,-6.298586625999981],[-48.60718501099992,-6.4480110719999715],[-48.651960441999975,-6.63995124099992],[-48.769098156999924,-6.730701561999972],[-49.01888351899997,-6.784210543999933],[-49.20952811299992,-6.925420568999897],[-49.185284175999925,-7.235171786999995],[-49.37799740999998,-7.496445757999993],[-49.33514734199997,-7.668678115000006],[-49.16074007299996,-7.791368960999968],[-49.21585399399993,-8.194211697999943],[-49.28332352599991,-8.379556778999909],[-49.34940941899999,-8.418376484999946],[-49.40988815999994,-8.58000194899995],[-49.59241132799992,-8.839491234999986],[-49.684358283999956,-8.856474923999947],[-49.84258965199997,-9.027325947999977],[-49.90541988699988,-9.169744793999946],[-50.037784865999946,-9.289405331000001],[-50.08956227599999,-9.545692939999984],[-50.22480638199988,-9.84115347700001],[-51.3042872679999,-9.77285997099997],[-52.00032090399995,-9.725835480999901],[-53.00047174599989,-9.655268935999995],[-53.58844280299992,-9.611050304999914],[-54.61345407699998,-9.535826227000022],[-55.377895629999955,-9.474291551999926],[-56.6718826819999,-9.367396943999996],[-56.772323618999906,-9.390959301000002],[-56.82010879999994,-9.246340380999985],[-56.99554934499993,-9.233842562999929],[-57.039241593999975,-9.098290013999911],[-57.20377417499991,-8.920819818999949],[-57.41621574299991,-8.858995121999925],[-57.41750425899994,-8.792608507999923],[-57.59293892099997,-8.756476971999994],[-57.68655768999995,-8.40700784699997],[-57.64166889599993,-8.219881532999974],[-57.83186459899996,-7.961515910999918],[-57.89674902199992,-7.677884549999959],[-58.061361566999906,-7.395191152999981],[-58.13705564099996,-7.3561227629999735],[-58.180995823999915,-7.181736709999932],[-58.43455593199991,-6.908806512999966],[-58.48175560999991,-6.781421650999931],[-58.42730575499991,-6.616167480999977],[-58.26672285899992,-6.475560522000002],[-58.033639006999934,-5.978137803000003],[-57.58557325799991,-5.000743090999983],[-57.00048911999991,-3.7591295860000216],[-56.767891477999925,-3.242889315999939],[-56.72353168999997,-3.1465974950000373],[-56.42630062499991,-2.5015831259999928],[-56.46448628999998,-2.4315948099999716],[-56.393972061999875,-2.286227457999935],[-56.38431573999991,-2.270475355000002],[-56.203769677999915,-2.183080194999995],[-56.18670342099996,-2.0428213299999527],[-56.41388279499991,-2.175949603999939],[-56.527065317999984,-2.1391951789999837],[-56.61291318799995,-2.2101712710000285],[-56.76095896699991,-2.1740581910000287],[-56.72138219799994,-2.0591744409999677],[-57.037209145999945,-1.9115537669999156],[-57.09785618999996,-1.7751054009999407],[-57.27440005899993,-1.709736464999942],[-57.35206943299991,-1.7331679599999603],[-57.71316449899997,-1.504146991999967],[-57.918524936999916,-1.419807488999922],[-57.9963865489999,-1.3443208139999783],[-57.96548874499994,-1.2060848079999715],[-58.01754288599987,-1.1061496809999767],[-58.16264412799992,-1.229656534999954],[-58.323287251999915,-1.1432942519999685],[-58.43008210799994,-1.0271164859999544],[-58.45904398799995,-0.8639933319999358],[-58.7039408399999,-0.6713875249999788],[-58.72522036699994,-0.4422212149999467],[-58.874587075999955,-0.3357887029999702],[-58.86388394599997,-0.07802978499993429],[-58.895500267999964,0.000920342000057417],[-58.89546481899997,0.26351027600004784],[-58.89549794199995,1.2276938380000573],[-58.82133228099997,1.1710487790000528],[-58.71049690299994,1.2899486610000537],[-58.496327225999956,1.2680153260000964],[-58.4716361129999,1.374209752000091],[-58.33247670399997,1.5907333789999782],[-58.129524703999905,1.4989538370000304],[-58.005600267999924,1.5168354880000336],[-57.981127953999945,1.6594102490000253],[-57.719739100999945,1.7229385670000568],[-57.534270515999886,1.708255217999998],[-57.433520763999994,1.9060482499999836],[-57.345709273999915,1.9803448370000467],[-57.252957923999936,1.9485161330000693],[-57.086765314999965,2.0265192740000373],[-57.000791158999945,1.9073697819999893],[-56.80151756999994,1.874155089999995],[-56.621536428999875,1.9459583010000827],[-56.43709692599997,1.9517867280000516],[-56.152701361999924,1.8907861570000009],[-55.999038567999904,1.8313637139999699],[-55.90392998599994,1.888112847000059],[-55.9021219319999,2.0294037700000516],[-56.04295807799993,2.227871797000013],[-56.13253912999987,2.2637497380000084],[-55.98992197999992,2.417345501999989],[-55.93467816499995,2.5335400950000633],[-55.747036610999956,2.410537626000078],[-55.4997845189999,2.4433307570000977],[-55.385398726999924,2.418454302999983],[-55.32025559999987,2.5154633020000787],[-55.10308640499994,2.525735947000051],[-55.003805888999935,2.5910270460000078],[-54.87225092899992,2.4337465869999733]]]},\"properties\":{\"NM_ESTADO\":\"PAR\\u00c1\",\"NM_REGIAO\":\"NORTE\",\"CD_GEOCUF\":\"15\"}},{\"type\":\"Feature\",\"geometry\":{\"type\":\"Polygon\",\"coordinates\":[[[-34.96853801999995,-6.487260754999966],[-34.96226652299992,-6.640183746999973],[-34.821056956999904,-7.130939177999963],[-34.8095473749999,-7.5090618559999776],[-34.833880631999925,-7.5486343719999525],[-34.96078689399997,-7.538766050999946],[-35.0705207619999,-7.398760992999943],[-35.24859467599999,-7.374779552999989],[-35.49431212799989,-7.482205559000011],[-35.519631903999915,-7.640017506999964],[-35.87211827099992,-7.749538910999988],[-36.394539079999966,-7.807608743999928],[-36.48013637799989,-7.924763255999935],[-36.62785149599994,-7.986406648999967],[-36.62861251599993,-8.111050372999951],[-36.960202323999965,-8.300467414999947],[-37.08222682699995,-8.261887406999936],[-37.16022532299989,-8.170400441999949],[-37.15179460799991,-8.00941482799995],[-37.30897636299994,-7.934176242000014],[-37.13894468099994,-7.7455176589999795],[-37.197946187999875,-7.635297899999994],[-37.11834321099996,-7.534430853999986],[-36.984225593999916,-7.482261691999948],[-37.025623398999926,-7.386044158999972],[-37.23417876399999,-7.273886873999992],[-37.4876261959999,-7.389419525999919],[-37.527958576999865,-7.465310691999939],[-37.857158854999895,-7.651968881999927],[-37.97059983799995,-7.777576901000028],[-38.039581584999915,-7.748119057999926],[-38.29335110199992,-7.823045898000004],[-38.326685641999966,-7.69370451],[-38.49657543699987,-7.75003189300001],[-38.607575842999964,-7.7394789610000245],[-38.715112857999934,-7.621919637000008],[-38.53483997499989,-7.290458552999969],[-38.75188227799997,-6.99692053900003],[-38.75627921299998,-6.903591654999964],[-38.61692129699996,-6.793298924999981],[-38.67373373799996,-6.707986374999983],[-38.55426538499991,-6.432763067999915],[-38.56250594099997,-6.355651694000009],[-38.28152588299991,-6.499544008999948],[-38.09712989799987,-6.508149035999963],[-37.95539564599988,-6.398208629000003],[-37.95555177099992,-6.404937242999928],[-37.85889386899992,-6.3743539829999705],[-37.742373875999924,-6.188975421999984],[-37.45894742999995,-6.145002224999963],[-37.256473966999955,-6.028471064000016],[-37.162419500999896,-6.1598636849999195],[-37.37732883499989,-6.34439261199995],[-37.39578566499988,-6.510093149999975],[-37.464724523999934,-6.532663685999985],[-37.484699541999866,-6.710037373999953],[-37.314298923999885,-6.6889744299999805],[-37.19265733199997,-6.826140128999981],[-37.003855273999875,-6.709745814999991],[-36.835029623999915,-6.731070934999984],[-36.6036081199999,-6.930456951999965],[-36.509962190999886,-6.817948802999993],[-36.557942245999975,-6.712599646999948],[-36.513810752,-6.594393000000018],[-36.49984817499989,-6.358164866000024],[-36.394561407999944,-6.293974775999956],[-36.27987270099986,-6.308861519999965],[-36.24977207199995,-6.437359912999938],[-36.11018899999987,-6.4291806559999785],[-35.944183730999946,-6.493006191999996],[-35.66016425999994,-6.445278718999937],[-35.39475547399995,-6.4940336449999165],[-35.33077285899999,-6.544341412999955],[-35.1454434789999,-6.552709709999924],[-34.96853801999995,-6.487260754999966]]]},\"properties\":{\"NM_ESTADO\":\"PARA\\u00cdBA\",\"NM_REGIAO\":\"NORDESTE\",\"CD_GEOCUF\":\"25\"}},{\"type\":\"Feature\",\"geometry\":{\"type\":\"Polygon\",\"coordinates\":[[[-50.13351782299998,-22.939771034999957],[-50.13010134799991,-22.941175470999987],[-49.98616492499997,-22.897504762999944],[-49.911602197999905,-23.051118642000006],[-49.677707990999934,-23.174942584999926],[-49.595412114999874,-23.367091447],[-49.62095832099989,-23.611113666999977],[-49.54919903699988,-23.70401684899999],[-49.60761984999991,-23.840621985999967],[-49.350677245999904,-24.22080042999999],[-49.20111183199998,-24.34510656899993],[-49.312015434999964,-24.66353267099997],[-49.1115946369999,-24.688352308999995],[-49.010305694999886,-24.654371074999993],[-48.67500892299992,-24.701792470999955],[-48.50769848099992,-24.75237215999993],[-48.50734789099995,-24.754087709000032],[-48.56737089999994,-24.972266873999942],[-48.411868158999916,-24.980399625999965],[-48.21605429099991,-25.076671560999998],[-48.193165254999926,-25.193393076999975],[-48.191361332999975,-25.196241325000003],[-48.096095183999935,-25.308872460999936],[-48.31993235899992,-25.586566078000033],[-48.41058669199994,-25.619505113999956],[-48.59105331199993,-25.976820268999994],[-48.592101944999925,-25.97686054699995],[-48.59459170799987,-25.976787749999964],[-49.16750213899989,-26.00070120999998],[-49.300247257999885,-26.111285844999955],[-49.54984606399995,-26.23337323799999],[-49.67283968999992,-26.189785943999922],[-49.869439420999925,-26.033469716999917],[-50.010940014999946,-26.013328244999983],[-50.18315134699991,-26.077793974999942],[-50.37168707399991,-26.07919170299995],[-50.46089128099993,-26.026347713999947],[-50.62576960699987,-26.062133893999984],[-50.703993936999936,-26.18853779399995],[-50.84687301899997,-26.266383147999917],[-51.00107485299992,-26.230344358999936],[-51.24795121399997,-26.329866406999948],[-51.29287639899998,-26.434120708000002],[-51.23614091899995,-26.624671728999942],[-51.43534600499997,-26.688178098000016],[-51.49542970799992,-26.58741621600001],[-52.00900291999994,-26.566364438999983],[-52.0096346989999,-26.565837925000025],[-52.111632525999866,-26.47496336699991],[-52.229811804999926,-26.46704311399997],[-52.68018652199995,-26.35273107299996],[-52.99349068699995,-26.347684104999907],[-53.09322795699991,-26.392022133000005],[-53.304447197999934,-26.258444030999932],[-53.495834710999986,-26.302798864999914],[-53.63895336099995,-26.250794189999986],[-53.819008062999885,-25.976371657999998],[-53.862492318999955,-25.658608512999926],[-54.028749394999934,-25.566534424999944],[-54.197109585999925,-25.535052543999974],[-54.42529617999998,-25.658904916000026],[-54.59352802999993,-25.59224498399997],[-54.587415644999915,-25.397638555999947],[-54.43030779899986,-25.159468245999932],[-54.44194153199993,-24.94914984600001],[-54.3254104789999,-24.662679483999987],[-54.32305234699992,-24.45851556400001],[-54.258562475999916,-24.350608039999933],[-54.33740112299992,-24.12229829399999],[-54.276765591999876,-24.06225519099994],[-54.10176498799997,-23.951963548999956],[-53.98737853599993,-23.46661486999995],[-53.77596139999996,-23.375337957999932],[-53.63658872899997,-23.125030775999967],[-53.60742350299992,-22.951333468999984],[-53.32908641799996,-22.76521066599997],[-53.185366401999886,-22.718733737999997],[-53.105187188999906,-22.62192961399998],[-52.972424986999926,-22.570483843999934],[-52.69710537899988,-22.627006572999942],[-52.58934444199994,-22.56609659299993],[-52.22257722799996,-22.675534908000007],[-52.127602243999945,-22.519923031999923],[-51.873662989999936,-22.628216231999932],[-51.55956915799989,-22.697179344999952],[-51.45309608499993,-22.655750534999953],[-51.265199856999914,-22.667697405999988],[-51.00554855799997,-22.793821426999973],[-50.89533338999992,-22.79430016299997],[-50.70983876999993,-22.953442197999934],[-50.13351782299998,-22.939771034999957]]]},\"properties\":{\"NM_ESTADO\":\"PARAN\\u00c1\",\"NM_REGIAO\":\"SUL\",\"CD_GEOCUF\":\"41\"}},{\"type\":\"Feature\",\"geometry\":{\"type\":\"Polygon\",\"coordinates\":[[[-34.833880631999925,-7.5486343719999525],[-34.84464047199997,-7.837063880999985],[-34.819300999999925,-7.923860999999977],[-34.944373723999874,-8.260300244999975],[-34.95224824399994,-8.375737325999989],[-35.06990597599992,-8.647630466999946],[-35.15252650099993,-8.913837168999962],[-35.535177908999934,-8.819454778999948],[-35.74839897099995,-8.917151913999955],[-35.91141749899993,-8.861289080999924],[-36.128248999999975,-8.957717182000003],[-36.26471955899992,-9.165862559999983],[-36.43182995099989,-9.212130488999982],[-36.60655581099989,-9.34071621299999],[-36.76177253599997,-9.271456992999983],[-36.913692246999915,-9.296055649000024],[-36.955464647999925,-9.381251129000013],[-37.09067293199997,-9.246362072000004],[-37.247083410999956,-9.17901850499996],[-37.3586390839999,-9.053889107999936],[-37.498756992999915,-8.969272875000001],[-37.65777777799997,-8.992666667000005],[-37.755361889999946,-8.846363686000004],[-37.993657987999896,-9.155333168999991],[-38.09228733099994,-9.17272497799997],[-38.23758892849991,-9.329793446499913],[-38.23758980399994,-9.329794345999943],[-38.31865874899991,-9.14100171699992],[-38.51981109499993,-8.947582785000009],[-38.635376998999945,-8.986729250999904],[-38.79698945699994,-8.793464421999953],[-38.9519332089999,-8.80466824699997],[-39.03354835199995,-8.736313340000002],[-39.245492562999914,-8.684105868999993],[-39.28642128999993,-8.563759797999971],[-39.41604079999994,-8.542127928],[-39.59522578299994,-8.651205891999926],[-39.67330037599987,-8.78490396699998],[-39.89295772199988,-8.828793991999962],[-39.87442862099994,-8.936738523999988],[-39.968091036999894,-9.053197058999963],[-40.12989491999992,-9.110304605999954],[-40.273192198999915,-9.082421579999945],[-40.356397112999964,-9.376994262999961],[-40.62316567199993,-9.482897443999928],[-40.74983543599995,-9.443847168999998],[-40.66987315899997,-9.186132510999979],[-40.82100804099991,-9.079891426999943],[-40.92133725199991,-8.835430447999993],[-41.103351208999946,-8.780442621999974],[-41.13132497699991,-8.70425286999994],[-41.35833618399989,-8.707620177999932],[-41.213542854999915,-8.64415553000002],[-40.978545009999934,-8.398650711999945],[-40.780506558999896,-8.302837183999912],[-40.6328403669999,-8.139301283999934],[-40.54422205699994,-7.964597073999947],[-40.554860071999954,-7.818430510999953],[-40.67356947599991,-7.7616719469999715],[-40.62171798699996,-7.655379128999918],[-40.715293977999956,-7.487954017999932],[-40.54846371299989,-7.392691466000013],[-40.523723210999925,-7.318450482999928],[-40.360983979999965,-7.355600792999951],[-40.26299560699993,-7.301020938999937],[-40.127754320999905,-7.381914991000006],[-39.74132210099999,-7.326816613999988],[-39.46074761199991,-7.47121899900003],[-39.47345593399989,-7.572864498999966],[-39.142299675999936,-7.719025746999964],[-39.05375567799991,-7.819304638999981],[-38.780363863999945,-7.6615528589999435],[-38.78021167699996,-7.661566674000021],[-38.715112857999934,-7.621919637000008],[-38.607575842999964,-7.7394789610000245],[-38.49657543699987,-7.75003189300001],[-38.326685641999966,-7.69370451],[-38.29335110199992,-7.823045898000004],[-38.039581584999915,-7.748119057999926],[-37.97059983799995,-7.777576901000028],[-37.857158854999895,-7.651968881999927],[-37.527958576999865,-7.465310691999939],[-37.4876261959999,-7.389419525999919],[-37.23417876399999,-7.273886873999992],[-37.025623398999926,-7.386044158999972],[-36.984225593999916,-7.482261691999948],[-37.11834321099996,-7.534430853999986],[-37.197946187999875,-7.635297899999994],[-37.13894468099994,-7.7455176589999795],[-37.30897636299994,-7.934176242000014],[-37.15179460799991,-8.00941482799995],[-37.16022532299989,-8.170400441999949],[-37.08222682699995,-8.261887406999936],[-36.960202323999965,-8.300467414999947],[-36.62861251599993,-8.111050372999951],[-36.62785149599994,-7.986406648999967],[-36.48013637799989,-7.924763255999935],[-36.394539079999966,-7.807608743999928],[-35.87211827099992,-7.749538910999988],[-35.519631903999915,-7.640017506999964],[-35.49431212799989,-7.482205559000011],[-35.24859467599999,-7.374779552999989],[-35.0705207619999,-7.398760992999943],[-34.96078689399997,-7.538766050999946],[-34.833880631999925,-7.5486343719999525]]]},\"properties\":{\"NM_ESTADO\":\"PERNAMBUCO\",\"NM_REGIAO\":\"NORDESTE\",\"CD_GEOCUF\":\"26\"}},{\"type\":\"Feature\",\"geometry\":{\"type\":\"Polygon\",\"coordinates\":[[[-41.322681309999965,-2.921319573999945],[-41.256651460999905,-3.0880149309999467],[-41.41231773699996,-3.340697301999974],[-41.324049276,-3.385924076999977],[-41.34174775599995,-3.680772601999905],[-41.28793591999988,-3.82248701999994],[-41.11316689399995,-4.049789875999977],[-41.119123977999905,-4.306526125999952],[-41.22933070199996,-4.620094987999998],[-41.18113441299993,-4.673192853999964],[-41.24957382699996,-4.86969019699994],[-41.08192174899994,-5.087632798999998],[-40.928987708999905,-5.1716715620000215],[-40.9438034179999,-5.42358633599995],[-40.90325396099992,-5.632552380999975],[-40.903947411999916,-6.020876971999975],[-40.83410147999995,-6.244432451999927],[-40.83133734999995,-6.247742472999974],[-40.77914906499993,-6.341346873000006],[-40.787668379999964,-6.523780277999933],[-40.71018275999991,-6.676129548999988],[-40.476926287999945,-6.732831674999915],[-40.43216658199995,-6.8129775969999],[-40.427717670999996,-7.033881107999985],[-40.489739309999884,-7.118690142999974],[-40.523723210999925,-7.318450482999928],[-40.54846371299989,-7.392691466000013],[-40.715293977999956,-7.487954017999932],[-40.62171798699996,-7.655379128999918],[-40.67356947599991,-7.7616719469999715],[-40.554860071999954,-7.818430510999953],[-40.54422205699994,-7.964597073999947],[-40.6328403669999,-8.139301283999934],[-40.780506558999896,-8.302837183999912],[-40.978545009999934,-8.398650711999945],[-41.213542854999915,-8.64415553000002],[-41.35833618399989,-8.707620177999932],[-41.54141013899988,-8.93355671599998],[-41.73082175799987,-9.027957202999982],[-41.837965768999915,-9.24227204399999],[-42.31607656799996,-9.316612335999942],[-42.493091775999936,-9.494900445999988],[-42.590358743999964,-9.498351978999931],[-42.82055280299994,-9.619230413999947],[-42.94379914999995,-9.520772843999993],[-42.98786311499993,-9.401338512999914],[-43.16152399599993,-9.379250070000001],[-43.285117358999955,-9.420028074999976],[-43.43812858699989,-9.266137781999962],[-43.57902656599997,-9.320390240999977],[-43.784247716999936,-9.45477289099992],[-43.85258131899992,-9.562138369999996],[-43.78492181599993,-9.762385011999953],[-43.66484573799987,-9.823654789999981],[-43.66517311699987,-9.991027969999934],[-43.759228515999915,-10.074605175999963],[-43.8369216249999,-10.302204972999963],[-43.93673482099993,-10.43613028699999],[-44.02584368599997,-10.475470726999948],[-44.13926402399992,-10.639884324999983],[-44.314547154999936,-10.55736299099992],[-44.5005051529999,-10.649701880999963],[-44.57777943099996,-10.626768771999973],[-44.66278284899987,-10.750561774000001],[-44.931217944999965,-10.928756348999947],[-45.08211325699989,-10.839502941999935],[-45.245967409999906,-10.822483106999915],[-45.437328173999965,-10.615566335999983],[-45.400268857999926,-10.463074347999935],[-45.60317609399993,-10.107982174999975],[-45.72399754899994,-10.15569586599996],[-45.793743308999964,-10.26767280099994],[-45.94626532499992,-10.25854990599997],[-45.87854391799988,-10.11029933799994],[-45.821420602999915,-9.773127065999955],[-45.831941391999905,-9.536791902999987],[-45.797841398999935,-9.417251883999956],[-45.90699997599996,-9.293768406999959],[-45.92390476699997,-9.10019372199995],[-45.92300584999993,-9.099787078999967],[-45.994294837999924,-8.926865335999935],[-45.938306316999885,-8.782814888999969],[-45.839947646999946,-8.715278076999923],[-45.739148777999894,-8.502587655999939],[-45.662835804999965,-8.254949899999954],[-45.58146779999994,-8.156043973999939],[-45.54037500399994,-7.864697816999989],[-45.432747260999925,-7.661501680999972],[-45.33976701499993,-7.580244760999989],[-45.156077175999876,-7.5134380429999545],[-44.92692080899996,-7.47162035400002],[-44.81673283899994,-7.361204999999927],[-44.68797801299997,-7.394532644999941],[-44.56359238199994,-7.22695098099997],[-44.27653391199993,-7.075099288999965],[-44.25981798699991,-6.997420710000025],[-44.116275571999886,-6.805785860999933],[-43.79085611799995,-6.702332041999945],[-43.63751123299995,-6.719562510999985],[-43.455476857999905,-6.846672853999959],[-43.21052971999997,-6.763128476999981],[-43.04686549799994,-6.761459908999946],[-43.03966832199997,-6.762099144999986],[-43.01108738599994,-6.759189921999976],[-43.00610620799991,-6.757126529999958],[-43.000725388999946,-6.753347463000004],[-42.996779128999925,-6.75099503299996],[-42.919775112999936,-6.6703093619999905],[-42.847002470999925,-6.282493587999994],[-43.07269211499989,-6.05908688400001],[-43.09914463099993,-5.630281875999962],[-42.970194896999914,-5.455514515999994],[-42.82462308299992,-5.345643723000016],[-42.80297152499992,-5.150252050999946],[-42.9545889539999,-4.689462408999901],[-42.85073511099995,-4.479003799999923],[-42.956725503999934,-4.384645118000009],[-42.98919344199987,-4.234052022999954],[-42.72620249799992,-3.9100057859999566],[-42.67791393999989,-3.677442575999976],[-42.529551010999974,-3.492495872999932],[-42.21187028699988,-3.4364511749999522],[-42.11582506499995,-3.262326386999945],[-42.000221163999996,-3.24108652999999],[-41.79588438099992,-2.9655704600000306],[-41.86496314099992,-2.8780057079999395],[-41.81410763399995,-2.739308919999914],[-41.633179301999945,-2.886404544999955],[-41.322681309999965,-2.921319573999945]]]},\"properties\":{\"NM_ESTADO\":\"PIAU\\u00cd\",\"NM_REGIAO\":\"NORDESTE\",\"CD_GEOCUF\":\"22\"}},{\"type\":\"Feature\",\"geometry\":{\"type\":\"Polygon\",\"coordinates\":[[[-41.642973613999956,-21.144726212999988],[-41.642168257999934,-21.144767652999953],[-41.43524899599997,-21.215701900999907],[-41.19035574099996,-21.248556049999912],[-41.08954721699991,-21.21956933999998],[-40.96016236899986,-21.301594559999938],[-41.06526501999994,-21.491463995999972],[-41.010212458999895,-21.608824545999973],[-40.989712670999886,-22.010614414999964],[-41.16759533299996,-22.115967924000014],[-41.643081331999895,-22.27568982699999],[-41.773778390999894,-22.36450225799993],[-41.996112387999936,-22.608225381999937],[-41.93243974799996,-22.767169204999927],[-42.065560911999974,-22.95724064999998],[-42.5758233749999,-22.932903907999936],[-43.04596300399987,-22.972696868999947],[-43.134693612999975,-22.88146813200001],[-43.03149246599993,-22.746042942999956],[-43.2042417019999,-22.72658166099999],[-43.27436358599987,-22.77318282299994],[-43.18334141899989,-22.97280305799994],[-43.562361956999936,-23.05315847699994],[-43.80048878099991,-22.916759179999936],[-44.07431888599991,-22.952189652999948],[-44.130330417999986,-23.03248432399998],[-44.444107123999906,-23.011658069999967],[-44.6752599609999,-23.060426427999992],[-44.72164632799993,-23.20212107899991],[-44.56747827399994,-23.236468176999985],[-44.561896637999965,-23.33096056399995],[-44.72418337399988,-23.367525645999955],[-44.88932055099992,-23.22659492000001],[-44.8244161569999,-23.162687260999952],[-44.79189818199991,-22.981875898999938],[-44.48437474999993,-22.84635699499995],[-44.26760000699987,-22.829018786999967],[-44.18427616399993,-22.63729930399998],[-44.405825757999914,-22.59909833399998],[-44.64363892799996,-22.599606353000002],[-44.80943624499991,-22.405570820999966],[-44.49685575099993,-22.303741241999987],[-44.43320946499991,-22.25140833399999],[-44.236752625999905,-22.265780971000005],[-44.10129340499997,-22.17372102299995],[-43.77650160499993,-22.06603598399999],[-43.46451918199996,-22.072761462999924],[-43.36783121399996,-22.01980703899993],[-43.1303720919999,-22.034963796999985],[-43.130927450999934,-22.035190136999972],[-43.07552843399991,-22.092859631000007],[-42.881427470999874,-21.959266185999994],[-42.3577268989999,-21.741050505999993],[-42.36868324399996,-21.618419548999924],[-42.25744043899988,-21.482346574999923],[-42.208332765999934,-21.179016067999946],[-41.874738200999936,-20.76593425499993],[-41.739854508999926,-20.81750375],[-41.73594072999993,-21.102598386999972],[-41.642973613999956,-21.144726212999988]]]},\"properties\":{\"NM_ESTADO\":\"RIO DE JANEIRO\",\"NM_REGIAO\":\"SUDESTE\",\"CD_GEOCUF\":\"33\"}},{\"type\":\"Feature\",\"geometry\":{\"type\":\"Polygon\",\"coordinates\":[[[-37.253291124999954,-4.831555508000008],[-37.16409209599991,-4.934155562999962],[-36.9610098419999,-4.920538131999905],[-36.70361087999989,-5.07967186499998],[-36.51144022099988,-5.064485972999911],[-36.15173591699987,-5.0954097449999765],[-35.94951622599991,-5.04412854199996],[-35.48979041499995,-5.158053723000023],[-35.372858889999925,-5.282775086999948],[-35.22580522399989,-5.5811982999999685],[-35.17906643199993,-5.868232044999978],[-35.10506112899998,-6.007745184999955],[-34.96853801999995,-6.487260754999966],[-35.1454434789999,-6.552709709999924],[-35.33077285899999,-6.544341412999955],[-35.39475547399995,-6.4940336449999165],[-35.66016425999994,-6.445278718999937],[-35.944183730999946,-6.493006191999996],[-36.11018899999987,-6.4291806559999785],[-36.24977207199995,-6.437359912999938],[-36.27987270099986,-6.308861519999965],[-36.394561407999944,-6.293974775999956],[-36.49984817499989,-6.358164866000024],[-36.513810752,-6.594393000000018],[-36.557942245999975,-6.712599646999948],[-36.509962190999886,-6.817948802999993],[-36.6036081199999,-6.930456951999965],[-36.835029623999915,-6.731070934999984],[-37.003855273999875,-6.709745814999991],[-37.19265733199997,-6.826140128999981],[-37.314298923999885,-6.6889744299999805],[-37.484699541999866,-6.710037373999953],[-37.464724523999934,-6.532663685999985],[-37.39578566499988,-6.510093149999975],[-37.37732883499989,-6.34439261199995],[-37.162419500999896,-6.1598636849999195],[-37.256473966999955,-6.028471064000016],[-37.45894742999995,-6.145002224999963],[-37.742373875999924,-6.188975421999984],[-37.85889386899992,-6.3743539829999705],[-37.95555177099992,-6.404937242999928],[-37.95539564599988,-6.398208629000003],[-38.09712989799987,-6.508149035999963],[-38.28152588299991,-6.499544008999948],[-38.56250594099997,-6.355651694000009],[-38.57909282199996,-6.279082624999944],[-38.41318705899992,-6.0583208259999495],[-38.30650118399994,-6.0870333769999405],[-38.122515429999915,-5.8817401469999595],[-38.04688418399991,-5.732942049000009],[-38.081985387999936,-5.670122675999934],[-37.90224571299996,-5.500661805999904],[-37.72508935199994,-5.070624277000022],[-37.64033838099987,-4.926404605999998],[-37.253291124999954,-4.831555508000008]]]},\"properties\":{\"NM_ESTADO\":\"RIO GRANDE DO NORTE\",\"NM_REGIAO\":\"NORDESTE\",\"CD_GEOCUF\":\"24\"}},{\"type\":\"Feature\",\"geometry\":{\"type\":\"Polygon\",\"coordinates\":[[[-49.71256592199991,-29.325572027000014],[-49.91021982699992,-29.58726791199993],[-50.133874062999965,-30.011078373999993],[-50.30885079099994,-30.455912184999946],[-50.788570281999945,-31.134087101999945],[-51.43543986799992,-31.703512728999943],[-51.817780417999955,-31.910899292999932],[-52.06879574199989,-32.13652033399999],[-52.02013061799988,-31.925083422999982],[-51.83845492999994,-31.79860066299998],[-51.60290344299989,-31.717505778999993],[-51.443035463999905,-31.49526998099999],[-51.23831009199993,-31.458146332999952],[-51.15870813699992,-31.279930755999956],[-51.17689115099991,-31.079768041999927],[-50.9949516779999,-31.048103179],[-50.919638943999956,-30.906387316999933],[-50.75377673399997,-30.818937214],[-50.679541505999914,-30.609172518999976],[-50.57442003699997,-30.48147576199998],[-50.537779556999936,-30.273866223000013],[-50.79697997799997,-30.338382131999957],[-51.18346673099996,-30.233303078999967],[-51.29527329399997,-30.302946935],[-51.24625296999987,-30.445079193999973],[-51.30222998999994,-30.63444813199998],[-51.49663436799994,-30.915395437999997],[-51.461514775999895,-31.09667399499994],[-51.62866634199999,-31.152954070999943],[-51.63907046899992,-31.270668011999962],[-51.919462761999924,-31.31076585799997],[-51.98063581099994,-31.383721910999967],[-52.03065301199992,-31.692345283999916],[-52.227806940999955,-31.760314595999954],[-52.203356817999946,-32.038787698999975],[-52.10480775099988,-32.10596044999992],[-52.2860389089999,-32.32763214699997],[-52.37105913599996,-32.489609738999974],[-52.493420610999934,-32.86493165499998],[-52.608451042999874,-33.08250724299995],[-52.772898078999916,-33.283482587999984],[-53.37003812599992,-33.74390502800002],[-53.529501321999895,-33.688395655000015],[-53.51222350899994,-33.536879036999935],[-53.43465463599992,-33.50040114999995],[-53.469196206999925,-33.25089744299994],[-53.34497971799994,-33.09319133299995],[-53.26176468999995,-33.109546278000025],[-53.15998937199993,-32.96967754299993],[-53.13173092099994,-32.79516469599997],[-52.98562356899996,-32.81681967899999],[-52.88346916899993,-32.90069782399996],[-52.76174308099995,-32.876974663999974],[-52.58640910999999,-32.53069654800001],[-52.69490476299996,-32.31793606299991],[-52.78958709799993,-32.444326436999994],[-52.949824988999964,-32.48210776299992],[-53.083650654999914,-32.65673003099996],[-53.28880511699996,-32.62109663899995],[-53.58403982499986,-32.45130535699994],[-53.74787399999992,-32.07786125799996],[-53.963261464999945,-31.921960267999943],[-54.081337794999925,-31.929646611999978],[-54.45622681099991,-31.651700545999955],[-54.58685264999996,-31.45653635199997],[-54.8364552769999,-31.441938324999956],[-55.07446430099998,-31.332089679000035],[-55.250104998999916,-31.20600847499995],[-55.371293686999934,-31.023413789000003],[-55.579253380999916,-30.840095723999976],[-55.870757713999986,-31.071570210999937],[-56.018794399999905,-31.043618103999986],[-55.989683704999926,-30.85986813899993],[-56.15010065799994,-30.705492482999986],[-56.18767472199995,-30.60469471700003],[-56.49136475599992,-30.398109428999902],[-56.85037382599995,-30.08889614599999],[-57.07828154399994,-30.091516170999967],[-57.20420904499992,-30.285142295999968],[-57.41859925399994,-30.302644101999903],[-57.56797915499989,-30.25223096499994],[-57.328140706999875,-29.97203678299998],[-57.2354001569999,-29.780788385999983],[-57.1319053569999,-29.770160054999977],[-56.82209244199994,-29.490024800000008],[-56.66452281299996,-29.29499086899996],[-56.5887534179999,-29.119812817999936],[-56.43042023999989,-29.079503490000015],[-56.29974236799988,-28.80811331300002],[-56.194155538999894,-28.77519795199992],[-55.884006044999964,-28.47916305699998],[-55.87108916199996,-28.357262483999946],[-55.771246055999946,-28.241454535999978],[-55.56416423599995,-28.163505420999947],[-55.36939500899996,-28.027260535000025],[-55.32728202599992,-27.92673801400001],[-55.20268269799988,-27.85785919700004],[-55.02469414799993,-27.835310983999918],[-54.906638611999895,-27.729786940999972],[-54.90316703499998,-27.636387689999943],[-54.68011597699993,-27.526641024999932],[-54.35721444199997,-27.46494267599997],[-54.10104693399988,-27.30326295799992],[-53.946584530999964,-27.151259279999955],[-53.83709615899992,-27.168434117999922],[-53.51824902399996,-27.20217781599999],[-53.381040609999886,-27.094114657000006],[-53.18210244099993,-27.18932240899992],[-53.07123991399987,-27.156969744000016],[-52.970940316999915,-27.217627128000004],[-52.85997690799995,-27.170427347999997],[-52.68613649399994,-27.28130465999994],[-52.58274355099992,-27.24668155199994],[-52.29977454099996,-27.319075857],[-52.1263285009999,-27.30252345500002],[-51.90254583799998,-27.491377842],[-51.69964983899993,-27.479064209999905],[-51.501908487999955,-27.55613737799994],[-51.27461273199998,-27.74847558299996],[-51.13460645699996,-27.803657082000015],[-50.92396815799995,-27.971654551000015],[-50.85899103299987,-28.13970553699992],[-50.66523063399995,-28.33792459799998],[-50.42878056499988,-28.433541038999955],[-50.24241076399987,-28.432025672999984],[-50.09717708499988,-28.48438035200001],[-49.970772883999985,-28.440210696999983],[-49.748261537999916,-28.49397253499999],[-49.77890392899997,-28.62948024699994],[-49.96133285099988,-28.772180408999915],[-49.93365669899994,-28.965821640999927],[-49.96273414999992,-29.198854621999963],[-49.71256592199991,-29.325572027000014]]]},\"properties\":{\"NM_ESTADO\":\"RIO GRANDE DO SUL\",\"NM_REGIAO\":\"SUL\",\"CD_GEOCUF\":\"43\"}},{\"type\":\"Feature\",\"geometry\":{\"type\":\"Polygon\",\"coordinates\":[[[-61.58313478499995,-8.798689053999965],[-61.4692140489999,-8.920114294000015],[-61.555754959999916,-9.092402570999948],[-61.52486508499999,-9.242855075000001],[-61.627875033999935,-9.351636830999933],[-61.50804291999998,-9.540462961999975],[-61.507913555999934,-9.861081823999985],[-61.60123639299995,-10.150090132999946],[-61.46179283699995,-10.419904593999952],[-61.47961623499994,-10.78769652299998],[-61.530087296999895,-10.979019521999934],[-61.427310304999864,-10.987552793999967],[-60.460050131999935,-10.98985622099995],[-60.391554084999925,-11.093792629999989],[-59.98684978899993,-11.11451719299994],[-59.976776585999936,-11.122388889999947],[-59.93441293299995,-11.42366751299997],[-60.09416055599992,-11.562847124999976],[-60.12241108499996,-11.682401686999967],[-60.06588370999992,-11.890825284999963],[-59.98419555799997,-11.91482133199997],[-59.88679687299996,-12.245087005999956],[-59.79294126599992,-12.345781874999929],[-59.94765477999992,-12.599265153999962],[-60.028941959999926,-12.618567095999978],[-60.07911274599991,-12.88114250500001],[-60.2843717499999,-13.084844121999929],[-60.268505209999915,-13.144971058999989],[-60.37347949799994,-13.32444299000002],[-60.38791962799994,-13.454695111999971],[-60.68603786099986,-13.62522742800001],[-60.70931488799989,-13.693003363999946],[-60.879840620999914,-13.61752791299995],[-60.933890873999985,-13.540709474999947],[-61.24834405399993,-13.496274093999961],[-61.46992394099993,-13.555250239000017],[-61.585620982999956,-13.500625656999944],[-61.86885264999988,-13.528222080999953],[-61.887425969999924,-13.440774472999962],[-62.115684347999874,-13.258465214000005],[-62.119709082999904,-13.153532828999982],[-62.29934972999995,-13.150552810999972],[-62.442908906999946,-13.07991137999991],[-62.734020566999945,-13.021866757999923],[-62.921354292999965,-12.840861480999944],[-63.00709821999986,-12.839595993999954],[-63.16447898799993,-12.615720569],[-63.29554445099994,-12.681856723999974],[-63.55049089599998,-12.50843699499995],[-63.78630346699996,-12.427945031000021],[-63.963361899999875,-12.5296982479999],[-64.40616760999988,-12.447048136000017],[-64.4928919109999,-12.291194948999951],[-64.71294475099994,-12.173579896999943],[-64.83958681899998,-12.010679252999946],[-65.02891222299994,-11.997637135999973],[-65.09052559699988,-11.70777741199991],[-65.18297333199996,-11.721703505999926],[-65.2289700939999,-11.515630149999968],[-65.30491927199994,-11.501599987999956],[-65.35985587099998,-11.257804396999994],[-65.35147072199995,-11.121723845999988],[-65.25085903699993,-10.984545508999922],[-65.34816982799994,-10.778442547999912],[-65.42974733199998,-10.480948481999942],[-65.28882913699992,-10.219870802999932],[-65.3318292719999,-9.930014664999899],[-65.28865919499998,-9.865726729999992],[-65.39160148399992,-9.687630163999895],[-65.62369480799993,-9.835979801999951],[-65.684969391,-9.7490080879999],[-66.1520241299999,-9.785617809999959],[-66.35839264099994,-9.864045276999956],[-66.62671969099989,-9.898101245000014],[-66.81025311199988,-9.818045875999971],[-66.77536361699997,-9.753091304999973],[-66.50061335999995,-9.633564154999942],[-66.37477644899992,-9.42636614500001],[-66.1736327839999,-9.434418657999966],[-66.0266340839999,-9.400841688999929],[-66.00257566199997,-9.404257388000016],[-65.72996717899997,-9.56307267899994],[-65.67943521399995,-9.451392892999944],[-65.50316325099992,-9.469975436999945],[-65.44021839999994,-9.31174527999994],[-65.24666142999989,-9.25766355299993],[-65.14288058199993,-9.446812339999934],[-65.05354596899996,-9.40214225199998],[-64.91968281999992,-9.220280295999995],[-64.93992979499997,-9.124565832999988],[-64.80782419299996,-8.985551791000002],[-64.58796100999989,-9.00950990599998],[-64.32339962999994,-8.928860605],[-64.14176693799992,-8.945050737999939],[-64.14306706899993,-8.743031521999956],[-63.9245687009999,-8.57552541599993],[-63.94412252099988,-8.331187684999964],[-63.79123129199993,-8.333215251999949],[-63.72276144799996,-8.249498971999959],[-63.621426974999906,-7.976531735999949],[-62.86661657199994,-7.975868297000034],[-62.69228013499992,-8.092908286999979],[-62.65500162299995,-8.229056373999978],[-62.36080349999993,-8.398549286999991],[-62.36605117099998,-8.493561707999998],[-62.18370053599989,-8.59896651299994],[-62.12497174299996,-8.801671148999969],[-61.97913997899995,-8.873244618999966],[-61.85974862099988,-8.852973303999946],[-61.84124993399989,-8.739410640999946],[-61.74185400599992,-8.695192860999935],[-61.58313478499995,-8.798689053999965]]]},\"properties\":{\"NM_ESTADO\":\"ROND\\u00d4NIA\",\"NM_REGIAO\":\"NORTE\",\"CD_GEOCUF\":\"11\"}},{\"type\":\"Feature\",\"geometry\":{\"type\":\"Polygon\",\"coordinates\":[[[-58.89549794199995,1.2276938380000573],[-58.89546481899997,0.26351027600004784],[-60.037968645999925,0.2635455170000327],[-60.137945011999875,0.1026929520000266],[-60.22050589599992,-0.13535779599995834],[-60.29411463199992,-0.21895831999996318],[-60.34469627099996,-0.4406104709999923],[-60.39995379199992,-0.5100834300000088],[-60.30967178199988,-0.7248011769999536],[-60.498007147999914,-0.7895229729999684],[-60.66801047899997,-0.8945179939999335],[-60.91634183199987,-0.6103597729999919],[-61.0874569299999,-0.5000854139999262],[-61.45689971099992,-0.657024098000015],[-61.54217677999991,-0.7636911579999435],[-61.57856494899994,-0.9100751779999925],[-61.54660281999993,-1.0712097199999633],[-61.6269031399999,-1.2939700429999377],[-61.604954677999935,-1.4481314559999134],[-61.798009427999915,-1.3806299629999472],[-61.89662390699988,-1.3953552569999204],[-62.01746027499997,-1.141743980999955],[-62.312742271999966,-0.9303550079999141],[-62.37606719099995,-0.8364693249999675],[-62.50107315499997,-0.7814660970000062],[-62.287537919999906,-0.638332251999941],[-62.31836376899995,-0.5525119609999436],[-62.202262855999905,-0.39304369999999267],[-62.245038932999904,-0.17471605599996565],[-62.41496677099994,0.07437888900005873],[-62.46688913799989,0.33296778300002927],[-62.53300861699991,0.5088083590000707],[-62.53829053099995,0.6751955420000613],[-62.46302607899992,0.7768687830000758],[-62.44273541599989,0.958533913000025],[-62.521087891999905,1.0838158780000597],[-62.639964767999956,1.4382383060000308],[-62.80528233299991,1.5913456640001016],[-62.72860678899992,1.699999999000056],[-62.729583834999936,1.9605493510000542],[-62.83857147599994,2.0163863560000763],[-63.02377614999992,2.0146793629999706],[-63.1463394419999,2.1732585560000786],[-63.27635142799988,2.154389691000013],[-63.37208910399994,2.2118616500000456],[-63.49997974799999,2.4359862930000133],[-63.7808517589999,2.3912752260000474],[-64.0590186369999,2.508097154000069],[-63.9916530769999,2.6362783370000002],[-63.995523550999955,2.7715737910000584],[-64.06996916699993,2.9326666710000495],[-64.2330273969999,3.108788350000083],[-64.21080549099996,3.17212073000006],[-64.23996781599995,3.4429540460000823],[-64.18580195499999,3.5596186590000514],[-64.28914039899993,3.6996219760000884],[-64.47858257299997,3.7832299750000047],[-64.58025139099988,3.9282948590000615],[-64.81052731599988,4.174616635000049],[-64.6846985879999,4.239341280000033],[-64.5605043959999,4.101566803000026],[-64.43163723299988,4.134623827000027],[-64.17191393399993,4.128788995000065],[-63.968583677999916,3.8785051260000785],[-63.850247507999924,3.9499011680000464],[-63.70052761699991,3.94434056300004],[-63.51108074499994,3.847122149000029],[-63.39329716699993,3.9804494900000478],[-63.20524784899986,3.948790240000058],[-62.986071950999985,3.6099000910000427],[-62.8102382969999,3.7326760900000338],[-62.73607425699996,4.039896671999998],[-62.533017845999964,4.047397558000057],[-62.43774064099989,4.182951960000047],[-62.148021488999916,4.079066973000089],[-61.99329432899994,4.174899417000091],[-61.81885057599992,4.167672820000078],[-61.75050987199988,4.255179362999975],[-61.561901370999905,4.251015007000028],[-61.52106749799992,4.384067493000046],[-61.35162296499992,4.418786705999999],[-61.26520537699997,4.5368336560000415],[-61.146899776999945,4.481567143000056],[-60.964122612,4.543784699000078],[-60.899955021999915,4.716288990000031],[-60.75356114899995,4.75517399900005],[-60.58412419999995,4.955732021000102],[-60.697177186999966,5.228783738000089],[-60.32828613799994,5.205453997000056],[-60.21245352399988,5.271841077000005],[-60.13273006999995,5.224893784000017],[-59.9902296759999,4.986560876000048],[-60.03022834299996,4.7004535740000435],[-60.15578739499992,4.502947389999989],[-59.78106075799996,4.439619631000035],[-59.69383832199995,4.377676409000067],[-59.73661838999993,4.2329558930000815],[-59.64827500599989,4.069899798000009],[-59.51633414799993,3.944069784000014],[-59.59605441299986,3.7957322059999825],[-59.76688912899988,3.6249038210000464],[-59.805506292999944,3.3549030699999918],[-59.90744684499995,3.212119643000058],[-59.98272636199991,2.9301793960000424],[-59.98606503999993,2.678243077000019],[-59.895504304999925,2.481573405000084],[-59.88745176199997,2.3557392420000127],[-59.71938759899995,2.23629319500003],[-59.746056598999964,1.851855499000024],[-59.690222502999916,1.756298582999996],[-59.533554108999894,1.7162964640000027],[-59.483004771999944,1.6265776250000243],[-59.25327999799998,1.3882478220000465],[-58.91854937199996,1.3165784610000202],[-58.89549794199995,1.2276938380000573]]]},\"properties\":{\"NM_ESTADO\":\"RORAIMA\",\"NM_REGIAO\":\"NORTE\",\"CD_GEOCUF\":\"14\"}},{\"type\":\"Feature\",\"geometry\":{\"type\":\"Polygon\",\"coordinates\":[[[-48.59459170799987,-25.976787749999964],[-48.58221976499992,-26.162432600999956],[-48.50607918299987,-26.239128181000005],[-48.67275252799992,-26.602484597999947],[-48.64329394899993,-26.909908017999996],[-48.58174440299994,-27.00429953799997],[-48.61663699999994,-27.262093997999926],[-48.37043987799996,-27.44371522999998],[-48.57301930099993,-27.885898584000017],[-48.7036377099999,-28.338085944999918],[-48.82720799999998,-28.606925997999944],[-49.18541320299994,-28.801486156999957],[-49.376834499999944,-28.95572599799994],[-49.71256592199991,-29.325572027000014],[-49.96273414999992,-29.198854621999963],[-49.93365669899994,-28.965821640999927],[-49.96133285099988,-28.772180408999915],[-49.77890392899997,-28.62948024699994],[-49.748261537999916,-28.49397253499999],[-49.970772883999985,-28.440210696999983],[-50.09717708499988,-28.48438035200001],[-50.24241076399987,-28.432025672999984],[-50.42878056499988,-28.433541038999955],[-50.66523063399995,-28.33792459799998],[-50.85899103299987,-28.13970553699992],[-50.92396815799995,-27.971654551000015],[-51.13460645699996,-27.803657082000015],[-51.27461273199998,-27.74847558299996],[-51.501908487999955,-27.55613737799994],[-51.69964983899993,-27.479064209999905],[-51.90254583799998,-27.491377842],[-52.1263285009999,-27.30252345500002],[-52.29977454099996,-27.319075857],[-52.58274355099992,-27.24668155199994],[-52.68613649399994,-27.28130465999994],[-52.85997690799995,-27.170427347999997],[-52.970940316999915,-27.217627128000004],[-53.07123991399987,-27.156969744000016],[-53.18210244099993,-27.18932240899992],[-53.381040609999886,-27.094114657000006],[-53.51824902399996,-27.20217781599999],[-53.83709615899992,-27.168434117999922],[-53.673588131999935,-26.893165044999968],[-53.73687904499995,-26.767457182999955],[-53.73007034799997,-26.50181512599994],[-53.63895336099995,-26.250794189999986],[-53.495834710999986,-26.302798864999914],[-53.304447197999934,-26.258444030999932],[-53.09322795699991,-26.392022133000005],[-52.99349068699995,-26.347684104999907],[-52.68018652199995,-26.35273107299996],[-52.229811804999926,-26.46704311399997],[-52.111632525999866,-26.47496336699991],[-52.0096346989999,-26.565837925000025],[-52.00900291999994,-26.566364438999983],[-51.49542970799992,-26.58741621600001],[-51.43534600499997,-26.688178098000016],[-51.23614091899995,-26.624671728999942],[-51.29287639899998,-26.434120708000002],[-51.24795121399997,-26.329866406999948],[-51.00107485299992,-26.230344358999936],[-50.84687301899997,-26.266383147999917],[-50.703993936999936,-26.18853779399995],[-50.62576960699987,-26.062133893999984],[-50.46089128099993,-26.026347713999947],[-50.37168707399991,-26.07919170299995],[-50.18315134699991,-26.077793974999942],[-50.010940014999946,-26.013328244999983],[-49.869439420999925,-26.033469716999917],[-49.67283968999992,-26.189785943999922],[-49.54984606399995,-26.23337323799999],[-49.300247257999885,-26.111285844999955],[-49.16750213899989,-26.00070120999998],[-48.59459170799987,-25.976787749999964]]]},\"properties\":{\"NM_ESTADO\":\"SANTA CATARINA\",\"NM_REGIAO\":\"SUL\",\"CD_GEOCUF\":\"42\"}},{\"type\":\"Feature\",\"geometry\":{\"type\":\"MultiPolygon\",\"coordinates\":[[[[-45.3289784099999,-23.72235210399996],[-45.23268895599992,-23.784971240999987],[-45.302959019999896,-23.90888547899992],[-45.46039214499995,-23.890238105999977],[-45.3289784099999,-23.72235210399996]]],[[[-47.26347119199987,-20.28102818599995],[-47.2640941549999,-20.280384249999962],[-47.29101129399993,-20.450549890999948],[-47.15451738099991,-20.51955319199992],[-47.09745644999996,-20.643876827999975],[-47.169240770999906,-20.70343084799997],[-47.24004425599997,-20.885281697000014],[-47.14373893599992,-20.98238567399997],[-47.12364782099989,-21.167909408999975],[-47.05228174399991,-21.246518715000008],[-47.012970413999874,-21.419107017999984],[-46.81730936399999,-21.366438573000025],[-46.5190527119999,-21.448953156999973],[-46.50077666699994,-21.54976113299998],[-46.63467134299992,-21.76814497299995],[-46.6388726179999,-21.76843268399995],[-46.69097054599991,-21.836963849000025],[-46.64282544999993,-21.976620813000004],[-46.71453686999989,-22.315584169999948],[-46.63160735399998,-22.435835705999963],[-46.45481710199988,-22.521906345999977],[-46.453904024999915,-22.52226621099991],[-46.42305441799994,-22.598638395999938],[-46.424201234999884,-22.599546534999938],[-46.33454146199991,-22.760300077000007],[-46.34522423599998,-22.904679204999994],[-46.141251987999965,-22.86814600399996],[-46.00852399999997,-22.889497999999953],[-45.90903499999994,-22.82960499999998],[-45.76695935699995,-22.84081226900001],[-45.74280673799995,-22.659166862999914],[-45.4105210919999,-22.65167102499992],[-45.05492889099995,-22.470503962999967],[-44.80943624499991,-22.405570820999966],[-44.64363892799996,-22.599606353000002],[-44.405825757999914,-22.59909833399998],[-44.18427616399993,-22.63729930399998],[-44.26760000699987,-22.829018786999967],[-44.48437474999993,-22.84635699499995],[-44.79189818199991,-22.981875898999938],[-44.8244161569999,-23.162687260999952],[-44.88932055099992,-23.22659492000001],[-44.72418337399988,-23.367525645999955],[-44.905663435999884,-23.334017091999982],[-45.173885187999915,-23.49632319399999],[-45.24422498499989,-23.593728612999932],[-45.40661089399993,-23.623862165999988],[-45.39627584899994,-23.808126273999953],[-45.8983203729999,-23.765352889999996],[-46.12839741699997,-23.844086341999997],[-46.197756877999915,-23.994776253999973],[-46.38379682199991,-23.97184136799993],[-46.92054843499989,-24.26736840099995],[-47.00363274699999,-24.408957335999993],[-47.561029258999895,-24.75790949999997],[-47.84292226999991,-24.976604956999964],[-47.9237606239999,-25.160517492999972],[-48.096095183999935,-25.308872460999936],[-48.191361332999975,-25.196241325000003],[-48.193165254999926,-25.193393076999975],[-48.21605429099991,-25.076671560999998],[-48.411868158999916,-24.980399625999965],[-48.56737089999994,-24.972266873999942],[-48.50734789099995,-24.754087709000032],[-48.50769848099992,-24.75237215999993],[-48.67500892299992,-24.701792470999955],[-49.010305694999886,-24.654371074999993],[-49.1115946369999,-24.688352308999995],[-49.312015434999964,-24.66353267099997],[-49.20111183199998,-24.34510656899993],[-49.350677245999904,-24.22080042999999],[-49.60761984999991,-23.840621985999967],[-49.54919903699988,-23.70401684899999],[-49.62095832099989,-23.611113666999977],[-49.595412114999874,-23.367091447],[-49.677707990999934,-23.174942584999926],[-49.911602197999905,-23.051118642000006],[-49.98616492499997,-22.897504762999944],[-50.13010134799991,-22.941175470999987],[-50.13351782299998,-22.939771034999957],[-50.70983876999993,-22.953442197999934],[-50.89533338999992,-22.79430016299997],[-51.00554855799997,-22.793821426999973],[-51.265199856999914,-22.667697405999988],[-51.45309608499993,-22.655750534999953],[-51.55956915799989,-22.697179344999952],[-51.873662989999936,-22.628216231999932],[-52.127602243999945,-22.519923031999923],[-52.22257722799996,-22.675534908000007],[-52.58934444199994,-22.56609659299993],[-52.69710537899988,-22.627006572999942],[-52.972424986999926,-22.570483843999934],[-53.105187188999906,-22.62192961399998],[-52.955134796999914,-22.47553848099997],[-52.94764535399992,-22.473179958999957],[-52.58693922699989,-22.256750486999955],[-52.3772179589999,-22.10667821999992],[-52.31901939299996,-21.972131911999938],[-52.055825418999916,-21.67715881299992],[-52.05071122399989,-21.66576663899995],[-52.102293397999944,-21.55484057799997],[-51.92868183299994,-21.455816098000003],[-51.84851446699996,-21.266638390000004],[-51.878984793999905,-21.148137742999996],[-51.713695715999904,-20.97145801499998],[-51.62358725699994,-20.9444328889999],[-51.63489922799993,-20.75484835499999],[-51.34270535099992,-20.354660120999913],[-51.115482235999906,-20.285084463000015],[-51.1131376539999,-20.282908309999993],[-51.00047500199993,-20.085384368999982],[-50.783601503999876,-19.937229485999964],[-50.65810473399992,-19.907147301999984],[-50.46932357799987,-19.779888807000013],[-50.352758940999905,-19.864602431000012],[-50.097243338999945,-19.87547895399995],[-49.88833693099997,-19.94530491699995],[-49.51400492799998,-19.914311506999983],[-49.45380995599997,-19.978059753],[-49.29753778199988,-19.96054540800001],[-49.29924642899994,-20.16707607899997],[-49.22529401499993,-20.30534306699996],[-48.82212673399992,-20.161547146000004],[-48.315412861999896,-20.113801091000006],[-48.20777146499991,-20.039370023999915],[-48.10548741299989,-20.14635595600003],[-47.87507730199998,-20.098372689999945],[-47.8597507319999,-19.992939749999984],[-47.639656072999955,-20.04721941400003],[-47.463322039999944,-19.96578900799999],[-47.40813349699992,-20.080196281999974],[-47.26178041999995,-20.15992487899998],[-47.26347119199987,-20.28102818599995]]]]},\"properties\":{\"NM_ESTADO\":\"S\\u00c3O PAULO\",\"NM_REGIAO\":\"SUDESTE\",\"CD_GEOCUF\":\"35\"}},{\"type\":\"Feature\",\"geometry\":{\"type\":\"Polygon\",\"coordinates\":[[[-36.887604851999974,-10.14302186699998],[-36.88059681599993,-10.145068555999949],[-36.81431188599999,-10.218853777999893],[-36.56590148199994,-10.329520637000012],[-36.393876845999884,-10.500343567999938],[-36.620435171999866,-10.589444632999957],[-36.80031551899994,-10.697214120999977],[-36.93749672399997,-10.831540419999964],[-37.247786821999895,-11.271154091000014],[-37.34114665399994,-11.442336473999926],[-37.436388482999924,-11.513643144999964],[-37.68161420499991,-11.563453639999977],[-37.96789796899995,-11.390518669999917],[-38.01460562799992,-11.184216375999934],[-38.01518596499989,-11.184014427999923],[-38.22582528799989,-10.917125510999949],[-38.24503174999991,-10.822741078000032],[-38.17016558199997,-10.712375417999965],[-38.17012565599995,-10.712385780000023],[-37.95577735499993,-10.747795717999931],[-37.926166128999924,-10.735949248999944],[-37.81393243599993,-10.691048422999906],[-37.83392608999998,-10.378339917999991],[-37.73487562299991,-10.332807017999968],[-37.82482312299988,-10.010087937000002],[-37.95746510799995,-9.971283672999999],[-37.96667190799994,-9.816052383999963],[-38.02820307699992,-9.776078236999975],[-38.00328989799988,-9.515029907999995],[-37.895920274999995,-9.54006489299999],[-37.57190114899993,-9.738724335999983],[-37.47370403499994,-9.746837614999993],[-36.96395836099997,-9.997477697999969],[-36.887604851999974,-10.14302186699998]]]},\"properties\":{\"NM_ESTADO\":\"SERGIPE\",\"NM_REGIAO\":\"NORDESTE\",\"CD_GEOCUF\":\"28\"}},{\"type\":\"Feature\",\"geometry\":{\"type\":\"Polygon\",\"coordinates\":[[[-45.94626532499992,-10.25854990599997],[-45.793743308999964,-10.26767280099994],[-45.72399754899994,-10.15569586599996],[-45.69926630299994,-10.264711662999982],[-45.825755919999885,-10.366132734],[-45.83387075199994,-10.467240406999935],[-46.00699065699993,-10.57537839699998],[-46.18208831599997,-10.638771667999936],[-46.28721258399997,-10.91129428999993],[-46.40231041899989,-11.00027562499999],[-46.488142147999945,-11.205062104999964],[-46.61709675699992,-11.289450135000024],[-46.52006221099993,-11.483549199999988],[-46.2261935549999,-11.571217785999966],[-46.34974835199994,-11.753941940999969],[-46.28500025599988,-11.885938924999962],[-46.397865463999906,-12.040340194999978],[-46.3743717719999,-12.289805744999938],[-46.25175315899996,-12.429876211999936],[-46.28935342899991,-12.633654580999988],[-46.26492115099996,-12.71694829199992],[-46.30061682199988,-12.949818771000011],[-46.11427457999992,-12.917905522999963],[-46.37016654399994,-12.98886712999996],[-46.75061097499995,-12.969155006999934],[-47.00973538899991,-13.140823160999982],[-47.16773132099989,-13.211231001999991],[-47.416151559999875,-13.270326580999981],[-47.64667563999989,-13.120605114999929],[-47.678986045999935,-13.467712663999954],[-47.823990718999895,-13.31186630099992],[-47.9883727269999,-13.276308952999983],[-48.15207020199992,-13.306651729999942],[-48.17290500599994,-13.150733613999922],[-48.44343746799993,-13.287825294000012],[-48.60234145799991,-13.059170728999959],[-48.87008117099994,-12.803478586999951],[-48.975629551999944,-12.957194012999974],[-49.14594497799989,-12.820023668999948],[-49.35443397499988,-13.109597653999995],[-49.369529269999916,-13.274619450999992],[-49.939425748999966,-12.956925531999964],[-50.185987333999904,-12.894029595999946],[-50.307736218999906,-12.818134948999994],[-50.20525828799993,-12.465851668000006],[-50.31484397599995,-12.498921118999974],[-50.43379002799995,-12.646732514999993],[-50.511066498999924,-12.860767998999979],[-50.62535946699995,-12.800019486999915],[-50.70648878599995,-12.609701003999941],[-50.62357366499999,-12.455283798000028],[-50.68137729599993,-12.216949710999959],[-50.68630452099994,-11.858995415999974],[-50.72159147699988,-11.731712636999948],[-50.656925895999905,-11.600858319999908],[-50.73893523999988,-11.544511595999985],[-50.72851110399989,-11.382565941999957],[-50.60945742599996,-11.067445653999975],[-50.63261929199996,-10.931861499000007],[-50.57058773299996,-10.752504128999952],[-50.60289774999988,-10.658233980999988],[-50.48262047499996,-10.490038607999953],[-50.22480638199988,-9.84115347700001],[-50.08956227599999,-9.545692939999984],[-50.037784865999946,-9.289405331000001],[-49.90541988699988,-9.169744793999946],[-49.84258965199997,-9.027325947999977],[-49.684358283999956,-8.856474923999947],[-49.59241132799992,-8.839491234999986],[-49.40988815999994,-8.58000194899995],[-49.34940941899999,-8.418376484999946],[-49.28332352599991,-8.379556778999909],[-49.21585399399993,-8.194211697999943],[-49.16074007299996,-7.791368960999968],[-49.33514734199997,-7.668678115000006],[-49.37799740999998,-7.496445757999993],[-49.185284175999925,-7.235171786999995],[-49.20952811299992,-6.925420568999897],[-49.01888351899997,-6.784210543999933],[-48.769098156999924,-6.730701561999972],[-48.651960441999975,-6.63995124099992],[-48.60718501099992,-6.4480110719999715],[-48.417122595999906,-6.298586625999981],[-48.40827049199996,-6.153402245999985],[-48.28804731999998,-6.097563684000008],[-48.334716312999944,-6.004274753999958],[-48.23012533599993,-5.922518408999956],[-48.275710027999885,-5.726513365999942],[-48.17598312399998,-5.71229574999996],[-48.138151993999934,-5.602690143999986],[-48.27868911699991,-5.540423276999974],[-48.39351038299995,-5.3942125929999705],[-48.59673339899997,-5.422544371999983],[-48.75515073699992,-5.34916540799999],[-48.6061317079999,-5.336500755999985],[-48.51946023799991,-5.192135489999991],[-48.36390981499994,-5.168380514999946],[-48.17679674199997,-5.2597152909999565],[-48.00120632799994,-5.234253101999961],[-47.87292355099994,-5.272358116000021],[-47.7443137449999,-5.380132444999994],[-47.500120458999895,-5.525604845000018],[-47.493094240999945,-5.710038436999973],[-47.43106335199991,-5.869210648999946],[-47.44781165699994,-5.996073503999952],[-47.37864385599995,-6.272758322999984],[-47.49864407099995,-6.6712315600000025],[-47.54829352699987,-7.018893612999989],[-47.66037487399996,-7.151368062999964],[-47.65065584499997,-7.30225854299993],[-47.49978636199996,-7.293858349999983],[-47.49679115299994,-7.480640807999951],[-47.335785592999976,-7.63702621499991],[-47.06193350699994,-8.005713163999918],[-46.99501582899996,-8.063290998999918],[-46.882670272999945,-7.964077880999977],[-46.604672459999904,-7.896176243999943],[-46.466191471999885,-8.070352085],[-46.54366752299994,-8.318922093000026],[-46.776890690999906,-8.368431856999937],[-46.84603098299993,-8.533578621999972],[-46.91814678499995,-8.856995046999995],[-46.99292192999991,-8.878889431999927],[-47.05772741699992,-9.052954453999963],[-46.86111702199991,-9.146422799999932],[-46.818751652999865,-9.303437734999932],[-46.57325558299989,-9.477761657999984],[-46.644393611999924,-9.740333254999967],[-46.51286719899996,-9.79750343999999],[-46.445200391999904,-10.077387270999939],[-46.324778822999946,-10.183188586000004],[-46.16330344199992,-10.213632626999992],[-46.02827816599992,-10.176869647999954],[-45.94626532499992,-10.25854990599997]]]},\"properties\":{\"NM_ESTADO\":\"TOCANTINS\",\"NM_REGIAO\":\"NORTE\",\"CD_GEOCUF\":\"17\"}}]},\"hovertemplate\":\"Unidade da Federa\\u00e7\\u00e3o=%{location}<br>Casos confirmados=%{z}<extra></extra>\",\"locations\":[\"MINAS GERAIS\",\"ESP\\u00cdRITO SANTO\",\"RIO DE JANEIRO\",\"S\\u00c3O PAULO\",\"SANTA CATARINA\",\"PARAN\\u00c1\",\"RIO GRANDE DO SUL\",\"GOI\\u00c1S\",\"DISTRITO FEDERAL\",\"MATO GROSSO DO SUL\",\"MATO GROSSO\",\"AMAZONAS\",\"ACRE\",\"AMAP\\u00c1\",\"PAR\\u00c1\",\"ROND\\u00d4NIA\",\"RORAIMA\",\"TOCANTINS\",\"BAHIA\",\"ALAGOAS\",\"CEAR\\u00c1\",\"MARANH\\u00c3O\",\"PARA\\u00cdBA\",\"PERNAMBUCO\",\"PIAU\\u00cd\",\"RIO GRANDE DO NORTE\",\"SERGIPE\"],\"marker\":{\"opacity\":1,\"line\":{\"width\":1.0}},\"name\":\"\",\"subplot\":\"mapbox\",\"z\":[133,8,314,2019,22,62,34,60,100,10,4,9,1,0,1,0,0,1,26,0,14,2,1,15,1,10,0],\"type\":\"choroplethmapbox\"}],                        {\"template\":{\"data\":{\"bar\":[{\"error_x\":{\"color\":\"#2a3f5f\"},\"error_y\":{\"color\":\"#2a3f5f\"},\"marker\":{\"line\":{\"color\":\"#E5ECF6\",\"width\":0.5},\"pattern\":{\"fillmode\":\"overlay\",\"size\":10,\"solidity\":0.2}},\"type\":\"bar\"}],\"barpolar\":[{\"marker\":{\"line\":{\"color\":\"#E5ECF6\",\"width\":0.5},\"pattern\":{\"fillmode\":\"overlay\",\"size\":10,\"solidity\":0.2}},\"type\":\"barpolar\"}],\"carpet\":[{\"aaxis\":{\"endlinecolor\":\"#2a3f5f\",\"gridcolor\":\"white\",\"linecolor\":\"white\",\"minorgridcolor\":\"white\",\"startlinecolor\":\"#2a3f5f\"},\"baxis\":{\"endlinecolor\":\"#2a3f5f\",\"gridcolor\":\"white\",\"linecolor\":\"white\",\"minorgridcolor\":\"white\",\"startlinecolor\":\"#2a3f5f\"},\"type\":\"carpet\"}],\"choropleth\":[{\"colorbar\":{\"outlinewidth\":0,\"ticks\":\"\"},\"type\":\"choropleth\"}],\"contour\":[{\"colorbar\":{\"outlinewidth\":0,\"ticks\":\"\"},\"colorscale\":[[0.0,\"#0d0887\"],[0.1111111111111111,\"#46039f\"],[0.2222222222222222,\"#7201a8\"],[0.3333333333333333,\"#9c179e\"],[0.4444444444444444,\"#bd3786\"],[0.5555555555555556,\"#d8576b\"],[0.6666666666666666,\"#ed7953\"],[0.7777777777777778,\"#fb9f3a\"],[0.8888888888888888,\"#fdca26\"],[1.0,\"#f0f921\"]],\"type\":\"contour\"}],\"contourcarpet\":[{\"colorbar\":{\"outlinewidth\":0,\"ticks\":\"\"},\"type\":\"contourcarpet\"}],\"heatmap\":[{\"colorbar\":{\"outlinewidth\":0,\"ticks\":\"\"},\"colorscale\":[[0.0,\"#0d0887\"],[0.1111111111111111,\"#46039f\"],[0.2222222222222222,\"#7201a8\"],[0.3333333333333333,\"#9c179e\"],[0.4444444444444444,\"#bd3786\"],[0.5555555555555556,\"#d8576b\"],[0.6666666666666666,\"#ed7953\"],[0.7777777777777778,\"#fb9f3a\"],[0.8888888888888888,\"#fdca26\"],[1.0,\"#f0f921\"]],\"type\":\"heatmap\"}],\"heatmapgl\":[{\"colorbar\":{\"outlinewidth\":0,\"ticks\":\"\"},\"colorscale\":[[0.0,\"#0d0887\"],[0.1111111111111111,\"#46039f\"],[0.2222222222222222,\"#7201a8\"],[0.3333333333333333,\"#9c179e\"],[0.4444444444444444,\"#bd3786\"],[0.5555555555555556,\"#d8576b\"],[0.6666666666666666,\"#ed7953\"],[0.7777777777777778,\"#fb9f3a\"],[0.8888888888888888,\"#fdca26\"],[1.0,\"#f0f921\"]],\"type\":\"heatmapgl\"}],\"histogram\":[{\"marker\":{\"pattern\":{\"fillmode\":\"overlay\",\"size\":10,\"solidity\":0.2}},\"type\":\"histogram\"}],\"histogram2d\":[{\"colorbar\":{\"outlinewidth\":0,\"ticks\":\"\"},\"colorscale\":[[0.0,\"#0d0887\"],[0.1111111111111111,\"#46039f\"],[0.2222222222222222,\"#7201a8\"],[0.3333333333333333,\"#9c179e\"],[0.4444444444444444,\"#bd3786\"],[0.5555555555555556,\"#d8576b\"],[0.6666666666666666,\"#ed7953\"],[0.7777777777777778,\"#fb9f3a\"],[0.8888888888888888,\"#fdca26\"],[1.0,\"#f0f921\"]],\"type\":\"histogram2d\"}],\"histogram2dcontour\":[{\"colorbar\":{\"outlinewidth\":0,\"ticks\":\"\"},\"colorscale\":[[0.0,\"#0d0887\"],[0.1111111111111111,\"#46039f\"],[0.2222222222222222,\"#7201a8\"],[0.3333333333333333,\"#9c179e\"],[0.4444444444444444,\"#bd3786\"],[0.5555555555555556,\"#d8576b\"],[0.6666666666666666,\"#ed7953\"],[0.7777777777777778,\"#fb9f3a\"],[0.8888888888888888,\"#fdca26\"],[1.0,\"#f0f921\"]],\"type\":\"histogram2dcontour\"}],\"mesh3d\":[{\"colorbar\":{\"outlinewidth\":0,\"ticks\":\"\"},\"type\":\"mesh3d\"}],\"parcoords\":[{\"line\":{\"colorbar\":{\"outlinewidth\":0,\"ticks\":\"\"}},\"type\":\"parcoords\"}],\"pie\":[{\"automargin\":true,\"type\":\"pie\"}],\"scatter\":[{\"marker\":{\"colorbar\":{\"outlinewidth\":0,\"ticks\":\"\"}},\"type\":\"scatter\"}],\"scatter3d\":[{\"line\":{\"colorbar\":{\"outlinewidth\":0,\"ticks\":\"\"}},\"marker\":{\"colorbar\":{\"outlinewidth\":0,\"ticks\":\"\"}},\"type\":\"scatter3d\"}],\"scattercarpet\":[{\"marker\":{\"colorbar\":{\"outlinewidth\":0,\"ticks\":\"\"}},\"type\":\"scattercarpet\"}],\"scattergeo\":[{\"marker\":{\"colorbar\":{\"outlinewidth\":0,\"ticks\":\"\"}},\"type\":\"scattergeo\"}],\"scattergl\":[{\"marker\":{\"colorbar\":{\"outlinewidth\":0,\"ticks\":\"\"}},\"type\":\"scattergl\"}],\"scattermapbox\":[{\"marker\":{\"colorbar\":{\"outlinewidth\":0,\"ticks\":\"\"}},\"type\":\"scattermapbox\"}],\"scatterpolar\":[{\"marker\":{\"colorbar\":{\"outlinewidth\":0,\"ticks\":\"\"}},\"type\":\"scatterpolar\"}],\"scatterpolargl\":[{\"marker\":{\"colorbar\":{\"outlinewidth\":0,\"ticks\":\"\"}},\"type\":\"scatterpolargl\"}],\"scatterternary\":[{\"marker\":{\"colorbar\":{\"outlinewidth\":0,\"ticks\":\"\"}},\"type\":\"scatterternary\"}],\"surface\":[{\"colorbar\":{\"outlinewidth\":0,\"ticks\":\"\"},\"colorscale\":[[0.0,\"#0d0887\"],[0.1111111111111111,\"#46039f\"],[0.2222222222222222,\"#7201a8\"],[0.3333333333333333,\"#9c179e\"],[0.4444444444444444,\"#bd3786\"],[0.5555555555555556,\"#d8576b\"],[0.6666666666666666,\"#ed7953\"],[0.7777777777777778,\"#fb9f3a\"],[0.8888888888888888,\"#fdca26\"],[1.0,\"#f0f921\"]],\"type\":\"surface\"}],\"table\":[{\"cells\":{\"fill\":{\"color\":\"#EBF0F8\"},\"line\":{\"color\":\"white\"}},\"header\":{\"fill\":{\"color\":\"#C8D4E3\"},\"line\":{\"color\":\"white\"}},\"type\":\"table\"}]},\"layout\":{\"annotationdefaults\":{\"arrowcolor\":\"#2a3f5f\",\"arrowhead\":0,\"arrowwidth\":1},\"autotypenumbers\":\"strict\",\"coloraxis\":{\"colorbar\":{\"outlinewidth\":0,\"ticks\":\"\"}},\"colorscale\":{\"diverging\":[[0,\"#8e0152\"],[0.1,\"#c51b7d\"],[0.2,\"#de77ae\"],[0.3,\"#f1b6da\"],[0.4,\"#fde0ef\"],[0.5,\"#f7f7f7\"],[0.6,\"#e6f5d0\"],[0.7,\"#b8e186\"],[0.8,\"#7fbc41\"],[0.9,\"#4d9221\"],[1,\"#276419\"]],\"sequential\":[[0.0,\"#0d0887\"],[0.1111111111111111,\"#46039f\"],[0.2222222222222222,\"#7201a8\"],[0.3333333333333333,\"#9c179e\"],[0.4444444444444444,\"#bd3786\"],[0.5555555555555556,\"#d8576b\"],[0.6666666666666666,\"#ed7953\"],[0.7777777777777778,\"#fb9f3a\"],[0.8888888888888888,\"#fdca26\"],[1.0,\"#f0f921\"]],\"sequentialminus\":[[0.0,\"#0d0887\"],[0.1111111111111111,\"#46039f\"],[0.2222222222222222,\"#7201a8\"],[0.3333333333333333,\"#9c179e\"],[0.4444444444444444,\"#bd3786\"],[0.5555555555555556,\"#d8576b\"],[0.6666666666666666,\"#ed7953\"],[0.7777777777777778,\"#fb9f3a\"],[0.8888888888888888,\"#fdca26\"],[1.0,\"#f0f921\"]]},\"colorway\":[\"#636efa\",\"#EF553B\",\"#00cc96\",\"#ab63fa\",\"#FFA15A\",\"#19d3f3\",\"#FF6692\",\"#B6E880\",\"#FF97FF\",\"#FECB52\"],\"font\":{\"color\":\"#2a3f5f\"},\"geo\":{\"bgcolor\":\"white\",\"lakecolor\":\"white\",\"landcolor\":\"#E5ECF6\",\"showlakes\":true,\"showland\":true,\"subunitcolor\":\"white\"},\"hoverlabel\":{\"align\":\"left\"},\"hovermode\":\"closest\",\"mapbox\":{\"style\":\"light\"},\"paper_bgcolor\":\"white\",\"plot_bgcolor\":\"#E5ECF6\",\"polar\":{\"angularaxis\":{\"gridcolor\":\"white\",\"linecolor\":\"white\",\"ticks\":\"\"},\"bgcolor\":\"#E5ECF6\",\"radialaxis\":{\"gridcolor\":\"white\",\"linecolor\":\"white\",\"ticks\":\"\"}},\"scene\":{\"xaxis\":{\"backgroundcolor\":\"#E5ECF6\",\"gridcolor\":\"white\",\"gridwidth\":2,\"linecolor\":\"white\",\"showbackground\":true,\"ticks\":\"\",\"zerolinecolor\":\"white\"},\"yaxis\":{\"backgroundcolor\":\"#E5ECF6\",\"gridcolor\":\"white\",\"gridwidth\":2,\"linecolor\":\"white\",\"showbackground\":true,\"ticks\":\"\",\"zerolinecolor\":\"white\"},\"zaxis\":{\"backgroundcolor\":\"#E5ECF6\",\"gridcolor\":\"white\",\"gridwidth\":2,\"linecolor\":\"white\",\"showbackground\":true,\"ticks\":\"\",\"zerolinecolor\":\"white\"}},\"shapedefaults\":{\"line\":{\"color\":\"#2a3f5f\"}},\"ternary\":{\"aaxis\":{\"gridcolor\":\"white\",\"linecolor\":\"white\",\"ticks\":\"\"},\"baxis\":{\"gridcolor\":\"white\",\"linecolor\":\"white\",\"ticks\":\"\"},\"bgcolor\":\"#E5ECF6\",\"caxis\":{\"gridcolor\":\"white\",\"linecolor\":\"white\",\"ticks\":\"\"}},\"title\":{\"x\":0.05},\"xaxis\":{\"automargin\":true,\"gridcolor\":\"white\",\"linecolor\":\"white\",\"ticks\":\"\",\"title\":{\"standoff\":15},\"zerolinecolor\":\"white\",\"zerolinewidth\":2},\"yaxis\":{\"automargin\":true,\"gridcolor\":\"white\",\"linecolor\":\"white\",\"ticks\":\"\",\"title\":{\"standoff\":15},\"zerolinecolor\":\"white\",\"zerolinewidth\":2}}},\"mapbox\":{\"domain\":{\"x\":[0.0,1.0],\"y\":[0.0,1.0]},\"center\":{\"lat\":-17.14,\"lon\":-57.33},\"zoom\":2.5,\"style\":\"open-street-map\"},\"coloraxis\":{\"colorbar\":{\"title\":{\"text\":\"Casos confirmados\"}},\"colorscale\":[[0.0,\"rgb(255,245,240)\"],[0.125,\"rgb(254,224,210)\"],[0.25,\"rgb(252,187,161)\"],[0.375,\"rgb(252,146,114)\"],[0.5,\"rgb(251,106,74)\"],[0.625,\"rgb(239,59,44)\"],[0.75,\"rgb(203,24,29)\"],[0.875,\"rgb(165,15,21)\"],[1.0,\"rgb(103,0,13)\"]],\"cmin\":0,\"cmax\":350,\"showscale\":false},\"legend\":{\"tracegroupgap\":0},\"title\":{\"text\":\"Casos confirmados de Monkeypox\"},\"height\":800,\"width\":1000,\"margin\":{\"r\":0,\"t\":0,\"l\":0,\"b\":0}},                        {\"responsive\": true}                    ).then(function(){\n",
              "                            \n",
              "var gd = document.getElementById('91344c50-c43e-43ef-bc18-142daf1bbed3');\n",
              "var x = new MutationObserver(function (mutations, observer) {{\n",
              "        var display = window.getComputedStyle(gd).display;\n",
              "        if (!display || display === 'none') {{\n",
              "            console.log([gd, 'removed!']);\n",
              "            Plotly.purge(gd);\n",
              "            observer.disconnect();\n",
              "        }}\n",
              "}});\n",
              "\n",
              "// Listen for the removal of the full notebook cells\n",
              "var notebookContainer = gd.closest('#notebook-container');\n",
              "if (notebookContainer) {{\n",
              "    x.observe(notebookContainer, {childList: true});\n",
              "}}\n",
              "\n",
              "// Listen for the clearing of the current output cell\n",
              "var outputEl = gd.closest('.output');\n",
              "if (outputEl) {{\n",
              "    x.observe(outputEl, {childList: true});\n",
              "}}\n",
              "\n",
              "                        })                };                            </script>        </div>\n",
              "</body>\n",
              "</html>"
            ]
          },
          "metadata": {}
        }
      ]
    },
    {
      "cell_type": "markdown",
      "source": [
        "Analisando o gráfico é possível observar que os estados da região Sudeste têm maior número de casos do que o restante do país, como observado no gráfico de barras anterior. São Paulo é o estado com mais casos (2019), seguido por Rio de Janeiro (314) e Minas Gerais (133). Os estados da região norte são os que tem menor incidência da doença, pois nessa região a taxa de povoamento é baixa."
      ],
      "metadata": {
        "id": "L1lv3eSXKabL"
      }
    }
  ]
}